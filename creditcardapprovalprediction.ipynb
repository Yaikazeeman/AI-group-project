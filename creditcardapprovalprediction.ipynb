{
 "cells": [
  {
   "cell_type": "code",
   "execution_count": 1,
   "id": "b778997c",
   "metadata": {
    "_cell_guid": "b1076dfc-b9ad-4769-8c92-a6c4dae69d19",
    "_uuid": "8f2839f25d086af736a60e9eeb907d3b93b6e0e5",
    "execution": {
     "iopub.execute_input": "2022-02-15T21:35:37.035712Z",
     "iopub.status.busy": "2022-02-15T21:35:37.034889Z",
     "iopub.status.idle": "2022-02-15T21:35:37.047567Z",
     "shell.execute_reply": "2022-02-15T21:35:37.048077Z",
     "shell.execute_reply.started": "2022-02-15T20:25:42.226689Z"
    },
    "papermill": {
     "duration": 0.119279,
     "end_time": "2022-02-15T21:35:37.048385",
     "exception": false,
     "start_time": "2022-02-15T21:35:36.929106",
     "status": "completed"
    },
    "tags": []
   },
   "outputs": [
    {
     "name": "stdout",
     "output_type": "stream",
     "text": [
      "/kaggle/input/credit-card-approval-prediction/credit_record.csv\n",
      "/kaggle/input/credit-card-approval-prediction/application_record.csv\n"
     ]
    }
   ],
   "source": [
    "\n",
    "# Input data files are available in the read-only \"../input/\" directory\n",
    "# For example, running this (by clicking run or pressing Shift+Enter) will list all files under the input directory\n",
    "\n",
    "import os\n",
    "for dirname, _, filenames in os.walk('/kaggle/input'):\n",
    "    for filename in filenames:\n",
    "        print(os.path.join(dirname, filename))\n",
    "\n",
    "# You can write up to 20GB to the current directory (/kaggle/working/) that gets preserved as output when you create a version using \"Save & Run All\" \n",
    "# You can also write temporary files to /kaggle/temp/, but they won't be saved outside of the current session"
   ]
  },
  {
   "cell_type": "markdown",
   "id": "74e4a284",
   "metadata": {
    "papermill": {
     "duration": 0.091378,
     "end_time": "2022-02-15T21:35:37.235370",
     "exception": false,
     "start_time": "2022-02-15T21:35:37.143992",
     "status": "completed"
    },
    "tags": []
   },
   "source": [
    "# Importing packages"
   ]
  },
  {
   "cell_type": "code",
   "execution_count": 2,
   "id": "0db1ab06",
   "metadata": {
    "execution": {
     "iopub.execute_input": "2022-02-15T21:35:37.447805Z",
     "iopub.status.busy": "2022-02-15T21:35:37.446731Z",
     "iopub.status.idle": "2022-02-15T21:35:38.796118Z",
     "shell.execute_reply": "2022-02-15T21:35:38.794993Z",
     "shell.execute_reply.started": "2022-02-15T20:27:19.161137Z"
    },
    "papermill": {
     "duration": 1.465676,
     "end_time": "2022-02-15T21:35:38.796290",
     "exception": false,
     "start_time": "2022-02-15T21:35:37.330614",
     "status": "completed"
    },
    "tags": []
   },
   "outputs": [],
   "source": [
    "import numpy as np\n",
    "import pandas as pd\n",
    "import matplotlib.pyplot as plt\n",
    "import seaborn as sns\n",
    "\n",
    "sns.set()\n",
    "pd.set_option('max_colwidth', 100)\n",
    "\n",
    "\n",
    "from sklearn.pipeline import Pipeline\n",
    "from sklearn.compose import ColumnTransformer\n",
    "from sklearn.preprocessing import FunctionTransformer\n",
    "from sklearn.preprocessing import OneHotEncoder\n",
    "#from sklearn.preprocessing import StandardScaler\n",
    "#from sklearn.preprocessing import PowerTransformer\n",
    "from sklearn.preprocessing import LabelEncoder\n",
    "#from sklearn.decomposition import PCA\n",
    "from sklearn.preprocessing import MinMaxScaler\n",
    "\n",
    "#from sklearn.linear_model import LogisticRegression\n",
    "from sklearn.ensemble import RandomForestClassifier\n",
    "#from xgboost.sklearn import XGBClassifier\n",
    "from sklearn.neighbors import KNeighborsClassifier\n",
    "from sklearn.ensemble import AdaBoostClassifier\n",
    "#from sklearn.ensemble import GradientBoostingClassifier\n",
    "#from sklearn.svm import SVC\n",
    "#from sklearn.ensemble import VotingClassifier\n",
    "\n",
    "\n",
    "from sklearn.model_selection import RandomizedSearchCV\n",
    "\n",
    "from sklearn.model_selection import train_test_split\n",
    "\n",
    "#from scipy import stats\n",
    "from sklearn.model_selection import cross_val_score\n",
    "from sklearn.model_selection import cross_validate\n",
    "from sklearn.metrics import confusion_matrix\n",
    "from sklearn.metrics import plot_confusion_matrix\n",
    "from sklearn.metrics import f1_score"
   ]
  },
  {
   "cell_type": "markdown",
   "id": "15531a4a",
   "metadata": {
    "papermill": {
     "duration": 0.092079,
     "end_time": "2022-02-15T21:35:38.979641",
     "exception": false,
     "start_time": "2022-02-15T21:35:38.887562",
     "status": "completed"
    },
    "tags": []
   },
   "source": [
    "# Loading the data"
   ]
  },
  {
   "cell_type": "code",
   "execution_count": 3,
   "id": "e929c9c3",
   "metadata": {
    "execution": {
     "iopub.execute_input": "2022-02-15T21:35:39.170365Z",
     "iopub.status.busy": "2022-02-15T21:35:39.169663Z",
     "iopub.status.idle": "2022-02-15T21:35:41.075223Z",
     "shell.execute_reply": "2022-02-15T21:35:41.074683Z",
     "shell.execute_reply.started": "2022-02-15T20:25:44.153895Z"
    },
    "papermill": {
     "duration": 2.003523,
     "end_time": "2022-02-15T21:35:41.075426",
     "exception": false,
     "start_time": "2022-02-15T21:35:39.071903",
     "status": "completed"
    },
    "tags": []
   },
   "outputs": [],
   "source": [
    "credit_record_df = pd.read_csv(\"/kaggle/input/credit-card-approval-prediction/credit_record.csv\")\n",
    "application_record_df = pd.read_csv(\"/kaggle/input/credit-card-approval-prediction/application_record.csv\")"
   ]
  },
  {
   "cell_type": "markdown",
   "id": "b11f6ea9",
   "metadata": {
    "papermill": {
     "duration": 0.091294,
     "end_time": "2022-02-15T21:35:41.258370",
     "exception": false,
     "start_time": "2022-02-15T21:35:41.167076",
     "status": "completed"
    },
    "tags": []
   },
   "source": [
    "# Exploring credit records"
   ]
  },
  {
   "cell_type": "code",
   "execution_count": 4,
   "id": "76b3901f",
   "metadata": {
    "execution": {
     "iopub.execute_input": "2022-02-15T21:35:41.444571Z",
     "iopub.status.busy": "2022-02-15T21:35:41.443898Z",
     "iopub.status.idle": "2022-02-15T21:35:41.461468Z",
     "shell.execute_reply": "2022-02-15T21:35:41.460802Z",
     "shell.execute_reply.started": "2022-02-15T20:25:46.430554Z"
    },
    "papermill": {
     "duration": 0.111722,
     "end_time": "2022-02-15T21:35:41.461613",
     "exception": false,
     "start_time": "2022-02-15T21:35:41.349891",
     "status": "completed"
    },
    "tags": []
   },
   "outputs": [
    {
     "data": {
      "text/html": [
       "<div>\n",
       "<style scoped>\n",
       "    .dataframe tbody tr th:only-of-type {\n",
       "        vertical-align: middle;\n",
       "    }\n",
       "\n",
       "    .dataframe tbody tr th {\n",
       "        vertical-align: top;\n",
       "    }\n",
       "\n",
       "    .dataframe thead th {\n",
       "        text-align: right;\n",
       "    }\n",
       "</style>\n",
       "<table border=\"1\" class=\"dataframe\">\n",
       "  <thead>\n",
       "    <tr style=\"text-align: right;\">\n",
       "      <th></th>\n",
       "      <th>ID</th>\n",
       "      <th>MONTHS_BALANCE</th>\n",
       "      <th>STATUS</th>\n",
       "    </tr>\n",
       "  </thead>\n",
       "  <tbody>\n",
       "    <tr>\n",
       "      <th>0</th>\n",
       "      <td>5001711</td>\n",
       "      <td>0</td>\n",
       "      <td>X</td>\n",
       "    </tr>\n",
       "    <tr>\n",
       "      <th>1</th>\n",
       "      <td>5001711</td>\n",
       "      <td>-1</td>\n",
       "      <td>0</td>\n",
       "    </tr>\n",
       "    <tr>\n",
       "      <th>2</th>\n",
       "      <td>5001711</td>\n",
       "      <td>-2</td>\n",
       "      <td>0</td>\n",
       "    </tr>\n",
       "    <tr>\n",
       "      <th>3</th>\n",
       "      <td>5001711</td>\n",
       "      <td>-3</td>\n",
       "      <td>0</td>\n",
       "    </tr>\n",
       "    <tr>\n",
       "      <th>4</th>\n",
       "      <td>5001712</td>\n",
       "      <td>0</td>\n",
       "      <td>C</td>\n",
       "    </tr>\n",
       "  </tbody>\n",
       "</table>\n",
       "</div>"
      ],
      "text/plain": [
       "        ID  MONTHS_BALANCE STATUS\n",
       "0  5001711               0      X\n",
       "1  5001711              -1      0\n",
       "2  5001711              -2      0\n",
       "3  5001711              -3      0\n",
       "4  5001712               0      C"
      ]
     },
     "execution_count": 4,
     "metadata": {},
     "output_type": "execute_result"
    }
   ],
   "source": [
    "credit_record_df.head()"
   ]
  },
  {
   "cell_type": "code",
   "execution_count": 5,
   "id": "fce408ab",
   "metadata": {
    "execution": {
     "iopub.execute_input": "2022-02-15T21:35:41.761475Z",
     "iopub.status.busy": "2022-02-15T21:35:41.760759Z",
     "iopub.status.idle": "2022-02-15T21:35:41.786829Z",
     "shell.execute_reply": "2022-02-15T21:35:41.785713Z",
     "shell.execute_reply.started": "2022-02-15T20:25:46.446500Z"
    },
    "papermill": {
     "duration": 0.233065,
     "end_time": "2022-02-15T21:35:41.786980",
     "exception": false,
     "start_time": "2022-02-15T21:35:41.553915",
     "status": "completed"
    },
    "tags": []
   },
   "outputs": [
    {
     "name": "stdout",
     "output_type": "stream",
     "text": [
      "<class 'pandas.core.frame.DataFrame'>\n",
      "RangeIndex: 1048575 entries, 0 to 1048574\n",
      "Data columns (total 3 columns):\n",
      " #   Column          Non-Null Count    Dtype \n",
      "---  ------          --------------    ----- \n",
      " 0   ID              1048575 non-null  int64 \n",
      " 1   MONTHS_BALANCE  1048575 non-null  int64 \n",
      " 2   STATUS          1048575 non-null  object\n",
      "dtypes: int64(2), object(1)\n",
      "memory usage: 24.0+ MB\n"
     ]
    }
   ],
   "source": [
    "credit_record_df.info()"
   ]
  },
  {
   "cell_type": "markdown",
   "id": "49def5c3",
   "metadata": {
    "papermill": {
     "duration": 0.092821,
     "end_time": "2022-02-15T21:35:41.971995",
     "exception": false,
     "start_time": "2022-02-15T21:35:41.879174",
     "status": "completed"
    },
    "tags": []
   },
   "source": [
    "No missing data"
   ]
  },
  {
   "cell_type": "code",
   "execution_count": 6,
   "id": "6b103186",
   "metadata": {
    "execution": {
     "iopub.execute_input": "2022-02-15T21:35:42.162238Z",
     "iopub.status.busy": "2022-02-15T21:35:42.161569Z",
     "iopub.status.idle": "2022-02-15T21:35:42.455774Z",
     "shell.execute_reply": "2022-02-15T21:35:42.456232Z",
     "shell.execute_reply.started": "2022-02-15T20:25:46.567029Z"
    },
    "papermill": {
     "duration": 0.392252,
     "end_time": "2022-02-15T21:35:42.456421",
     "exception": false,
     "start_time": "2022-02-15T21:35:42.064169",
     "status": "completed"
    },
    "tags": []
   },
   "outputs": [
    {
     "name": "stdout",
     "output_type": "stream",
     "text": [
      "Number of duplicated rows:  0\n"
     ]
    }
   ],
   "source": [
    "print(\"Number of duplicated rows: \",sum(credit_record_df.duplicated()))"
   ]
  },
  {
   "cell_type": "markdown",
   "id": "d11fa101",
   "metadata": {
    "papermill": {
     "duration": 0.092175,
     "end_time": "2022-02-15T21:35:42.642287",
     "exception": false,
     "start_time": "2022-02-15T21:35:42.550112",
     "status": "completed"
    },
    "tags": []
   },
   "source": [
    "No duplicated records"
   ]
  },
  {
   "cell_type": "code",
   "execution_count": 7,
   "id": "b36a3f33",
   "metadata": {
    "execution": {
     "iopub.execute_input": "2022-02-15T21:35:42.831504Z",
     "iopub.status.busy": "2022-02-15T21:35:42.830829Z",
     "iopub.status.idle": "2022-02-15T21:35:42.990694Z",
     "shell.execute_reply": "2022-02-15T21:35:42.990179Z",
     "shell.execute_reply.started": "2022-02-15T20:25:46.921576Z"
    },
    "papermill": {
     "duration": 0.255428,
     "end_time": "2022-02-15T21:35:42.990845",
     "exception": false,
     "start_time": "2022-02-15T21:35:42.735417",
     "status": "completed"
    },
    "tags": []
   },
   "outputs": [
    {
     "data": {
      "text/plain": [
       "61"
      ]
     },
     "execution_count": 7,
     "metadata": {},
     "output_type": "execute_result"
    }
   ],
   "source": [
    "len(set(credit_record_df['MONTHS_BALANCE'])) #credit history stored up to 5 years (60 months)"
   ]
  },
  {
   "cell_type": "code",
   "execution_count": 8,
   "id": "96310c5a",
   "metadata": {
    "execution": {
     "iopub.execute_input": "2022-02-15T21:35:43.183464Z",
     "iopub.status.busy": "2022-02-15T21:35:43.182831Z",
     "iopub.status.idle": "2022-02-15T21:35:43.196098Z",
     "shell.execute_reply": "2022-02-15T21:35:43.196581Z",
     "shell.execute_reply.started": "2022-02-15T20:25:47.137109Z"
    },
    "papermill": {
     "duration": 0.112097,
     "end_time": "2022-02-15T21:35:43.196756",
     "exception": false,
     "start_time": "2022-02-15T21:35:43.084659",
     "status": "completed"
    },
    "tags": []
   },
   "outputs": [
    {
     "name": "stdout",
     "output_type": "stream",
     "text": [
      "Number of unique IDs:  45985\n"
     ]
    }
   ],
   "source": [
    "print(\"Number of unique IDs: \",len(credit_record_df['ID'].unique())) #number of unique IDs"
   ]
  },
  {
   "cell_type": "markdown",
   "id": "949a007b",
   "metadata": {
    "papermill": {
     "duration": 0.092847,
     "end_time": "2022-02-15T21:35:43.383465",
     "exception": false,
     "start_time": "2022-02-15T21:35:43.290618",
     "status": "completed"
    },
    "tags": []
   },
   "source": [
    "We notice that # unique IDs are less than # rows.  \n",
    "To explore why this is the case:"
   ]
  },
  {
   "cell_type": "code",
   "execution_count": 9,
   "id": "8129eab8",
   "metadata": {
    "execution": {
     "iopub.execute_input": "2022-02-15T21:35:43.573487Z",
     "iopub.status.busy": "2022-02-15T21:35:43.572837Z",
     "iopub.status.idle": "2022-02-15T21:35:43.592456Z",
     "shell.execute_reply": "2022-02-15T21:35:43.592970Z",
     "shell.execute_reply.started": "2022-02-15T20:25:48.996436Z"
    },
    "papermill": {
     "duration": 0.116456,
     "end_time": "2022-02-15T21:35:43.593138",
     "exception": false,
     "start_time": "2022-02-15T21:35:43.476682",
     "status": "completed"
    },
    "tags": []
   },
   "outputs": [
    {
     "data": {
      "text/plain": [
       "5016769    61\n",
       "5002806    61\n",
       "5118192    61\n",
       "5145767    61\n",
       "5078567    61\n",
       "           ..\n",
       "5028795     1\n",
       "5148442     1\n",
       "5053900     1\n",
       "5046332     1\n",
       "5079047     1\n",
       "Name: ID, Length: 45985, dtype: int64"
      ]
     },
     "execution_count": 9,
     "metadata": {},
     "output_type": "execute_result"
    }
   ],
   "source": [
    "credit_record_df['ID'].value_counts()"
   ]
  },
  {
   "cell_type": "code",
   "execution_count": 10,
   "id": "630c73f4",
   "metadata": {
    "execution": {
     "iopub.execute_input": "2022-02-15T21:35:43.783874Z",
     "iopub.status.busy": "2022-02-15T21:35:43.783151Z",
     "iopub.status.idle": "2022-02-15T21:35:43.796852Z",
     "shell.execute_reply": "2022-02-15T21:35:43.797310Z",
     "shell.execute_reply.started": "2022-02-15T20:25:49.297445Z"
    },
    "papermill": {
     "duration": 0.110684,
     "end_time": "2022-02-15T21:35:43.797487",
     "exception": false,
     "start_time": "2022-02-15T21:35:43.686803",
     "status": "completed"
    },
    "tags": []
   },
   "outputs": [
    {
     "data": {
      "text/html": [
       "<div>\n",
       "<style scoped>\n",
       "    .dataframe tbody tr th:only-of-type {\n",
       "        vertical-align: middle;\n",
       "    }\n",
       "\n",
       "    .dataframe tbody tr th {\n",
       "        vertical-align: top;\n",
       "    }\n",
       "\n",
       "    .dataframe thead th {\n",
       "        text-align: right;\n",
       "    }\n",
       "</style>\n",
       "<table border=\"1\" class=\"dataframe\">\n",
       "  <thead>\n",
       "    <tr style=\"text-align: right;\">\n",
       "      <th></th>\n",
       "      <th>ID</th>\n",
       "      <th>MONTHS_BALANCE</th>\n",
       "      <th>STATUS</th>\n",
       "    </tr>\n",
       "  </thead>\n",
       "  <tbody>\n",
       "    <tr>\n",
       "      <th>183260</th>\n",
       "      <td>5016769</td>\n",
       "      <td>0</td>\n",
       "      <td>C</td>\n",
       "    </tr>\n",
       "    <tr>\n",
       "      <th>183261</th>\n",
       "      <td>5016769</td>\n",
       "      <td>-1</td>\n",
       "      <td>C</td>\n",
       "    </tr>\n",
       "    <tr>\n",
       "      <th>183262</th>\n",
       "      <td>5016769</td>\n",
       "      <td>-2</td>\n",
       "      <td>C</td>\n",
       "    </tr>\n",
       "    <tr>\n",
       "      <th>183263</th>\n",
       "      <td>5016769</td>\n",
       "      <td>-3</td>\n",
       "      <td>C</td>\n",
       "    </tr>\n",
       "    <tr>\n",
       "      <th>183264</th>\n",
       "      <td>5016769</td>\n",
       "      <td>-4</td>\n",
       "      <td>C</td>\n",
       "    </tr>\n",
       "    <tr>\n",
       "      <th>...</th>\n",
       "      <td>...</td>\n",
       "      <td>...</td>\n",
       "      <td>...</td>\n",
       "    </tr>\n",
       "    <tr>\n",
       "      <th>183316</th>\n",
       "      <td>5016769</td>\n",
       "      <td>-56</td>\n",
       "      <td>1</td>\n",
       "    </tr>\n",
       "    <tr>\n",
       "      <th>183317</th>\n",
       "      <td>5016769</td>\n",
       "      <td>-57</td>\n",
       "      <td>0</td>\n",
       "    </tr>\n",
       "    <tr>\n",
       "      <th>183318</th>\n",
       "      <td>5016769</td>\n",
       "      <td>-58</td>\n",
       "      <td>0</td>\n",
       "    </tr>\n",
       "    <tr>\n",
       "      <th>183319</th>\n",
       "      <td>5016769</td>\n",
       "      <td>-59</td>\n",
       "      <td>0</td>\n",
       "    </tr>\n",
       "    <tr>\n",
       "      <th>183320</th>\n",
       "      <td>5016769</td>\n",
       "      <td>-60</td>\n",
       "      <td>X</td>\n",
       "    </tr>\n",
       "  </tbody>\n",
       "</table>\n",
       "<p>61 rows × 3 columns</p>\n",
       "</div>"
      ],
      "text/plain": [
       "             ID  MONTHS_BALANCE STATUS\n",
       "183260  5016769               0      C\n",
       "183261  5016769              -1      C\n",
       "183262  5016769              -2      C\n",
       "183263  5016769              -3      C\n",
       "183264  5016769              -4      C\n",
       "...         ...             ...    ...\n",
       "183316  5016769             -56      1\n",
       "183317  5016769             -57      0\n",
       "183318  5016769             -58      0\n",
       "183319  5016769             -59      0\n",
       "183320  5016769             -60      X\n",
       "\n",
       "[61 rows x 3 columns]"
      ]
     },
     "execution_count": 10,
     "metadata": {},
     "output_type": "execute_result"
    }
   ],
   "source": [
    "credit_record_df[credit_record_df['ID']==5016769] #Taking ID 5016769 as an example"
   ]
  },
  {
   "cell_type": "markdown",
   "id": "f06f8607",
   "metadata": {
    "papermill": {
     "duration": 0.093776,
     "end_time": "2022-02-15T21:35:43.985376",
     "exception": false,
     "start_time": "2022-02-15T21:35:43.891600",
     "status": "completed"
    },
    "tags": []
   },
   "source": [
    "Some IDs have their status recorded across multiple months. So each ID-month pair identifies a unique instance"
   ]
  },
  {
   "cell_type": "markdown",
   "id": "8d5e252a",
   "metadata": {
    "papermill": {
     "duration": 0.093698,
     "end_time": "2022-02-15T21:35:44.174466",
     "exception": false,
     "start_time": "2022-02-15T21:35:44.080768",
     "status": "completed"
    },
    "tags": []
   },
   "source": [
    "# Exploring application records"
   ]
  },
  {
   "cell_type": "code",
   "execution_count": 11,
   "id": "00154328",
   "metadata": {
    "execution": {
     "iopub.execute_input": "2022-02-15T21:35:44.365838Z",
     "iopub.status.busy": "2022-02-15T21:35:44.365208Z",
     "iopub.status.idle": "2022-02-15T21:35:44.386216Z",
     "shell.execute_reply": "2022-02-15T21:35:44.386705Z",
     "shell.execute_reply.started": "2022-02-15T20:25:49.979810Z"
    },
    "papermill": {
     "duration": 0.118054,
     "end_time": "2022-02-15T21:35:44.386881",
     "exception": false,
     "start_time": "2022-02-15T21:35:44.268827",
     "status": "completed"
    },
    "tags": []
   },
   "outputs": [
    {
     "data": {
      "text/html": [
       "<div>\n",
       "<style scoped>\n",
       "    .dataframe tbody tr th:only-of-type {\n",
       "        vertical-align: middle;\n",
       "    }\n",
       "\n",
       "    .dataframe tbody tr th {\n",
       "        vertical-align: top;\n",
       "    }\n",
       "\n",
       "    .dataframe thead th {\n",
       "        text-align: right;\n",
       "    }\n",
       "</style>\n",
       "<table border=\"1\" class=\"dataframe\">\n",
       "  <thead>\n",
       "    <tr style=\"text-align: right;\">\n",
       "      <th></th>\n",
       "      <th>ID</th>\n",
       "      <th>CODE_GENDER</th>\n",
       "      <th>FLAG_OWN_CAR</th>\n",
       "      <th>FLAG_OWN_REALTY</th>\n",
       "      <th>CNT_CHILDREN</th>\n",
       "      <th>AMT_INCOME_TOTAL</th>\n",
       "      <th>NAME_INCOME_TYPE</th>\n",
       "      <th>NAME_EDUCATION_TYPE</th>\n",
       "      <th>NAME_FAMILY_STATUS</th>\n",
       "      <th>NAME_HOUSING_TYPE</th>\n",
       "      <th>DAYS_BIRTH</th>\n",
       "      <th>DAYS_EMPLOYED</th>\n",
       "      <th>FLAG_MOBIL</th>\n",
       "      <th>FLAG_WORK_PHONE</th>\n",
       "      <th>FLAG_PHONE</th>\n",
       "      <th>FLAG_EMAIL</th>\n",
       "      <th>OCCUPATION_TYPE</th>\n",
       "      <th>CNT_FAM_MEMBERS</th>\n",
       "    </tr>\n",
       "  </thead>\n",
       "  <tbody>\n",
       "    <tr>\n",
       "      <th>0</th>\n",
       "      <td>5008804</td>\n",
       "      <td>M</td>\n",
       "      <td>Y</td>\n",
       "      <td>Y</td>\n",
       "      <td>0</td>\n",
       "      <td>427500.0</td>\n",
       "      <td>Working</td>\n",
       "      <td>Higher education</td>\n",
       "      <td>Civil marriage</td>\n",
       "      <td>Rented apartment</td>\n",
       "      <td>-12005</td>\n",
       "      <td>-4542</td>\n",
       "      <td>1</td>\n",
       "      <td>1</td>\n",
       "      <td>0</td>\n",
       "      <td>0</td>\n",
       "      <td>NaN</td>\n",
       "      <td>2.0</td>\n",
       "    </tr>\n",
       "    <tr>\n",
       "      <th>1</th>\n",
       "      <td>5008805</td>\n",
       "      <td>M</td>\n",
       "      <td>Y</td>\n",
       "      <td>Y</td>\n",
       "      <td>0</td>\n",
       "      <td>427500.0</td>\n",
       "      <td>Working</td>\n",
       "      <td>Higher education</td>\n",
       "      <td>Civil marriage</td>\n",
       "      <td>Rented apartment</td>\n",
       "      <td>-12005</td>\n",
       "      <td>-4542</td>\n",
       "      <td>1</td>\n",
       "      <td>1</td>\n",
       "      <td>0</td>\n",
       "      <td>0</td>\n",
       "      <td>NaN</td>\n",
       "      <td>2.0</td>\n",
       "    </tr>\n",
       "    <tr>\n",
       "      <th>2</th>\n",
       "      <td>5008806</td>\n",
       "      <td>M</td>\n",
       "      <td>Y</td>\n",
       "      <td>Y</td>\n",
       "      <td>0</td>\n",
       "      <td>112500.0</td>\n",
       "      <td>Working</td>\n",
       "      <td>Secondary / secondary special</td>\n",
       "      <td>Married</td>\n",
       "      <td>House / apartment</td>\n",
       "      <td>-21474</td>\n",
       "      <td>-1134</td>\n",
       "      <td>1</td>\n",
       "      <td>0</td>\n",
       "      <td>0</td>\n",
       "      <td>0</td>\n",
       "      <td>Security staff</td>\n",
       "      <td>2.0</td>\n",
       "    </tr>\n",
       "    <tr>\n",
       "      <th>3</th>\n",
       "      <td>5008808</td>\n",
       "      <td>F</td>\n",
       "      <td>N</td>\n",
       "      <td>Y</td>\n",
       "      <td>0</td>\n",
       "      <td>270000.0</td>\n",
       "      <td>Commercial associate</td>\n",
       "      <td>Secondary / secondary special</td>\n",
       "      <td>Single / not married</td>\n",
       "      <td>House / apartment</td>\n",
       "      <td>-19110</td>\n",
       "      <td>-3051</td>\n",
       "      <td>1</td>\n",
       "      <td>0</td>\n",
       "      <td>1</td>\n",
       "      <td>1</td>\n",
       "      <td>Sales staff</td>\n",
       "      <td>1.0</td>\n",
       "    </tr>\n",
       "    <tr>\n",
       "      <th>4</th>\n",
       "      <td>5008809</td>\n",
       "      <td>F</td>\n",
       "      <td>N</td>\n",
       "      <td>Y</td>\n",
       "      <td>0</td>\n",
       "      <td>270000.0</td>\n",
       "      <td>Commercial associate</td>\n",
       "      <td>Secondary / secondary special</td>\n",
       "      <td>Single / not married</td>\n",
       "      <td>House / apartment</td>\n",
       "      <td>-19110</td>\n",
       "      <td>-3051</td>\n",
       "      <td>1</td>\n",
       "      <td>0</td>\n",
       "      <td>1</td>\n",
       "      <td>1</td>\n",
       "      <td>Sales staff</td>\n",
       "      <td>1.0</td>\n",
       "    </tr>\n",
       "    <tr>\n",
       "      <th>5</th>\n",
       "      <td>5008810</td>\n",
       "      <td>F</td>\n",
       "      <td>N</td>\n",
       "      <td>Y</td>\n",
       "      <td>0</td>\n",
       "      <td>270000.0</td>\n",
       "      <td>Commercial associate</td>\n",
       "      <td>Secondary / secondary special</td>\n",
       "      <td>Single / not married</td>\n",
       "      <td>House / apartment</td>\n",
       "      <td>-19110</td>\n",
       "      <td>-3051</td>\n",
       "      <td>1</td>\n",
       "      <td>0</td>\n",
       "      <td>1</td>\n",
       "      <td>1</td>\n",
       "      <td>Sales staff</td>\n",
       "      <td>1.0</td>\n",
       "    </tr>\n",
       "    <tr>\n",
       "      <th>6</th>\n",
       "      <td>5008811</td>\n",
       "      <td>F</td>\n",
       "      <td>N</td>\n",
       "      <td>Y</td>\n",
       "      <td>0</td>\n",
       "      <td>270000.0</td>\n",
       "      <td>Commercial associate</td>\n",
       "      <td>Secondary / secondary special</td>\n",
       "      <td>Single / not married</td>\n",
       "      <td>House / apartment</td>\n",
       "      <td>-19110</td>\n",
       "      <td>-3051</td>\n",
       "      <td>1</td>\n",
       "      <td>0</td>\n",
       "      <td>1</td>\n",
       "      <td>1</td>\n",
       "      <td>Sales staff</td>\n",
       "      <td>1.0</td>\n",
       "    </tr>\n",
       "    <tr>\n",
       "      <th>7</th>\n",
       "      <td>5008812</td>\n",
       "      <td>F</td>\n",
       "      <td>N</td>\n",
       "      <td>Y</td>\n",
       "      <td>0</td>\n",
       "      <td>283500.0</td>\n",
       "      <td>Pensioner</td>\n",
       "      <td>Higher education</td>\n",
       "      <td>Separated</td>\n",
       "      <td>House / apartment</td>\n",
       "      <td>-22464</td>\n",
       "      <td>365243</td>\n",
       "      <td>1</td>\n",
       "      <td>0</td>\n",
       "      <td>0</td>\n",
       "      <td>0</td>\n",
       "      <td>NaN</td>\n",
       "      <td>1.0</td>\n",
       "    </tr>\n",
       "    <tr>\n",
       "      <th>8</th>\n",
       "      <td>5008813</td>\n",
       "      <td>F</td>\n",
       "      <td>N</td>\n",
       "      <td>Y</td>\n",
       "      <td>0</td>\n",
       "      <td>283500.0</td>\n",
       "      <td>Pensioner</td>\n",
       "      <td>Higher education</td>\n",
       "      <td>Separated</td>\n",
       "      <td>House / apartment</td>\n",
       "      <td>-22464</td>\n",
       "      <td>365243</td>\n",
       "      <td>1</td>\n",
       "      <td>0</td>\n",
       "      <td>0</td>\n",
       "      <td>0</td>\n",
       "      <td>NaN</td>\n",
       "      <td>1.0</td>\n",
       "    </tr>\n",
       "    <tr>\n",
       "      <th>9</th>\n",
       "      <td>5008814</td>\n",
       "      <td>F</td>\n",
       "      <td>N</td>\n",
       "      <td>Y</td>\n",
       "      <td>0</td>\n",
       "      <td>283500.0</td>\n",
       "      <td>Pensioner</td>\n",
       "      <td>Higher education</td>\n",
       "      <td>Separated</td>\n",
       "      <td>House / apartment</td>\n",
       "      <td>-22464</td>\n",
       "      <td>365243</td>\n",
       "      <td>1</td>\n",
       "      <td>0</td>\n",
       "      <td>0</td>\n",
       "      <td>0</td>\n",
       "      <td>NaN</td>\n",
       "      <td>1.0</td>\n",
       "    </tr>\n",
       "  </tbody>\n",
       "</table>\n",
       "</div>"
      ],
      "text/plain": [
       "        ID CODE_GENDER FLAG_OWN_CAR FLAG_OWN_REALTY  CNT_CHILDREN  \\\n",
       "0  5008804           M            Y               Y             0   \n",
       "1  5008805           M            Y               Y             0   \n",
       "2  5008806           M            Y               Y             0   \n",
       "3  5008808           F            N               Y             0   \n",
       "4  5008809           F            N               Y             0   \n",
       "5  5008810           F            N               Y             0   \n",
       "6  5008811           F            N               Y             0   \n",
       "7  5008812           F            N               Y             0   \n",
       "8  5008813           F            N               Y             0   \n",
       "9  5008814           F            N               Y             0   \n",
       "\n",
       "   AMT_INCOME_TOTAL      NAME_INCOME_TYPE            NAME_EDUCATION_TYPE  \\\n",
       "0          427500.0               Working               Higher education   \n",
       "1          427500.0               Working               Higher education   \n",
       "2          112500.0               Working  Secondary / secondary special   \n",
       "3          270000.0  Commercial associate  Secondary / secondary special   \n",
       "4          270000.0  Commercial associate  Secondary / secondary special   \n",
       "5          270000.0  Commercial associate  Secondary / secondary special   \n",
       "6          270000.0  Commercial associate  Secondary / secondary special   \n",
       "7          283500.0             Pensioner               Higher education   \n",
       "8          283500.0             Pensioner               Higher education   \n",
       "9          283500.0             Pensioner               Higher education   \n",
       "\n",
       "     NAME_FAMILY_STATUS  NAME_HOUSING_TYPE  DAYS_BIRTH  DAYS_EMPLOYED  \\\n",
       "0        Civil marriage   Rented apartment      -12005          -4542   \n",
       "1        Civil marriage   Rented apartment      -12005          -4542   \n",
       "2               Married  House / apartment      -21474          -1134   \n",
       "3  Single / not married  House / apartment      -19110          -3051   \n",
       "4  Single / not married  House / apartment      -19110          -3051   \n",
       "5  Single / not married  House / apartment      -19110          -3051   \n",
       "6  Single / not married  House / apartment      -19110          -3051   \n",
       "7             Separated  House / apartment      -22464         365243   \n",
       "8             Separated  House / apartment      -22464         365243   \n",
       "9             Separated  House / apartment      -22464         365243   \n",
       "\n",
       "   FLAG_MOBIL  FLAG_WORK_PHONE  FLAG_PHONE  FLAG_EMAIL OCCUPATION_TYPE  \\\n",
       "0           1                1           0           0             NaN   \n",
       "1           1                1           0           0             NaN   \n",
       "2           1                0           0           0  Security staff   \n",
       "3           1                0           1           1     Sales staff   \n",
       "4           1                0           1           1     Sales staff   \n",
       "5           1                0           1           1     Sales staff   \n",
       "6           1                0           1           1     Sales staff   \n",
       "7           1                0           0           0             NaN   \n",
       "8           1                0           0           0             NaN   \n",
       "9           1                0           0           0             NaN   \n",
       "\n",
       "   CNT_FAM_MEMBERS  \n",
       "0              2.0  \n",
       "1              2.0  \n",
       "2              2.0  \n",
       "3              1.0  \n",
       "4              1.0  \n",
       "5              1.0  \n",
       "6              1.0  \n",
       "7              1.0  \n",
       "8              1.0  \n",
       "9              1.0  "
      ]
     },
     "execution_count": 11,
     "metadata": {},
     "output_type": "execute_result"
    }
   ],
   "source": [
    "application_record_df.head(10)"
   ]
  },
  {
   "cell_type": "code",
   "execution_count": 12,
   "id": "5f847fd1",
   "metadata": {
    "execution": {
     "iopub.execute_input": "2022-02-15T21:35:44.582509Z",
     "iopub.status.busy": "2022-02-15T21:35:44.581858Z",
     "iopub.status.idle": "2022-02-15T21:35:44.960279Z",
     "shell.execute_reply": "2022-02-15T21:35:44.959739Z",
     "shell.execute_reply.started": "2022-02-15T20:25:50.160857Z"
    },
    "papermill": {
     "duration": 0.476472,
     "end_time": "2022-02-15T21:35:44.960446",
     "exception": false,
     "start_time": "2022-02-15T21:35:44.483974",
     "status": "completed"
    },
    "tags": []
   },
   "outputs": [
    {
     "name": "stdout",
     "output_type": "stream",
     "text": [
      "<class 'pandas.core.frame.DataFrame'>\n",
      "RangeIndex: 438557 entries, 0 to 438556\n",
      "Data columns (total 18 columns):\n",
      " #   Column               Non-Null Count   Dtype  \n",
      "---  ------               --------------   -----  \n",
      " 0   ID                   438557 non-null  int64  \n",
      " 1   CODE_GENDER          438557 non-null  object \n",
      " 2   FLAG_OWN_CAR         438557 non-null  object \n",
      " 3   FLAG_OWN_REALTY      438557 non-null  object \n",
      " 4   CNT_CHILDREN         438557 non-null  int64  \n",
      " 5   AMT_INCOME_TOTAL     438557 non-null  float64\n",
      " 6   NAME_INCOME_TYPE     438557 non-null  object \n",
      " 7   NAME_EDUCATION_TYPE  438557 non-null  object \n",
      " 8   NAME_FAMILY_STATUS   438557 non-null  object \n",
      " 9   NAME_HOUSING_TYPE    438557 non-null  object \n",
      " 10  DAYS_BIRTH           438557 non-null  int64  \n",
      " 11  DAYS_EMPLOYED        438557 non-null  int64  \n",
      " 12  FLAG_MOBIL           438557 non-null  int64  \n",
      " 13  FLAG_WORK_PHONE      438557 non-null  int64  \n",
      " 14  FLAG_PHONE           438557 non-null  int64  \n",
      " 15  FLAG_EMAIL           438557 non-null  int64  \n",
      " 16  OCCUPATION_TYPE      304354 non-null  object \n",
      " 17  CNT_FAM_MEMBERS      438557 non-null  float64\n",
      "dtypes: float64(2), int64(8), object(8)\n",
      "memory usage: 60.2+ MB\n"
     ]
    }
   ],
   "source": [
    "application_record_df.info()"
   ]
  },
  {
   "cell_type": "markdown",
   "id": "f888f668",
   "metadata": {
    "execution": {
     "iopub.execute_input": "2022-02-13T21:57:18.046029Z",
     "iopub.status.busy": "2022-02-13T21:57:18.045474Z",
     "iopub.status.idle": "2022-02-13T21:57:18.052405Z",
     "shell.execute_reply": "2022-02-13T21:57:18.051269Z",
     "shell.execute_reply.started": "2022-02-13T21:57:18.045986Z"
    },
    "papermill": {
     "duration": 0.096296,
     "end_time": "2022-02-15T21:35:45.153233",
     "exception": false,
     "start_time": "2022-02-15T21:35:45.056937",
     "status": "completed"
    },
    "tags": []
   },
   "source": [
    "Around 30% of the OCCUPATION_TYPE column is missing. So we might consider dropping the whole column"
   ]
  },
  {
   "cell_type": "code",
   "execution_count": 13,
   "id": "73508935",
   "metadata": {
    "execution": {
     "iopub.execute_input": "2022-02-15T21:35:45.355074Z",
     "iopub.status.busy": "2022-02-15T21:35:45.354409Z",
     "iopub.status.idle": "2022-02-15T21:35:45.853931Z",
     "shell.execute_reply": "2022-02-15T21:35:45.853236Z",
     "shell.execute_reply.started": "2022-02-15T20:25:50.672483Z"
    },
    "papermill": {
     "duration": 0.605341,
     "end_time": "2022-02-15T21:35:45.854075",
     "exception": false,
     "start_time": "2022-02-15T21:35:45.248734",
     "status": "completed"
    },
    "tags": []
   },
   "outputs": [
    {
     "name": "stdout",
     "output_type": "stream",
     "text": [
      "Number of duplicated rows:  0\n"
     ]
    }
   ],
   "source": [
    "print(\"Number of duplicated rows: \", sum(application_record_df.duplicated()))"
   ]
  },
  {
   "cell_type": "markdown",
   "id": "a6aad678",
   "metadata": {
    "papermill": {
     "duration": 0.097124,
     "end_time": "2022-02-15T21:35:46.048266",
     "exception": false,
     "start_time": "2022-02-15T21:35:45.951142",
     "status": "completed"
    },
    "tags": []
   },
   "source": [
    "No duplicate rows"
   ]
  },
  {
   "cell_type": "code",
   "execution_count": 14,
   "id": "d86981f6",
   "metadata": {
    "execution": {
     "iopub.execute_input": "2022-02-15T21:35:46.247137Z",
     "iopub.status.busy": "2022-02-15T21:35:46.246505Z",
     "iopub.status.idle": "2022-02-15T21:35:46.250598Z",
     "shell.execute_reply": "2022-02-15T21:35:46.251156Z",
     "shell.execute_reply.started": "2022-02-15T20:25:51.198439Z"
    },
    "papermill": {
     "duration": 0.105739,
     "end_time": "2022-02-15T21:35:46.251364",
     "exception": false,
     "start_time": "2022-02-15T21:35:46.145625",
     "status": "completed"
    },
    "tags": []
   },
   "outputs": [
    {
     "data": {
      "text/plain": [
       "(438557, 18)"
      ]
     },
     "execution_count": 14,
     "metadata": {},
     "output_type": "execute_result"
    }
   ],
   "source": [
    "application_record_df.shape"
   ]
  },
  {
   "cell_type": "code",
   "execution_count": 15,
   "id": "a1bcab18",
   "metadata": {
    "execution": {
     "iopub.execute_input": "2022-02-15T21:35:46.447416Z",
     "iopub.status.busy": "2022-02-15T21:35:46.446797Z",
     "iopub.status.idle": "2022-02-15T21:35:46.472269Z",
     "shell.execute_reply": "2022-02-15T21:35:46.471647Z",
     "shell.execute_reply.started": "2022-02-15T20:25:51.446375Z"
    },
    "papermill": {
     "duration": 0.124515,
     "end_time": "2022-02-15T21:35:46.472422",
     "exception": false,
     "start_time": "2022-02-15T21:35:46.347907",
     "status": "completed"
    },
    "tags": []
   },
   "outputs": [
    {
     "name": "stdout",
     "output_type": "stream",
     "text": [
      "Number of unique IDs:  438510\n"
     ]
    }
   ],
   "source": [
    "print(\"Number of unique IDs: \",len(application_record_df['ID'].unique()))"
   ]
  },
  {
   "cell_type": "markdown",
   "id": "4c0e53e4",
   "metadata": {
    "papermill": {
     "duration": 0.097361,
     "end_time": "2022-02-15T21:35:46.668249",
     "exception": false,
     "start_time": "2022-02-15T21:35:46.570888",
     "status": "completed"
    },
    "tags": []
   },
   "source": [
    "We notice that # unique IDs < # rows.  "
   ]
  },
  {
   "cell_type": "code",
   "execution_count": 16,
   "id": "b4c406db",
   "metadata": {
    "execution": {
     "iopub.execute_input": "2022-02-15T21:35:46.873216Z",
     "iopub.status.busy": "2022-02-15T21:35:46.872550Z",
     "iopub.status.idle": "2022-02-15T21:35:46.929428Z",
     "shell.execute_reply": "2022-02-15T21:35:46.929938Z",
     "shell.execute_reply.started": "2022-02-15T20:25:52.013392Z"
    },
    "papermill": {
     "duration": 0.160118,
     "end_time": "2022-02-15T21:35:46.930107",
     "exception": false,
     "start_time": "2022-02-15T21:35:46.769989",
     "status": "completed"
    },
    "tags": []
   },
   "outputs": [
    {
     "data": {
      "text/html": [
       "<div>\n",
       "<style scoped>\n",
       "    .dataframe tbody tr th:only-of-type {\n",
       "        vertical-align: middle;\n",
       "    }\n",
       "\n",
       "    .dataframe tbody tr th {\n",
       "        vertical-align: top;\n",
       "    }\n",
       "\n",
       "    .dataframe thead th {\n",
       "        text-align: right;\n",
       "    }\n",
       "</style>\n",
       "<table border=\"1\" class=\"dataframe\">\n",
       "  <thead>\n",
       "    <tr style=\"text-align: right;\">\n",
       "      <th></th>\n",
       "      <th>ID</th>\n",
       "      <th>CODE_GENDER</th>\n",
       "      <th>FLAG_OWN_CAR</th>\n",
       "      <th>FLAG_OWN_REALTY</th>\n",
       "      <th>CNT_CHILDREN</th>\n",
       "      <th>AMT_INCOME_TOTAL</th>\n",
       "      <th>NAME_INCOME_TYPE</th>\n",
       "      <th>NAME_EDUCATION_TYPE</th>\n",
       "      <th>NAME_FAMILY_STATUS</th>\n",
       "      <th>NAME_HOUSING_TYPE</th>\n",
       "      <th>DAYS_BIRTH</th>\n",
       "      <th>DAYS_EMPLOYED</th>\n",
       "      <th>FLAG_MOBIL</th>\n",
       "      <th>FLAG_WORK_PHONE</th>\n",
       "      <th>FLAG_PHONE</th>\n",
       "      <th>FLAG_EMAIL</th>\n",
       "      <th>OCCUPATION_TYPE</th>\n",
       "      <th>CNT_FAM_MEMBERS</th>\n",
       "    </tr>\n",
       "  </thead>\n",
       "  <tbody>\n",
       "    <tr>\n",
       "      <th>426818</th>\n",
       "      <td>7022197</td>\n",
       "      <td>M</td>\n",
       "      <td>Y</td>\n",
       "      <td>Y</td>\n",
       "      <td>3</td>\n",
       "      <td>135000.0</td>\n",
       "      <td>Working</td>\n",
       "      <td>Secondary / secondary special</td>\n",
       "      <td>Married</td>\n",
       "      <td>House / apartment</td>\n",
       "      <td>-11945</td>\n",
       "      <td>-735</td>\n",
       "      <td>1</td>\n",
       "      <td>0</td>\n",
       "      <td>0</td>\n",
       "      <td>1</td>\n",
       "      <td>Laborers</td>\n",
       "      <td>5.0</td>\n",
       "    </tr>\n",
       "    <tr>\n",
       "      <th>425023</th>\n",
       "      <td>7022197</td>\n",
       "      <td>F</td>\n",
       "      <td>N</td>\n",
       "      <td>Y</td>\n",
       "      <td>0</td>\n",
       "      <td>450000.0</td>\n",
       "      <td>Commercial associate</td>\n",
       "      <td>Higher education</td>\n",
       "      <td>Separated</td>\n",
       "      <td>House / apartment</td>\n",
       "      <td>-19813</td>\n",
       "      <td>-1799</td>\n",
       "      <td>1</td>\n",
       "      <td>0</td>\n",
       "      <td>0</td>\n",
       "      <td>1</td>\n",
       "      <td>NaN</td>\n",
       "      <td>1.0</td>\n",
       "    </tr>\n",
       "    <tr>\n",
       "      <th>431545</th>\n",
       "      <td>7022327</td>\n",
       "      <td>F</td>\n",
       "      <td>N</td>\n",
       "      <td>Y</td>\n",
       "      <td>0</td>\n",
       "      <td>135000.0</td>\n",
       "      <td>Commercial associate</td>\n",
       "      <td>Secondary / secondary special</td>\n",
       "      <td>Single / not married</td>\n",
       "      <td>House / apartment</td>\n",
       "      <td>-14771</td>\n",
       "      <td>-5298</td>\n",
       "      <td>1</td>\n",
       "      <td>0</td>\n",
       "      <td>0</td>\n",
       "      <td>0</td>\n",
       "      <td>High skill tech staff</td>\n",
       "      <td>1.0</td>\n",
       "    </tr>\n",
       "    <tr>\n",
       "      <th>431911</th>\n",
       "      <td>7022327</td>\n",
       "      <td>M</td>\n",
       "      <td>Y</td>\n",
       "      <td>Y</td>\n",
       "      <td>0</td>\n",
       "      <td>256500.0</td>\n",
       "      <td>Commercial associate</td>\n",
       "      <td>Higher education</td>\n",
       "      <td>Married</td>\n",
       "      <td>House / apartment</td>\n",
       "      <td>-21503</td>\n",
       "      <td>-1674</td>\n",
       "      <td>1</td>\n",
       "      <td>0</td>\n",
       "      <td>0</td>\n",
       "      <td>1</td>\n",
       "      <td>Core staff</td>\n",
       "      <td>2.0</td>\n",
       "    </tr>\n",
       "    <tr>\n",
       "      <th>425486</th>\n",
       "      <td>7023108</td>\n",
       "      <td>M</td>\n",
       "      <td>Y</td>\n",
       "      <td>Y</td>\n",
       "      <td>1</td>\n",
       "      <td>67500.0</td>\n",
       "      <td>Working</td>\n",
       "      <td>Secondary / secondary special</td>\n",
       "      <td>Married</td>\n",
       "      <td>House / apartment</td>\n",
       "      <td>-15156</td>\n",
       "      <td>-1696</td>\n",
       "      <td>1</td>\n",
       "      <td>1</td>\n",
       "      <td>0</td>\n",
       "      <td>0</td>\n",
       "      <td>Core staff</td>\n",
       "      <td>3.0</td>\n",
       "    </tr>\n",
       "    <tr>\n",
       "      <th>426488</th>\n",
       "      <td>7023108</td>\n",
       "      <td>F</td>\n",
       "      <td>N</td>\n",
       "      <td>N</td>\n",
       "      <td>0</td>\n",
       "      <td>135000.0</td>\n",
       "      <td>Working</td>\n",
       "      <td>Secondary / secondary special</td>\n",
       "      <td>Married</td>\n",
       "      <td>House / apartment</td>\n",
       "      <td>-17590</td>\n",
       "      <td>-1273</td>\n",
       "      <td>1</td>\n",
       "      <td>0</td>\n",
       "      <td>0</td>\n",
       "      <td>0</td>\n",
       "      <td>Cleaning staff</td>\n",
       "      <td>2.0</td>\n",
       "    </tr>\n",
       "    <tr>\n",
       "      <th>425306</th>\n",
       "      <td>7023651</td>\n",
       "      <td>F</td>\n",
       "      <td>N</td>\n",
       "      <td>N</td>\n",
       "      <td>0</td>\n",
       "      <td>225000.0</td>\n",
       "      <td>Commercial associate</td>\n",
       "      <td>Incomplete higher</td>\n",
       "      <td>Single / not married</td>\n",
       "      <td>House / apartment</td>\n",
       "      <td>-10229</td>\n",
       "      <td>-1209</td>\n",
       "      <td>1</td>\n",
       "      <td>0</td>\n",
       "      <td>0</td>\n",
       "      <td>0</td>\n",
       "      <td>Accountants</td>\n",
       "      <td>1.0</td>\n",
       "    </tr>\n",
       "    <tr>\n",
       "      <th>421907</th>\n",
       "      <td>7023651</td>\n",
       "      <td>M</td>\n",
       "      <td>Y</td>\n",
       "      <td>N</td>\n",
       "      <td>1</td>\n",
       "      <td>157500.0</td>\n",
       "      <td>Commercial associate</td>\n",
       "      <td>Incomplete higher</td>\n",
       "      <td>Married</td>\n",
       "      <td>House / apartment</td>\n",
       "      <td>-10521</td>\n",
       "      <td>-1457</td>\n",
       "      <td>1</td>\n",
       "      <td>0</td>\n",
       "      <td>0</td>\n",
       "      <td>0</td>\n",
       "      <td>Drivers</td>\n",
       "      <td>3.0</td>\n",
       "    </tr>\n",
       "    <tr>\n",
       "      <th>427778</th>\n",
       "      <td>7024111</td>\n",
       "      <td>M</td>\n",
       "      <td>N</td>\n",
       "      <td>N</td>\n",
       "      <td>2</td>\n",
       "      <td>157500.0</td>\n",
       "      <td>Commercial associate</td>\n",
       "      <td>Secondary / secondary special</td>\n",
       "      <td>Civil marriage</td>\n",
       "      <td>House / apartment</td>\n",
       "      <td>-15270</td>\n",
       "      <td>-117</td>\n",
       "      <td>1</td>\n",
       "      <td>1</td>\n",
       "      <td>0</td>\n",
       "      <td>0</td>\n",
       "      <td>Drivers</td>\n",
       "      <td>4.0</td>\n",
       "    </tr>\n",
       "    <tr>\n",
       "      <th>432643</th>\n",
       "      <td>7024111</td>\n",
       "      <td>F</td>\n",
       "      <td>N</td>\n",
       "      <td>Y</td>\n",
       "      <td>0</td>\n",
       "      <td>180000.0</td>\n",
       "      <td>Working</td>\n",
       "      <td>Secondary / secondary special</td>\n",
       "      <td>Married</td>\n",
       "      <td>House / apartment</td>\n",
       "      <td>-22041</td>\n",
       "      <td>-1524</td>\n",
       "      <td>1</td>\n",
       "      <td>1</td>\n",
       "      <td>1</td>\n",
       "      <td>0</td>\n",
       "      <td>Accountants</td>\n",
       "      <td>2.0</td>\n",
       "    </tr>\n",
       "    <tr>\n",
       "      <th>424708</th>\n",
       "      <td>7036518</td>\n",
       "      <td>F</td>\n",
       "      <td>N</td>\n",
       "      <td>Y</td>\n",
       "      <td>0</td>\n",
       "      <td>360000.0</td>\n",
       "      <td>Working</td>\n",
       "      <td>Higher education</td>\n",
       "      <td>Married</td>\n",
       "      <td>House / apartment</td>\n",
       "      <td>-15875</td>\n",
       "      <td>-1965</td>\n",
       "      <td>1</td>\n",
       "      <td>1</td>\n",
       "      <td>0</td>\n",
       "      <td>0</td>\n",
       "      <td>Core staff</td>\n",
       "      <td>2.0</td>\n",
       "    </tr>\n",
       "    <tr>\n",
       "      <th>429078</th>\n",
       "      <td>7036518</td>\n",
       "      <td>F</td>\n",
       "      <td>N</td>\n",
       "      <td>N</td>\n",
       "      <td>1</td>\n",
       "      <td>180000.0</td>\n",
       "      <td>Working</td>\n",
       "      <td>Secondary / secondary special</td>\n",
       "      <td>Married</td>\n",
       "      <td>House / apartment</td>\n",
       "      <td>-13858</td>\n",
       "      <td>-2612</td>\n",
       "      <td>1</td>\n",
       "      <td>0</td>\n",
       "      <td>0</td>\n",
       "      <td>0</td>\n",
       "      <td>Laborers</td>\n",
       "      <td>3.0</td>\n",
       "    </tr>\n",
       "    <tr>\n",
       "      <th>427007</th>\n",
       "      <td>7045794</td>\n",
       "      <td>F</td>\n",
       "      <td>N</td>\n",
       "      <td>N</td>\n",
       "      <td>0</td>\n",
       "      <td>414000.0</td>\n",
       "      <td>Working</td>\n",
       "      <td>Higher education</td>\n",
       "      <td>Separated</td>\n",
       "      <td>House / apartment</td>\n",
       "      <td>-20786</td>\n",
       "      <td>-1447</td>\n",
       "      <td>1</td>\n",
       "      <td>0</td>\n",
       "      <td>0</td>\n",
       "      <td>0</td>\n",
       "      <td>NaN</td>\n",
       "      <td>1.0</td>\n",
       "    </tr>\n",
       "    <tr>\n",
       "      <th>428048</th>\n",
       "      <td>7045794</td>\n",
       "      <td>F</td>\n",
       "      <td>N</td>\n",
       "      <td>Y</td>\n",
       "      <td>2</td>\n",
       "      <td>225000.0</td>\n",
       "      <td>Working</td>\n",
       "      <td>Secondary / secondary special</td>\n",
       "      <td>Married</td>\n",
       "      <td>House / apartment</td>\n",
       "      <td>-14431</td>\n",
       "      <td>-507</td>\n",
       "      <td>1</td>\n",
       "      <td>0</td>\n",
       "      <td>1</td>\n",
       "      <td>0</td>\n",
       "      <td>Laborers</td>\n",
       "      <td>4.0</td>\n",
       "    </tr>\n",
       "    <tr>\n",
       "      <th>432271</th>\n",
       "      <td>7045885</td>\n",
       "      <td>F</td>\n",
       "      <td>N</td>\n",
       "      <td>N</td>\n",
       "      <td>2</td>\n",
       "      <td>247500.0</td>\n",
       "      <td>Commercial associate</td>\n",
       "      <td>Secondary / secondary special</td>\n",
       "      <td>Civil marriage</td>\n",
       "      <td>Municipal apartment</td>\n",
       "      <td>-14452</td>\n",
       "      <td>-1624</td>\n",
       "      <td>1</td>\n",
       "      <td>1</td>\n",
       "      <td>1</td>\n",
       "      <td>0</td>\n",
       "      <td>NaN</td>\n",
       "      <td>4.0</td>\n",
       "    </tr>\n",
       "    <tr>\n",
       "      <th>426022</th>\n",
       "      <td>7045885</td>\n",
       "      <td>M</td>\n",
       "      <td>N</td>\n",
       "      <td>Y</td>\n",
       "      <td>0</td>\n",
       "      <td>67500.0</td>\n",
       "      <td>Pensioner</td>\n",
       "      <td>Secondary / secondary special</td>\n",
       "      <td>Married</td>\n",
       "      <td>House / apartment</td>\n",
       "      <td>-20851</td>\n",
       "      <td>365243</td>\n",
       "      <td>1</td>\n",
       "      <td>0</td>\n",
       "      <td>0</td>\n",
       "      <td>0</td>\n",
       "      <td>NaN</td>\n",
       "      <td>2.0</td>\n",
       "    </tr>\n",
       "    <tr>\n",
       "      <th>432134</th>\n",
       "      <td>7046068</td>\n",
       "      <td>F</td>\n",
       "      <td>N</td>\n",
       "      <td>Y</td>\n",
       "      <td>0</td>\n",
       "      <td>112500.0</td>\n",
       "      <td>Working</td>\n",
       "      <td>Secondary / secondary special</td>\n",
       "      <td>Single / not married</td>\n",
       "      <td>Rented apartment</td>\n",
       "      <td>-11888</td>\n",
       "      <td>-2781</td>\n",
       "      <td>1</td>\n",
       "      <td>0</td>\n",
       "      <td>0</td>\n",
       "      <td>0</td>\n",
       "      <td>Private service staff</td>\n",
       "      <td>1.0</td>\n",
       "    </tr>\n",
       "    <tr>\n",
       "      <th>424618</th>\n",
       "      <td>7046068</td>\n",
       "      <td>F</td>\n",
       "      <td>N</td>\n",
       "      <td>Y</td>\n",
       "      <td>0</td>\n",
       "      <td>135000.0</td>\n",
       "      <td>Pensioner</td>\n",
       "      <td>Secondary / secondary special</td>\n",
       "      <td>Married</td>\n",
       "      <td>House / apartment</td>\n",
       "      <td>-22744</td>\n",
       "      <td>365243</td>\n",
       "      <td>1</td>\n",
       "      <td>0</td>\n",
       "      <td>1</td>\n",
       "      <td>0</td>\n",
       "      <td>NaN</td>\n",
       "      <td>2.0</td>\n",
       "    </tr>\n",
       "    <tr>\n",
       "      <th>428171</th>\n",
       "      <td>7050948</td>\n",
       "      <td>F</td>\n",
       "      <td>N</td>\n",
       "      <td>N</td>\n",
       "      <td>0</td>\n",
       "      <td>135000.0</td>\n",
       "      <td>Commercial associate</td>\n",
       "      <td>Higher education</td>\n",
       "      <td>Married</td>\n",
       "      <td>House / apartment</td>\n",
       "      <td>-12256</td>\n",
       "      <td>-4031</td>\n",
       "      <td>1</td>\n",
       "      <td>1</td>\n",
       "      <td>1</td>\n",
       "      <td>1</td>\n",
       "      <td>Core staff</td>\n",
       "      <td>2.0</td>\n",
       "    </tr>\n",
       "    <tr>\n",
       "      <th>430746</th>\n",
       "      <td>7050948</td>\n",
       "      <td>F</td>\n",
       "      <td>N</td>\n",
       "      <td>Y</td>\n",
       "      <td>1</td>\n",
       "      <td>81000.0</td>\n",
       "      <td>Working</td>\n",
       "      <td>Higher education</td>\n",
       "      <td>Single / not married</td>\n",
       "      <td>House / apartment</td>\n",
       "      <td>-13977</td>\n",
       "      <td>-148</td>\n",
       "      <td>1</td>\n",
       "      <td>0</td>\n",
       "      <td>0</td>\n",
       "      <td>0</td>\n",
       "      <td>Core staff</td>\n",
       "      <td>2.0</td>\n",
       "    </tr>\n",
       "  </tbody>\n",
       "</table>\n",
       "</div>"
      ],
      "text/plain": [
       "             ID CODE_GENDER FLAG_OWN_CAR FLAG_OWN_REALTY  CNT_CHILDREN  \\\n",
       "426818  7022197           M            Y               Y             3   \n",
       "425023  7022197           F            N               Y             0   \n",
       "431545  7022327           F            N               Y             0   \n",
       "431911  7022327           M            Y               Y             0   \n",
       "425486  7023108           M            Y               Y             1   \n",
       "426488  7023108           F            N               N             0   \n",
       "425306  7023651           F            N               N             0   \n",
       "421907  7023651           M            Y               N             1   \n",
       "427778  7024111           M            N               N             2   \n",
       "432643  7024111           F            N               Y             0   \n",
       "424708  7036518           F            N               Y             0   \n",
       "429078  7036518           F            N               N             1   \n",
       "427007  7045794           F            N               N             0   \n",
       "428048  7045794           F            N               Y             2   \n",
       "432271  7045885           F            N               N             2   \n",
       "426022  7045885           M            N               Y             0   \n",
       "432134  7046068           F            N               Y             0   \n",
       "424618  7046068           F            N               Y             0   \n",
       "428171  7050948           F            N               N             0   \n",
       "430746  7050948           F            N               Y             1   \n",
       "\n",
       "        AMT_INCOME_TOTAL      NAME_INCOME_TYPE            NAME_EDUCATION_TYPE  \\\n",
       "426818          135000.0               Working  Secondary / secondary special   \n",
       "425023          450000.0  Commercial associate               Higher education   \n",
       "431545          135000.0  Commercial associate  Secondary / secondary special   \n",
       "431911          256500.0  Commercial associate               Higher education   \n",
       "425486           67500.0               Working  Secondary / secondary special   \n",
       "426488          135000.0               Working  Secondary / secondary special   \n",
       "425306          225000.0  Commercial associate              Incomplete higher   \n",
       "421907          157500.0  Commercial associate              Incomplete higher   \n",
       "427778          157500.0  Commercial associate  Secondary / secondary special   \n",
       "432643          180000.0               Working  Secondary / secondary special   \n",
       "424708          360000.0               Working               Higher education   \n",
       "429078          180000.0               Working  Secondary / secondary special   \n",
       "427007          414000.0               Working               Higher education   \n",
       "428048          225000.0               Working  Secondary / secondary special   \n",
       "432271          247500.0  Commercial associate  Secondary / secondary special   \n",
       "426022           67500.0             Pensioner  Secondary / secondary special   \n",
       "432134          112500.0               Working  Secondary / secondary special   \n",
       "424618          135000.0             Pensioner  Secondary / secondary special   \n",
       "428171          135000.0  Commercial associate               Higher education   \n",
       "430746           81000.0               Working               Higher education   \n",
       "\n",
       "          NAME_FAMILY_STATUS    NAME_HOUSING_TYPE  DAYS_BIRTH  DAYS_EMPLOYED  \\\n",
       "426818               Married    House / apartment      -11945           -735   \n",
       "425023             Separated    House / apartment      -19813          -1799   \n",
       "431545  Single / not married    House / apartment      -14771          -5298   \n",
       "431911               Married    House / apartment      -21503          -1674   \n",
       "425486               Married    House / apartment      -15156          -1696   \n",
       "426488               Married    House / apartment      -17590          -1273   \n",
       "425306  Single / not married    House / apartment      -10229          -1209   \n",
       "421907               Married    House / apartment      -10521          -1457   \n",
       "427778        Civil marriage    House / apartment      -15270           -117   \n",
       "432643               Married    House / apartment      -22041          -1524   \n",
       "424708               Married    House / apartment      -15875          -1965   \n",
       "429078               Married    House / apartment      -13858          -2612   \n",
       "427007             Separated    House / apartment      -20786          -1447   \n",
       "428048               Married    House / apartment      -14431           -507   \n",
       "432271        Civil marriage  Municipal apartment      -14452          -1624   \n",
       "426022               Married    House / apartment      -20851         365243   \n",
       "432134  Single / not married     Rented apartment      -11888          -2781   \n",
       "424618               Married    House / apartment      -22744         365243   \n",
       "428171               Married    House / apartment      -12256          -4031   \n",
       "430746  Single / not married    House / apartment      -13977           -148   \n",
       "\n",
       "        FLAG_MOBIL  FLAG_WORK_PHONE  FLAG_PHONE  FLAG_EMAIL  \\\n",
       "426818           1                0           0           1   \n",
       "425023           1                0           0           1   \n",
       "431545           1                0           0           0   \n",
       "431911           1                0           0           1   \n",
       "425486           1                1           0           0   \n",
       "426488           1                0           0           0   \n",
       "425306           1                0           0           0   \n",
       "421907           1                0           0           0   \n",
       "427778           1                1           0           0   \n",
       "432643           1                1           1           0   \n",
       "424708           1                1           0           0   \n",
       "429078           1                0           0           0   \n",
       "427007           1                0           0           0   \n",
       "428048           1                0           1           0   \n",
       "432271           1                1           1           0   \n",
       "426022           1                0           0           0   \n",
       "432134           1                0           0           0   \n",
       "424618           1                0           1           0   \n",
       "428171           1                1           1           1   \n",
       "430746           1                0           0           0   \n",
       "\n",
       "              OCCUPATION_TYPE  CNT_FAM_MEMBERS  \n",
       "426818               Laborers              5.0  \n",
       "425023                    NaN              1.0  \n",
       "431545  High skill tech staff              1.0  \n",
       "431911             Core staff              2.0  \n",
       "425486             Core staff              3.0  \n",
       "426488         Cleaning staff              2.0  \n",
       "425306            Accountants              1.0  \n",
       "421907                Drivers              3.0  \n",
       "427778                Drivers              4.0  \n",
       "432643            Accountants              2.0  \n",
       "424708             Core staff              2.0  \n",
       "429078               Laborers              3.0  \n",
       "427007                    NaN              1.0  \n",
       "428048               Laborers              4.0  \n",
       "432271                    NaN              4.0  \n",
       "426022                    NaN              2.0  \n",
       "432134  Private service staff              1.0  \n",
       "424618                    NaN              2.0  \n",
       "428171             Core staff              2.0  \n",
       "430746             Core staff              2.0  "
      ]
     },
     "execution_count": 16,
     "metadata": {},
     "output_type": "execute_result"
    }
   ],
   "source": [
    "#examining the duplicate IDs\n",
    "duplicated_ids = application_record_df[application_record_df['ID'].duplicated(keep='first')]['ID'].values\n",
    "application_record_df[application_record_df['ID'].isin(duplicated_ids)].sort_values(by='ID').head(20)"
   ]
  },
  {
   "cell_type": "markdown",
   "id": "7e1b0c0b",
   "metadata": {
    "execution": {
     "iopub.execute_input": "2022-02-13T23:35:03.216571Z",
     "iopub.status.busy": "2022-02-13T23:35:03.216295Z",
     "iopub.status.idle": "2022-02-13T23:35:03.235025Z",
     "shell.execute_reply": "2022-02-13T23:35:03.234324Z",
     "shell.execute_reply.started": "2022-02-13T23:35:03.216544Z"
    },
    "papermill": {
     "duration": 0.099579,
     "end_time": "2022-02-15T21:35:47.127611",
     "exception": false,
     "start_time": "2022-02-15T21:35:47.028032",
     "status": "completed"
    },
    "tags": []
   },
   "source": [
    "Since the duplicates have different information (family size, gender, number of children,...) they will be omitted from the dataset"
   ]
  },
  {
   "cell_type": "code",
   "execution_count": 17,
   "id": "f0cd0662",
   "metadata": {
    "execution": {
     "iopub.execute_input": "2022-02-15T21:35:47.329193Z",
     "iopub.status.busy": "2022-02-15T21:35:47.328542Z",
     "iopub.status.idle": "2022-02-15T21:35:47.353719Z",
     "shell.execute_reply": "2022-02-15T21:35:47.354301Z",
     "shell.execute_reply.started": "2022-02-15T20:25:52.669564Z"
    },
    "papermill": {
     "duration": 0.127088,
     "end_time": "2022-02-15T21:35:47.354491",
     "exception": false,
     "start_time": "2022-02-15T21:35:47.227403",
     "status": "completed"
    },
    "tags": []
   },
   "outputs": [
    {
     "data": {
      "text/html": [
       "<div>\n",
       "<style scoped>\n",
       "    .dataframe tbody tr th:only-of-type {\n",
       "        vertical-align: middle;\n",
       "    }\n",
       "\n",
       "    .dataframe tbody tr th {\n",
       "        vertical-align: top;\n",
       "    }\n",
       "\n",
       "    .dataframe thead th {\n",
       "        text-align: right;\n",
       "    }\n",
       "</style>\n",
       "<table border=\"1\" class=\"dataframe\">\n",
       "  <thead>\n",
       "    <tr style=\"text-align: right;\">\n",
       "      <th></th>\n",
       "      <th>ID</th>\n",
       "      <th>CODE_GENDER</th>\n",
       "      <th>FLAG_OWN_CAR</th>\n",
       "      <th>FLAG_OWN_REALTY</th>\n",
       "      <th>CNT_CHILDREN</th>\n",
       "      <th>AMT_INCOME_TOTAL</th>\n",
       "      <th>NAME_INCOME_TYPE</th>\n",
       "      <th>NAME_EDUCATION_TYPE</th>\n",
       "      <th>NAME_FAMILY_STATUS</th>\n",
       "      <th>NAME_HOUSING_TYPE</th>\n",
       "      <th>DAYS_BIRTH</th>\n",
       "      <th>DAYS_EMPLOYED</th>\n",
       "      <th>FLAG_MOBIL</th>\n",
       "      <th>FLAG_WORK_PHONE</th>\n",
       "      <th>FLAG_PHONE</th>\n",
       "      <th>FLAG_EMAIL</th>\n",
       "      <th>OCCUPATION_TYPE</th>\n",
       "      <th>CNT_FAM_MEMBERS</th>\n",
       "    </tr>\n",
       "  </thead>\n",
       "  <tbody>\n",
       "    <tr>\n",
       "      <th>97417</th>\n",
       "      <td>5403669</td>\n",
       "      <td>F</td>\n",
       "      <td>N</td>\n",
       "      <td>Y</td>\n",
       "      <td>0</td>\n",
       "      <td>270000.0</td>\n",
       "      <td>Commercial associate</td>\n",
       "      <td>Secondary / secondary special</td>\n",
       "      <td>Civil marriage</td>\n",
       "      <td>House / apartment</td>\n",
       "      <td>-15272</td>\n",
       "      <td>-5604</td>\n",
       "      <td>1</td>\n",
       "      <td>0</td>\n",
       "      <td>1</td>\n",
       "      <td>0</td>\n",
       "      <td>Core staff</td>\n",
       "      <td>2.0</td>\n",
       "    </tr>\n",
       "    <tr>\n",
       "      <th>97418</th>\n",
       "      <td>5403674</td>\n",
       "      <td>F</td>\n",
       "      <td>N</td>\n",
       "      <td>Y</td>\n",
       "      <td>0</td>\n",
       "      <td>270000.0</td>\n",
       "      <td>Commercial associate</td>\n",
       "      <td>Secondary / secondary special</td>\n",
       "      <td>Civil marriage</td>\n",
       "      <td>House / apartment</td>\n",
       "      <td>-15272</td>\n",
       "      <td>-5604</td>\n",
       "      <td>1</td>\n",
       "      <td>0</td>\n",
       "      <td>1</td>\n",
       "      <td>0</td>\n",
       "      <td>Core staff</td>\n",
       "      <td>2.0</td>\n",
       "    </tr>\n",
       "    <tr>\n",
       "      <th>97419</th>\n",
       "      <td>5403675</td>\n",
       "      <td>F</td>\n",
       "      <td>N</td>\n",
       "      <td>Y</td>\n",
       "      <td>0</td>\n",
       "      <td>270000.0</td>\n",
       "      <td>Commercial associate</td>\n",
       "      <td>Secondary / secondary special</td>\n",
       "      <td>Civil marriage</td>\n",
       "      <td>House / apartment</td>\n",
       "      <td>-15272</td>\n",
       "      <td>-5604</td>\n",
       "      <td>1</td>\n",
       "      <td>0</td>\n",
       "      <td>1</td>\n",
       "      <td>0</td>\n",
       "      <td>Core staff</td>\n",
       "      <td>2.0</td>\n",
       "    </tr>\n",
       "    <tr>\n",
       "      <th>97420</th>\n",
       "      <td>6154303</td>\n",
       "      <td>F</td>\n",
       "      <td>N</td>\n",
       "      <td>Y</td>\n",
       "      <td>0</td>\n",
       "      <td>270000.0</td>\n",
       "      <td>Commercial associate</td>\n",
       "      <td>Secondary / secondary special</td>\n",
       "      <td>Civil marriage</td>\n",
       "      <td>House / apartment</td>\n",
       "      <td>-15272</td>\n",
       "      <td>-5604</td>\n",
       "      <td>1</td>\n",
       "      <td>0</td>\n",
       "      <td>1</td>\n",
       "      <td>0</td>\n",
       "      <td>Core staff</td>\n",
       "      <td>2.0</td>\n",
       "    </tr>\n",
       "    <tr>\n",
       "      <th>106692</th>\n",
       "      <td>5452063</td>\n",
       "      <td>M</td>\n",
       "      <td>Y</td>\n",
       "      <td>Y</td>\n",
       "      <td>1</td>\n",
       "      <td>135000.0</td>\n",
       "      <td>Working</td>\n",
       "      <td>Secondary / secondary special</td>\n",
       "      <td>Married</td>\n",
       "      <td>House / apartment</td>\n",
       "      <td>-15272</td>\n",
       "      <td>-2012</td>\n",
       "      <td>1</td>\n",
       "      <td>1</td>\n",
       "      <td>1</td>\n",
       "      <td>0</td>\n",
       "      <td>Drivers</td>\n",
       "      <td>3.0</td>\n",
       "    </tr>\n",
       "    <tr>\n",
       "      <th>106693</th>\n",
       "      <td>5452064</td>\n",
       "      <td>M</td>\n",
       "      <td>Y</td>\n",
       "      <td>Y</td>\n",
       "      <td>1</td>\n",
       "      <td>135000.0</td>\n",
       "      <td>Working</td>\n",
       "      <td>Secondary / secondary special</td>\n",
       "      <td>Married</td>\n",
       "      <td>House / apartment</td>\n",
       "      <td>-15272</td>\n",
       "      <td>-2012</td>\n",
       "      <td>1</td>\n",
       "      <td>1</td>\n",
       "      <td>1</td>\n",
       "      <td>0</td>\n",
       "      <td>Drivers</td>\n",
       "      <td>3.0</td>\n",
       "    </tr>\n",
       "    <tr>\n",
       "      <th>106694</th>\n",
       "      <td>5452065</td>\n",
       "      <td>M</td>\n",
       "      <td>Y</td>\n",
       "      <td>Y</td>\n",
       "      <td>1</td>\n",
       "      <td>135000.0</td>\n",
       "      <td>Working</td>\n",
       "      <td>Secondary / secondary special</td>\n",
       "      <td>Married</td>\n",
       "      <td>House / apartment</td>\n",
       "      <td>-15272</td>\n",
       "      <td>-2012</td>\n",
       "      <td>1</td>\n",
       "      <td>1</td>\n",
       "      <td>1</td>\n",
       "      <td>0</td>\n",
       "      <td>Drivers</td>\n",
       "      <td>3.0</td>\n",
       "    </tr>\n",
       "    <tr>\n",
       "      <th>106695</th>\n",
       "      <td>5452066</td>\n",
       "      <td>M</td>\n",
       "      <td>Y</td>\n",
       "      <td>Y</td>\n",
       "      <td>1</td>\n",
       "      <td>135000.0</td>\n",
       "      <td>Working</td>\n",
       "      <td>Secondary / secondary special</td>\n",
       "      <td>Married</td>\n",
       "      <td>House / apartment</td>\n",
       "      <td>-15272</td>\n",
       "      <td>-2012</td>\n",
       "      <td>1</td>\n",
       "      <td>1</td>\n",
       "      <td>1</td>\n",
       "      <td>0</td>\n",
       "      <td>Drivers</td>\n",
       "      <td>3.0</td>\n",
       "    </tr>\n",
       "    <tr>\n",
       "      <th>106696</th>\n",
       "      <td>5452067</td>\n",
       "      <td>M</td>\n",
       "      <td>Y</td>\n",
       "      <td>Y</td>\n",
       "      <td>1</td>\n",
       "      <td>135000.0</td>\n",
       "      <td>Working</td>\n",
       "      <td>Secondary / secondary special</td>\n",
       "      <td>Married</td>\n",
       "      <td>House / apartment</td>\n",
       "      <td>-15272</td>\n",
       "      <td>-2012</td>\n",
       "      <td>1</td>\n",
       "      <td>1</td>\n",
       "      <td>1</td>\n",
       "      <td>0</td>\n",
       "      <td>Drivers</td>\n",
       "      <td>3.0</td>\n",
       "    </tr>\n",
       "    <tr>\n",
       "      <th>106697</th>\n",
       "      <td>5452068</td>\n",
       "      <td>M</td>\n",
       "      <td>Y</td>\n",
       "      <td>Y</td>\n",
       "      <td>1</td>\n",
       "      <td>135000.0</td>\n",
       "      <td>Working</td>\n",
       "      <td>Secondary / secondary special</td>\n",
       "      <td>Married</td>\n",
       "      <td>House / apartment</td>\n",
       "      <td>-15272</td>\n",
       "      <td>-2012</td>\n",
       "      <td>1</td>\n",
       "      <td>1</td>\n",
       "      <td>1</td>\n",
       "      <td>0</td>\n",
       "      <td>Drivers</td>\n",
       "      <td>3.0</td>\n",
       "    </tr>\n",
       "    <tr>\n",
       "      <th>106698</th>\n",
       "      <td>5452069</td>\n",
       "      <td>M</td>\n",
       "      <td>Y</td>\n",
       "      <td>Y</td>\n",
       "      <td>1</td>\n",
       "      <td>135000.0</td>\n",
       "      <td>Working</td>\n",
       "      <td>Secondary / secondary special</td>\n",
       "      <td>Married</td>\n",
       "      <td>House / apartment</td>\n",
       "      <td>-15272</td>\n",
       "      <td>-2012</td>\n",
       "      <td>1</td>\n",
       "      <td>1</td>\n",
       "      <td>1</td>\n",
       "      <td>0</td>\n",
       "      <td>Drivers</td>\n",
       "      <td>3.0</td>\n",
       "    </tr>\n",
       "    <tr>\n",
       "      <th>106699</th>\n",
       "      <td>5452070</td>\n",
       "      <td>M</td>\n",
       "      <td>Y</td>\n",
       "      <td>Y</td>\n",
       "      <td>1</td>\n",
       "      <td>135000.0</td>\n",
       "      <td>Working</td>\n",
       "      <td>Secondary / secondary special</td>\n",
       "      <td>Married</td>\n",
       "      <td>House / apartment</td>\n",
       "      <td>-15272</td>\n",
       "      <td>-2012</td>\n",
       "      <td>1</td>\n",
       "      <td>1</td>\n",
       "      <td>1</td>\n",
       "      <td>0</td>\n",
       "      <td>Drivers</td>\n",
       "      <td>3.0</td>\n",
       "    </tr>\n",
       "    <tr>\n",
       "      <th>106700</th>\n",
       "      <td>5452071</td>\n",
       "      <td>M</td>\n",
       "      <td>Y</td>\n",
       "      <td>Y</td>\n",
       "      <td>1</td>\n",
       "      <td>135000.0</td>\n",
       "      <td>Working</td>\n",
       "      <td>Secondary / secondary special</td>\n",
       "      <td>Married</td>\n",
       "      <td>House / apartment</td>\n",
       "      <td>-15272</td>\n",
       "      <td>-2012</td>\n",
       "      <td>1</td>\n",
       "      <td>1</td>\n",
       "      <td>1</td>\n",
       "      <td>0</td>\n",
       "      <td>Drivers</td>\n",
       "      <td>3.0</td>\n",
       "    </tr>\n",
       "    <tr>\n",
       "      <th>106701</th>\n",
       "      <td>5452072</td>\n",
       "      <td>M</td>\n",
       "      <td>Y</td>\n",
       "      <td>Y</td>\n",
       "      <td>1</td>\n",
       "      <td>135000.0</td>\n",
       "      <td>Working</td>\n",
       "      <td>Secondary / secondary special</td>\n",
       "      <td>Married</td>\n",
       "      <td>House / apartment</td>\n",
       "      <td>-15272</td>\n",
       "      <td>-2012</td>\n",
       "      <td>1</td>\n",
       "      <td>1</td>\n",
       "      <td>1</td>\n",
       "      <td>0</td>\n",
       "      <td>Drivers</td>\n",
       "      <td>3.0</td>\n",
       "    </tr>\n",
       "    <tr>\n",
       "      <th>106702</th>\n",
       "      <td>5452073</td>\n",
       "      <td>M</td>\n",
       "      <td>Y</td>\n",
       "      <td>Y</td>\n",
       "      <td>1</td>\n",
       "      <td>135000.0</td>\n",
       "      <td>Working</td>\n",
       "      <td>Secondary / secondary special</td>\n",
       "      <td>Married</td>\n",
       "      <td>House / apartment</td>\n",
       "      <td>-15272</td>\n",
       "      <td>-2012</td>\n",
       "      <td>1</td>\n",
       "      <td>1</td>\n",
       "      <td>1</td>\n",
       "      <td>0</td>\n",
       "      <td>Drivers</td>\n",
       "      <td>3.0</td>\n",
       "    </tr>\n",
       "  </tbody>\n",
       "</table>\n",
       "</div>"
      ],
      "text/plain": [
       "             ID CODE_GENDER FLAG_OWN_CAR FLAG_OWN_REALTY  CNT_CHILDREN  \\\n",
       "97417   5403669           F            N               Y             0   \n",
       "97418   5403674           F            N               Y             0   \n",
       "97419   5403675           F            N               Y             0   \n",
       "97420   6154303           F            N               Y             0   \n",
       "106692  5452063           M            Y               Y             1   \n",
       "106693  5452064           M            Y               Y             1   \n",
       "106694  5452065           M            Y               Y             1   \n",
       "106695  5452066           M            Y               Y             1   \n",
       "106696  5452067           M            Y               Y             1   \n",
       "106697  5452068           M            Y               Y             1   \n",
       "106698  5452069           M            Y               Y             1   \n",
       "106699  5452070           M            Y               Y             1   \n",
       "106700  5452071           M            Y               Y             1   \n",
       "106701  5452072           M            Y               Y             1   \n",
       "106702  5452073           M            Y               Y             1   \n",
       "\n",
       "        AMT_INCOME_TOTAL      NAME_INCOME_TYPE            NAME_EDUCATION_TYPE  \\\n",
       "97417           270000.0  Commercial associate  Secondary / secondary special   \n",
       "97418           270000.0  Commercial associate  Secondary / secondary special   \n",
       "97419           270000.0  Commercial associate  Secondary / secondary special   \n",
       "97420           270000.0  Commercial associate  Secondary / secondary special   \n",
       "106692          135000.0               Working  Secondary / secondary special   \n",
       "106693          135000.0               Working  Secondary / secondary special   \n",
       "106694          135000.0               Working  Secondary / secondary special   \n",
       "106695          135000.0               Working  Secondary / secondary special   \n",
       "106696          135000.0               Working  Secondary / secondary special   \n",
       "106697          135000.0               Working  Secondary / secondary special   \n",
       "106698          135000.0               Working  Secondary / secondary special   \n",
       "106699          135000.0               Working  Secondary / secondary special   \n",
       "106700          135000.0               Working  Secondary / secondary special   \n",
       "106701          135000.0               Working  Secondary / secondary special   \n",
       "106702          135000.0               Working  Secondary / secondary special   \n",
       "\n",
       "       NAME_FAMILY_STATUS  NAME_HOUSING_TYPE  DAYS_BIRTH  DAYS_EMPLOYED  \\\n",
       "97417      Civil marriage  House / apartment      -15272          -5604   \n",
       "97418      Civil marriage  House / apartment      -15272          -5604   \n",
       "97419      Civil marriage  House / apartment      -15272          -5604   \n",
       "97420      Civil marriage  House / apartment      -15272          -5604   \n",
       "106692            Married  House / apartment      -15272          -2012   \n",
       "106693            Married  House / apartment      -15272          -2012   \n",
       "106694            Married  House / apartment      -15272          -2012   \n",
       "106695            Married  House / apartment      -15272          -2012   \n",
       "106696            Married  House / apartment      -15272          -2012   \n",
       "106697            Married  House / apartment      -15272          -2012   \n",
       "106698            Married  House / apartment      -15272          -2012   \n",
       "106699            Married  House / apartment      -15272          -2012   \n",
       "106700            Married  House / apartment      -15272          -2012   \n",
       "106701            Married  House / apartment      -15272          -2012   \n",
       "106702            Married  House / apartment      -15272          -2012   \n",
       "\n",
       "        FLAG_MOBIL  FLAG_WORK_PHONE  FLAG_PHONE  FLAG_EMAIL OCCUPATION_TYPE  \\\n",
       "97417            1                0           1           0      Core staff   \n",
       "97418            1                0           1           0      Core staff   \n",
       "97419            1                0           1           0      Core staff   \n",
       "97420            1                0           1           0      Core staff   \n",
       "106692           1                1           1           0         Drivers   \n",
       "106693           1                1           1           0         Drivers   \n",
       "106694           1                1           1           0         Drivers   \n",
       "106695           1                1           1           0         Drivers   \n",
       "106696           1                1           1           0         Drivers   \n",
       "106697           1                1           1           0         Drivers   \n",
       "106698           1                1           1           0         Drivers   \n",
       "106699           1                1           1           0         Drivers   \n",
       "106700           1                1           1           0         Drivers   \n",
       "106701           1                1           1           0         Drivers   \n",
       "106702           1                1           1           0         Drivers   \n",
       "\n",
       "        CNT_FAM_MEMBERS  \n",
       "97417               2.0  \n",
       "97418               2.0  \n",
       "97419               2.0  \n",
       "97420               2.0  \n",
       "106692              3.0  \n",
       "106693              3.0  \n",
       "106694              3.0  \n",
       "106695              3.0  \n",
       "106696              3.0  \n",
       "106697              3.0  \n",
       "106698              3.0  \n",
       "106699              3.0  \n",
       "106700              3.0  \n",
       "106701              3.0  \n",
       "106702              3.0  "
      ]
     },
     "execution_count": 17,
     "metadata": {},
     "output_type": "execute_result"
    }
   ],
   "source": [
    "application_record_df[application_record_df['DAYS_BIRTH']==-15272].head(15)"
   ]
  },
  {
   "cell_type": "markdown",
   "id": "2c75c8ec",
   "metadata": {
    "papermill": {
     "duration": 0.098002,
     "end_time": "2022-02-15T21:35:47.551364",
     "exception": false,
     "start_time": "2022-02-15T21:35:47.453362",
     "status": "completed"
    },
    "tags": []
   },
   "source": [
    "Some instances have different IDs but same information. Since we do not use IDs when training a ML model, these rows will be duplicates.  \n",
    "So we need to drop them."
   ]
  },
  {
   "cell_type": "markdown",
   "id": "43b2e715",
   "metadata": {
    "papermill": {
     "duration": 0.099931,
     "end_time": "2022-02-15T21:35:47.750356",
     "exception": false,
     "start_time": "2022-02-15T21:35:47.650425",
     "status": "completed"
    },
    "tags": []
   },
   "source": [
    "### Exploring Categorical variables"
   ]
  },
  {
   "cell_type": "code",
   "execution_count": 18,
   "id": "d7235937",
   "metadata": {
    "execution": {
     "iopub.execute_input": "2022-02-15T21:35:47.952686Z",
     "iopub.status.busy": "2022-02-15T21:35:47.952061Z",
     "iopub.status.idle": "2022-02-15T21:35:47.955597Z",
     "shell.execute_reply": "2022-02-15T21:35:47.956158Z",
     "shell.execute_reply.started": "2022-02-15T20:25:53.329907Z"
    },
    "papermill": {
     "duration": 0.106118,
     "end_time": "2022-02-15T21:35:47.956318",
     "exception": false,
     "start_time": "2022-02-15T21:35:47.850200",
     "status": "completed"
    },
    "tags": []
   },
   "outputs": [],
   "source": [
    "categorical_feats = ['CODE_GENDER', 'FLAG_OWN_CAR', 'FLAG_OWN_REALTY','NAME_INCOME_TYPE', 'NAME_EDUCATION_TYPE',\n",
    "       'NAME_FAMILY_STATUS', 'NAME_HOUSING_TYPE', 'FLAG_MOBIL', 'FLAG_WORK_PHONE', 'FLAG_PHONE',\n",
    "       'FLAG_EMAIL']\n"
   ]
  },
  {
   "cell_type": "code",
   "execution_count": 19,
   "id": "48722b76",
   "metadata": {
    "execution": {
     "iopub.execute_input": "2022-02-15T21:35:48.157379Z",
     "iopub.status.busy": "2022-02-15T21:35:48.156764Z",
     "iopub.status.idle": "2022-02-15T21:35:53.501863Z",
     "shell.execute_reply": "2022-02-15T21:35:53.501348Z",
     "shell.execute_reply.started": "2022-02-15T20:25:53.631747Z"
    },
    "papermill": {
     "duration": 5.447134,
     "end_time": "2022-02-15T21:35:53.502007",
     "exception": false,
     "start_time": "2022-02-15T21:35:48.054873",
     "status": "completed"
    },
    "tags": []
   },
   "outputs": [
    {
     "data": {
      "image/png": "[encoded data removed]",
      "text/plain": [
       "<Figure size 1296x1800 with 12 Axes>"
      ]
     },
     "metadata": {},
     "output_type": "display_data"
    }
   ],
   "source": [
    "figure, axes = plt.subplots(4,3, figsize=(18,25))\n",
    "axes_flatteled = axes.flatten()\n",
    "plt.subplots_adjust(left=None, bottom=None, right=None, top=None, wspace=0.3, hspace=1.7)\n",
    "\n",
    "\n",
    "for idx, feat in enumerate(categorical_feats):\n",
    "    sns.countplot(ax=axes_flatteled[idx], data=application_record_df, x=feat)\n",
    "    axes_flatteled[idx].set_xticklabels(axes_flatteled[idx].get_xticklabels(), rotation =90)\n"
   ]
  },
  {
   "cell_type": "markdown",
   "id": "aa05b6a1",
   "metadata": {
    "papermill": {
     "duration": 0.102245,
     "end_time": "2022-02-15T21:35:53.706463",
     "exception": false,
     "start_time": "2022-02-15T21:35:53.604218",
     "status": "completed"
    },
    "tags": []
   },
   "source": [
    "The feature FLAG_MOBILE has only one unique value, so it has to be dropped.  \n",
    "The feature NAME_HOUSING_TYPE is very dominated by a single category, so it is very unlikely to provide useful information. It will be dropped.  \n",
    "In feature NAME_INCOME_TYPE, the category 'Student' has very few observations. And it would be better if we omitted this feature since the feature AMT_INCOME_TOTAL is what makes a difference. The same goes for NAME_EDUCATION_TYPE"
   ]
  },
  {
   "cell_type": "markdown",
   "id": "17becc21",
   "metadata": {
    "execution": {
     "iopub.execute_input": "2022-02-14T16:18:54.531952Z",
     "iopub.status.busy": "2022-02-14T16:18:54.531455Z",
     "iopub.status.idle": "2022-02-14T16:18:54.625145Z",
     "shell.execute_reply": "2022-02-14T16:18:54.624209Z",
     "shell.execute_reply.started": "2022-02-14T16:18:54.5319Z"
    },
    "papermill": {
     "duration": 0.101716,
     "end_time": "2022-02-15T21:35:53.913093",
     "exception": false,
     "start_time": "2022-02-15T21:35:53.811377",
     "status": "completed"
    },
    "tags": []
   },
   "source": [
    "### Exploring Numerical Variables"
   ]
  },
  {
   "cell_type": "code",
   "execution_count": 20,
   "id": "843a0dc1",
   "metadata": {
    "execution": {
     "iopub.execute_input": "2022-02-15T21:35:54.124254Z",
     "iopub.status.busy": "2022-02-15T21:35:54.123225Z",
     "iopub.status.idle": "2022-02-15T21:35:54.125454Z",
     "shell.execute_reply": "2022-02-15T21:35:54.126036Z",
     "shell.execute_reply.started": "2022-02-15T20:25:59.529399Z"
    },
    "papermill": {
     "duration": 0.110379,
     "end_time": "2022-02-15T21:35:54.126198",
     "exception": false,
     "start_time": "2022-02-15T21:35:54.015819",
     "status": "completed"
    },
    "tags": []
   },
   "outputs": [],
   "source": [
    "numerical_feats = ['DAYS_BIRTH','DAYS_EMPLOYED','CNT_CHILDREN', 'AMT_INCOME_TOTAL', 'CNT_FAM_MEMBERS']"
   ]
  },
  {
   "cell_type": "code",
   "execution_count": 21,
   "id": "82be6792",
   "metadata": {
    "execution": {
     "iopub.execute_input": "2022-02-15T21:35:54.338124Z",
     "iopub.status.busy": "2022-02-15T21:35:54.337440Z",
     "iopub.status.idle": "2022-02-15T21:35:55.985035Z",
     "shell.execute_reply": "2022-02-15T21:35:55.984164Z",
     "shell.execute_reply.started": "2022-02-15T20:25:59.536141Z"
    },
    "papermill": {
     "duration": 1.756678,
     "end_time": "2022-02-15T21:35:55.985194",
     "exception": false,
     "start_time": "2022-02-15T21:35:54.228516",
     "status": "completed"
    },
    "tags": []
   },
   "outputs": [
    {
     "data": {
      "image/png": "[encoded data removed]",
      "text/plain": [
       "<Figure size 1800x720 with 6 Axes>"
      ]
     },
     "metadata": {},
     "output_type": "display_data"
    }
   ],
   "source": [
    "figure, axes = plt.subplots(2,3, figsize=(25,10))\n",
    "axes_flatteled = axes.flatten()\n",
    "#plt.subplots_adjust(left=None, bottom=None, right=None, top=None, wspace=0.3, hspace=1.7)\n",
    "\n",
    "\n",
    "for idx, feat in enumerate(numerical_feats):\n",
    "    sns.boxplot(ax=axes_flatteled[idx], data=application_record_df, x=feat)\n",
    "    #axes_flatteled[idx].set_xticklabels(axes_flatteled[idx].get_xticklabels(), rotation =90)\n"
   ]
  },
  {
   "cell_type": "code",
   "execution_count": 22,
   "id": "b6348a76",
   "metadata": {
    "execution": {
     "iopub.execute_input": "2022-02-15T21:35:56.230516Z",
     "iopub.status.busy": "2022-02-15T21:35:56.229841Z",
     "iopub.status.idle": "2022-02-15T21:35:56.305468Z",
     "shell.execute_reply": "2022-02-15T21:35:56.304771Z",
     "shell.execute_reply.started": "2022-02-15T20:26:01.034609Z"
    },
    "papermill": {
     "duration": 0.20345,
     "end_time": "2022-02-15T21:35:56.305612",
     "exception": false,
     "start_time": "2022-02-15T21:35:56.102162",
     "status": "completed"
    },
    "tags": []
   },
   "outputs": [
    {
     "data": {
      "text/html": [
       "<div>\n",
       "<style scoped>\n",
       "    .dataframe tbody tr th:only-of-type {\n",
       "        vertical-align: middle;\n",
       "    }\n",
       "\n",
       "    .dataframe tbody tr th {\n",
       "        vertical-align: top;\n",
       "    }\n",
       "\n",
       "    .dataframe thead th {\n",
       "        text-align: right;\n",
       "    }\n",
       "</style>\n",
       "<table border=\"1\" class=\"dataframe\">\n",
       "  <thead>\n",
       "    <tr style=\"text-align: right;\">\n",
       "      <th></th>\n",
       "      <th>DAYS_BIRTH</th>\n",
       "      <th>DAYS_EMPLOYED</th>\n",
       "      <th>CNT_CHILDREN</th>\n",
       "      <th>AMT_INCOME_TOTAL</th>\n",
       "      <th>CNT_FAM_MEMBERS</th>\n",
       "    </tr>\n",
       "  </thead>\n",
       "  <tbody>\n",
       "    <tr>\n",
       "      <th>count</th>\n",
       "      <td>438557.000000</td>\n",
       "      <td>438557.000000</td>\n",
       "      <td>438557.000000</td>\n",
       "      <td>4.385570e+05</td>\n",
       "      <td>438557.000000</td>\n",
       "    </tr>\n",
       "    <tr>\n",
       "      <th>mean</th>\n",
       "      <td>-15997.904649</td>\n",
       "      <td>60563.675328</td>\n",
       "      <td>0.427390</td>\n",
       "      <td>1.875243e+05</td>\n",
       "      <td>2.194465</td>\n",
       "    </tr>\n",
       "    <tr>\n",
       "      <th>std</th>\n",
       "      <td>4185.030007</td>\n",
       "      <td>138767.799647</td>\n",
       "      <td>0.724882</td>\n",
       "      <td>1.100869e+05</td>\n",
       "      <td>0.897207</td>\n",
       "    </tr>\n",
       "    <tr>\n",
       "      <th>min</th>\n",
       "      <td>-25201.000000</td>\n",
       "      <td>-17531.000000</td>\n",
       "      <td>0.000000</td>\n",
       "      <td>2.610000e+04</td>\n",
       "      <td>1.000000</td>\n",
       "    </tr>\n",
       "    <tr>\n",
       "      <th>25%</th>\n",
       "      <td>-19483.000000</td>\n",
       "      <td>-3103.000000</td>\n",
       "      <td>0.000000</td>\n",
       "      <td>1.215000e+05</td>\n",
       "      <td>2.000000</td>\n",
       "    </tr>\n",
       "    <tr>\n",
       "      <th>50%</th>\n",
       "      <td>-15630.000000</td>\n",
       "      <td>-1467.000000</td>\n",
       "      <td>0.000000</td>\n",
       "      <td>1.607805e+05</td>\n",
       "      <td>2.000000</td>\n",
       "    </tr>\n",
       "    <tr>\n",
       "      <th>75%</th>\n",
       "      <td>-12514.000000</td>\n",
       "      <td>-371.000000</td>\n",
       "      <td>1.000000</td>\n",
       "      <td>2.250000e+05</td>\n",
       "      <td>3.000000</td>\n",
       "    </tr>\n",
       "    <tr>\n",
       "      <th>max</th>\n",
       "      <td>-7489.000000</td>\n",
       "      <td>365243.000000</td>\n",
       "      <td>19.000000</td>\n",
       "      <td>6.750000e+06</td>\n",
       "      <td>20.000000</td>\n",
       "    </tr>\n",
       "  </tbody>\n",
       "</table>\n",
       "</div>"
      ],
      "text/plain": [
       "          DAYS_BIRTH  DAYS_EMPLOYED   CNT_CHILDREN  AMT_INCOME_TOTAL  \\\n",
       "count  438557.000000  438557.000000  438557.000000      4.385570e+05   \n",
       "mean   -15997.904649   60563.675328       0.427390      1.875243e+05   \n",
       "std      4185.030007  138767.799647       0.724882      1.100869e+05   \n",
       "min    -25201.000000  -17531.000000       0.000000      2.610000e+04   \n",
       "25%    -19483.000000   -3103.000000       0.000000      1.215000e+05   \n",
       "50%    -15630.000000   -1467.000000       0.000000      1.607805e+05   \n",
       "75%    -12514.000000    -371.000000       1.000000      2.250000e+05   \n",
       "max     -7489.000000  365243.000000      19.000000      6.750000e+06   \n",
       "\n",
       "       CNT_FAM_MEMBERS  \n",
       "count    438557.000000  \n",
       "mean          2.194465  \n",
       "std           0.897207  \n",
       "min           1.000000  \n",
       "25%           2.000000  \n",
       "50%           2.000000  \n",
       "75%           3.000000  \n",
       "max          20.000000  "
      ]
     },
     "execution_count": 22,
     "metadata": {},
     "output_type": "execute_result"
    }
   ],
   "source": [
    "application_record_df[numerical_feats].describe()"
   ]
  },
  {
   "cell_type": "code",
   "execution_count": 23,
   "id": "47099e9a",
   "metadata": {
    "execution": {
     "iopub.execute_input": "2022-02-15T21:35:56.525497Z",
     "iopub.status.busy": "2022-02-15T21:35:56.524824Z",
     "iopub.status.idle": "2022-02-15T21:35:58.028197Z",
     "shell.execute_reply": "2022-02-15T21:35:58.027651Z",
     "shell.execute_reply.started": "2022-02-15T20:26:01.092336Z"
    },
    "papermill": {
     "duration": 1.617382,
     "end_time": "2022-02-15T21:35:58.028351",
     "exception": false,
     "start_time": "2022-02-15T21:35:56.410969",
     "status": "completed"
    },
    "tags": []
   },
   "outputs": [
    {
     "data": {
      "image/png": "[encoded data removed]",
      "text/plain": [
       "<Figure size 1440x720 with 6 Axes>"
      ]
     },
     "metadata": {},
     "output_type": "display_data"
    }
   ],
   "source": [
    "application_record_df[numerical_feats].hist(layout=(2,3), figsize=(20,10),bins=50, xrot=90)\n",
    "plt.subplots_adjust(left=None, bottom=None, right=None, top=None, wspace=0.3, hspace=0.7)\n",
    "\n",
    "plt.show()"
   ]
  },
  {
   "cell_type": "markdown",
   "id": "76e37ed3",
   "metadata": {
    "papermill": {
     "duration": 0.105746,
     "end_time": "2022-02-15T21:35:58.241015",
     "exception": false,
     "start_time": "2022-02-15T21:35:58.135269",
     "status": "completed"
    },
    "tags": []
   },
   "source": [
    "The numerical features need to be scaled (standardized/ Normalized).  \n",
    "To avoid the efect of outliers, we can use an ML model that is robust against outliers (i.e. Random Forest).  \n",
    "The outliers in DAYS_EMPLOYED (value = 365243) are not actual days, but an indication that the client is unemployed"
   ]
  },
  {
   "cell_type": "code",
   "execution_count": null,
   "id": "0506e114",
   "metadata": {
    "papermill": {
     "duration": 0.105035,
     "end_time": "2022-02-15T21:35:58.453219",
     "exception": false,
     "start_time": "2022-02-15T21:35:58.348184",
     "status": "completed"
    },
    "tags": []
   },
   "outputs": [],
   "source": []
  },
  {
   "cell_type": "markdown",
   "id": "c6e21acd",
   "metadata": {
    "papermill": {
     "duration": 0.110671,
     "end_time": "2022-02-15T21:35:58.675448",
     "exception": false,
     "start_time": "2022-02-15T21:35:58.564777",
     "status": "completed"
    },
    "tags": []
   },
   "source": [
    "#### From the Previous EDA, We need to preprocess the data in the following steps:\n",
    "- Remove OCCUPATION_TYPE. FLAG_MOBILE, NAME_HOUSING_TYPE, NAME_INCOME_TYPE, NAME_EDUCATION_TYPE columns from application records\n",
    "- Remove the rows containing duplicate IDs from application records.\n",
    "- Remove the rows that contain duplicate information with different IDs in application records\n",
    "- Encode categorical variables\n",
    "- Convert birthdays to years (difference in few months or days should not have an effect)\n",
    "- Convert DAYS_EMPLOYED to +ve numbers (in months, rounded up), with 0 meaning unemployed\n",
    "\n",
    "##### Some of these steps must be applied at test time\n"
   ]
  },
  {
   "cell_type": "code",
   "execution_count": null,
   "id": "25390740",
   "metadata": {
    "papermill": {
     "duration": 0.108011,
     "end_time": "2022-02-15T21:35:58.895812",
     "exception": false,
     "start_time": "2022-02-15T21:35:58.787801",
     "status": "completed"
    },
    "tags": []
   },
   "outputs": [],
   "source": []
  },
  {
   "cell_type": "markdown",
   "id": "c348bbde",
   "metadata": {
    "papermill": {
     "duration": 0.115572,
     "end_time": "2022-02-15T21:35:59.126357",
     "exception": false,
     "start_time": "2022-02-15T21:35:59.010785",
     "status": "completed"
    },
    "tags": []
   },
   "source": [
    "# Constructing Labels"
   ]
  },
  {
   "cell_type": "markdown",
   "id": "59edb2e4",
   "metadata": {
    "papermill": {
     "duration": 0.117406,
     "end_time": "2022-02-15T21:35:59.354211",
     "exception": false,
     "start_time": "2022-02-15T21:35:59.236805",
     "status": "completed"
    },
    "tags": []
   },
   "source": [
    "**The codes in the STATUS column indicate the following:**  \n",
    "0: 1-29 days past due  \n",
    "1: 30-59 days past due  \n",
    "2: 60-89 days overdue  \n",
    "3: 90-119 days overdue  \n",
    "4: 120-149 days overdue  \n",
    "5: Overdue or bad debts, write-offs for more than 150 days  \n",
    "C: paid off that month  \n",
    "X: No loan for the month  \n",
    "  \n",
    "  \n",
    "- If a client got STATUS= 4 or 5 (past due by more than 4 months), they will be labelled as bad clients  \n",
    "\n",
    "Otherwise, we judge based on the # months the client failed to pay by the due date, compared by the # months he didn't:  \n",
    "- If $ \\frac{no.~months~STATUS==0}{no.~months~STATUS==X~or~C}>=1$, the client will be labelled as a bad client\n",
    "- If $ \\frac{no.~months~STATUS==1}{0.75*no.~months~STATUS==X~or~C}>=1$, the client will be labelled as a bad client\n",
    "- If $ \\frac{no.~months~STATUS==2}{0.5*no.~months~STATUS==X~or~C}>=1$, the client will be labelled as a bad client\n",
    "- If $ \\frac{no.~months~STATUS==3}{0.25*no.~months~STATUS==X~or~C}>=1$, the client will be labelled as a bad client"
   ]
  },
  {
   "cell_type": "code",
   "execution_count": 24,
   "id": "89905f59",
   "metadata": {
    "execution": {
     "iopub.execute_input": "2022-02-15T21:35:59.592500Z",
     "iopub.status.busy": "2022-02-15T21:35:59.591765Z",
     "iopub.status.idle": "2022-02-15T21:35:59.852476Z",
     "shell.execute_reply": "2022-02-15T21:35:59.851900Z",
     "shell.execute_reply.started": "2022-02-15T20:26:02.658508Z"
    },
    "papermill": {
     "duration": 0.375682,
     "end_time": "2022-02-15T21:35:59.852636",
     "exception": false,
     "start_time": "2022-02-15T21:35:59.476954",
     "status": "completed"
    },
    "tags": []
   },
   "outputs": [
    {
     "data": {
      "text/html": [
       "<div>\n",
       "<style scoped>\n",
       "    .dataframe tbody tr th:only-of-type {\n",
       "        vertical-align: middle;\n",
       "    }\n",
       "\n",
       "    .dataframe tbody tr th {\n",
       "        vertical-align: top;\n",
       "    }\n",
       "\n",
       "    .dataframe thead th {\n",
       "        text-align: right;\n",
       "    }\n",
       "</style>\n",
       "<table border=\"1\" class=\"dataframe\">\n",
       "  <thead>\n",
       "    <tr style=\"text-align: right;\">\n",
       "      <th></th>\n",
       "      <th>ID</th>\n",
       "      <th>STATUS</th>\n",
       "      <th>STATUS_count</th>\n",
       "    </tr>\n",
       "  </thead>\n",
       "  <tbody>\n",
       "    <tr>\n",
       "      <th>0</th>\n",
       "      <td>5001711</td>\n",
       "      <td>0</td>\n",
       "      <td>3</td>\n",
       "    </tr>\n",
       "    <tr>\n",
       "      <th>1</th>\n",
       "      <td>5001711</td>\n",
       "      <td>X</td>\n",
       "      <td>1</td>\n",
       "    </tr>\n",
       "    <tr>\n",
       "      <th>2</th>\n",
       "      <td>5001712</td>\n",
       "      <td>0</td>\n",
       "      <td>10</td>\n",
       "    </tr>\n",
       "    <tr>\n",
       "      <th>3</th>\n",
       "      <td>5001712</td>\n",
       "      <td>C</td>\n",
       "      <td>9</td>\n",
       "    </tr>\n",
       "    <tr>\n",
       "      <th>4</th>\n",
       "      <td>5001713</td>\n",
       "      <td>X</td>\n",
       "      <td>22</td>\n",
       "    </tr>\n",
       "    <tr>\n",
       "      <th>...</th>\n",
       "      <td>...</td>\n",
       "      <td>...</td>\n",
       "      <td>...</td>\n",
       "    </tr>\n",
       "    <tr>\n",
       "      <th>94138</th>\n",
       "      <td>5150483</td>\n",
       "      <td>X</td>\n",
       "      <td>18</td>\n",
       "    </tr>\n",
       "    <tr>\n",
       "      <th>94139</th>\n",
       "      <td>5150484</td>\n",
       "      <td>0</td>\n",
       "      <td>12</td>\n",
       "    </tr>\n",
       "    <tr>\n",
       "      <th>94140</th>\n",
       "      <td>5150484</td>\n",
       "      <td>C</td>\n",
       "      <td>1</td>\n",
       "    </tr>\n",
       "    <tr>\n",
       "      <th>94141</th>\n",
       "      <td>5150485</td>\n",
       "      <td>0</td>\n",
       "      <td>2</td>\n",
       "    </tr>\n",
       "    <tr>\n",
       "      <th>94142</th>\n",
       "      <td>5150487</td>\n",
       "      <td>C</td>\n",
       "      <td>30</td>\n",
       "    </tr>\n",
       "  </tbody>\n",
       "</table>\n",
       "<p>94143 rows × 3 columns</p>\n",
       "</div>"
      ],
      "text/plain": [
       "            ID STATUS  STATUS_count\n",
       "0      5001711      0             3\n",
       "1      5001711      X             1\n",
       "2      5001712      0            10\n",
       "3      5001712      C             9\n",
       "4      5001713      X            22\n",
       "...        ...    ...           ...\n",
       "94138  5150483      X            18\n",
       "94139  5150484      0            12\n",
       "94140  5150484      C             1\n",
       "94141  5150485      0             2\n",
       "94142  5150487      C            30\n",
       "\n",
       "[94143 rows x 3 columns]"
      ]
     },
     "execution_count": 24,
     "metadata": {},
     "output_type": "execute_result"
    }
   ],
   "source": [
    "status_ratio_df = pd.DataFrame(credit_record_df.groupby(['ID', 'STATUS'])['STATUS'].count())\\\n",
    "                                .rename(columns={'STATUS': 'STATUS_count'})\\\n",
    "                                .reset_index()\n",
    "status_ratio_df"
   ]
  },
  {
   "cell_type": "code",
   "execution_count": 25,
   "id": "a06d1bef",
   "metadata": {
    "execution": {
     "iopub.execute_input": "2022-02-15T21:36:00.132398Z",
     "iopub.status.busy": "2022-02-15T21:36:00.131421Z",
     "iopub.status.idle": "2022-02-15T21:36:00.150138Z",
     "shell.execute_reply": "2022-02-15T21:36:00.149560Z",
     "shell.execute_reply.started": "2022-02-15T20:26:02.945048Z"
    },
    "papermill": {
     "duration": 0.180355,
     "end_time": "2022-02-15T21:36:00.150304",
     "exception": false,
     "start_time": "2022-02-15T21:35:59.969949",
     "status": "completed"
    },
    "tags": []
   },
   "outputs": [
    {
     "data": {
      "text/html": [
       "<div>\n",
       "<style scoped>\n",
       "    .dataframe tbody tr th:only-of-type {\n",
       "        vertical-align: middle;\n",
       "    }\n",
       "\n",
       "    .dataframe tbody tr th {\n",
       "        vertical-align: top;\n",
       "    }\n",
       "\n",
       "    .dataframe thead th {\n",
       "        text-align: right;\n",
       "    }\n",
       "</style>\n",
       "<table border=\"1\" class=\"dataframe\">\n",
       "  <thead>\n",
       "    <tr style=\"text-align: right;\">\n",
       "      <th></th>\n",
       "      <th>ID</th>\n",
       "      <th>STATUS</th>\n",
       "      <th>STATUS_count</th>\n",
       "      <th>X_or_C</th>\n",
       "    </tr>\n",
       "  </thead>\n",
       "  <tbody>\n",
       "    <tr>\n",
       "      <th>0</th>\n",
       "      <td>5001711</td>\n",
       "      <td>0</td>\n",
       "      <td>3</td>\n",
       "      <td>0</td>\n",
       "    </tr>\n",
       "    <tr>\n",
       "      <th>1</th>\n",
       "      <td>5001711</td>\n",
       "      <td>X</td>\n",
       "      <td>1</td>\n",
       "      <td>1</td>\n",
       "    </tr>\n",
       "    <tr>\n",
       "      <th>2</th>\n",
       "      <td>5001712</td>\n",
       "      <td>0</td>\n",
       "      <td>10</td>\n",
       "      <td>0</td>\n",
       "    </tr>\n",
       "    <tr>\n",
       "      <th>3</th>\n",
       "      <td>5001712</td>\n",
       "      <td>C</td>\n",
       "      <td>9</td>\n",
       "      <td>9</td>\n",
       "    </tr>\n",
       "    <tr>\n",
       "      <th>4</th>\n",
       "      <td>5001713</td>\n",
       "      <td>X</td>\n",
       "      <td>22</td>\n",
       "      <td>22</td>\n",
       "    </tr>\n",
       "    <tr>\n",
       "      <th>...</th>\n",
       "      <td>...</td>\n",
       "      <td>...</td>\n",
       "      <td>...</td>\n",
       "      <td>...</td>\n",
       "    </tr>\n",
       "    <tr>\n",
       "      <th>94138</th>\n",
       "      <td>5150483</td>\n",
       "      <td>X</td>\n",
       "      <td>18</td>\n",
       "      <td>18</td>\n",
       "    </tr>\n",
       "    <tr>\n",
       "      <th>94139</th>\n",
       "      <td>5150484</td>\n",
       "      <td>0</td>\n",
       "      <td>12</td>\n",
       "      <td>0</td>\n",
       "    </tr>\n",
       "    <tr>\n",
       "      <th>94140</th>\n",
       "      <td>5150484</td>\n",
       "      <td>C</td>\n",
       "      <td>1</td>\n",
       "      <td>1</td>\n",
       "    </tr>\n",
       "    <tr>\n",
       "      <th>94141</th>\n",
       "      <td>5150485</td>\n",
       "      <td>0</td>\n",
       "      <td>2</td>\n",
       "      <td>0</td>\n",
       "    </tr>\n",
       "    <tr>\n",
       "      <th>94142</th>\n",
       "      <td>5150487</td>\n",
       "      <td>C</td>\n",
       "      <td>30</td>\n",
       "      <td>30</td>\n",
       "    </tr>\n",
       "  </tbody>\n",
       "</table>\n",
       "<p>94143 rows × 4 columns</p>\n",
       "</div>"
      ],
      "text/plain": [
       "            ID STATUS  STATUS_count  X_or_C\n",
       "0      5001711      0             3       0\n",
       "1      5001711      X             1       1\n",
       "2      5001712      0            10       0\n",
       "3      5001712      C             9       9\n",
       "4      5001713      X            22      22\n",
       "...        ...    ...           ...     ...\n",
       "94138  5150483      X            18      18\n",
       "94139  5150484      0            12       0\n",
       "94140  5150484      C             1       1\n",
       "94141  5150485      0             2       0\n",
       "94142  5150487      C            30      30\n",
       "\n",
       "[94143 rows x 4 columns]"
      ]
     },
     "execution_count": 25,
     "metadata": {},
     "output_type": "execute_result"
    }
   ],
   "source": [
    "conditions = [status_ratio_df['STATUS']=='X', status_ratio_df['STATUS']=='C']\n",
    "choices = [status_ratio_df['STATUS_count'], status_ratio_df['STATUS_count']]\n",
    "status_ratio_df['X_or_C'] = np.select(conditions, choices, default=0)\n",
    "status_ratio_df"
   ]
  },
  {
   "cell_type": "code",
   "execution_count": 26,
   "id": "5054a034",
   "metadata": {
    "execution": {
     "iopub.execute_input": "2022-02-15T21:36:00.400106Z",
     "iopub.status.busy": "2022-02-15T21:36:00.399307Z",
     "iopub.status.idle": "2022-02-15T21:36:00.417219Z",
     "shell.execute_reply": "2022-02-15T21:36:00.416618Z",
     "shell.execute_reply.started": "2022-02-15T20:26:02.988985Z"
    },
    "papermill": {
     "duration": 0.141309,
     "end_time": "2022-02-15T21:36:00.417382",
     "exception": false,
     "start_time": "2022-02-15T21:36:00.276073",
     "status": "completed"
    },
    "tags": []
   },
   "outputs": [
    {
     "data": {
      "text/html": [
       "<div>\n",
       "<style scoped>\n",
       "    .dataframe tbody tr th:only-of-type {\n",
       "        vertical-align: middle;\n",
       "    }\n",
       "\n",
       "    .dataframe tbody tr th {\n",
       "        vertical-align: top;\n",
       "    }\n",
       "\n",
       "    .dataframe thead th {\n",
       "        text-align: right;\n",
       "    }\n",
       "</style>\n",
       "<table border=\"1\" class=\"dataframe\">\n",
       "  <thead>\n",
       "    <tr style=\"text-align: right;\">\n",
       "      <th></th>\n",
       "      <th>ID</th>\n",
       "      <th>X_or_C_count</th>\n",
       "    </tr>\n",
       "  </thead>\n",
       "  <tbody>\n",
       "    <tr>\n",
       "      <th>0</th>\n",
       "      <td>5001711</td>\n",
       "      <td>1</td>\n",
       "    </tr>\n",
       "    <tr>\n",
       "      <th>1</th>\n",
       "      <td>5001712</td>\n",
       "      <td>9</td>\n",
       "    </tr>\n",
       "    <tr>\n",
       "      <th>2</th>\n",
       "      <td>5001713</td>\n",
       "      <td>22</td>\n",
       "    </tr>\n",
       "    <tr>\n",
       "      <th>3</th>\n",
       "      <td>5001714</td>\n",
       "      <td>15</td>\n",
       "    </tr>\n",
       "    <tr>\n",
       "      <th>4</th>\n",
       "      <td>5001715</td>\n",
       "      <td>60</td>\n",
       "    </tr>\n",
       "  </tbody>\n",
       "</table>\n",
       "</div>"
      ],
      "text/plain": [
       "        ID  X_or_C_count\n",
       "0  5001711             1\n",
       "1  5001712             9\n",
       "2  5001713            22\n",
       "3  5001714            15\n",
       "4  5001715            60"
      ]
     },
     "execution_count": 26,
     "metadata": {},
     "output_type": "execute_result"
    }
   ],
   "source": [
    "temp_df = pd.DataFrame(status_ratio_df.groupby('ID')['X_or_C'].sum()).rename(columns={'X_or_C':'X_or_C_count'}).reset_index()\n",
    "temp_df.head()"
   ]
  },
  {
   "cell_type": "code",
   "execution_count": 27,
   "id": "3eacf072",
   "metadata": {
    "execution": {
     "iopub.execute_input": "2022-02-15T21:36:00.657611Z",
     "iopub.status.busy": "2022-02-15T21:36:00.656867Z",
     "iopub.status.idle": "2022-02-15T21:36:00.693474Z",
     "shell.execute_reply": "2022-02-15T21:36:00.693967Z",
     "shell.execute_reply.started": "2022-02-15T20:26:03.006831Z"
    },
    "papermill": {
     "duration": 0.154843,
     "end_time": "2022-02-15T21:36:00.694132",
     "exception": false,
     "start_time": "2022-02-15T21:36:00.539289",
     "status": "completed"
    },
    "tags": []
   },
   "outputs": [
    {
     "data": {
      "text/html": [
       "<div>\n",
       "<style scoped>\n",
       "    .dataframe tbody tr th:only-of-type {\n",
       "        vertical-align: middle;\n",
       "    }\n",
       "\n",
       "    .dataframe tbody tr th {\n",
       "        vertical-align: top;\n",
       "    }\n",
       "\n",
       "    .dataframe thead th {\n",
       "        text-align: right;\n",
       "    }\n",
       "</style>\n",
       "<table border=\"1\" class=\"dataframe\">\n",
       "  <thead>\n",
       "    <tr style=\"text-align: right;\">\n",
       "      <th></th>\n",
       "      <th>ID</th>\n",
       "      <th>STATUS</th>\n",
       "      <th>STATUS_count</th>\n",
       "      <th>X_or_C_count</th>\n",
       "    </tr>\n",
       "  </thead>\n",
       "  <tbody>\n",
       "    <tr>\n",
       "      <th>0</th>\n",
       "      <td>5001711</td>\n",
       "      <td>0</td>\n",
       "      <td>3</td>\n",
       "      <td>1</td>\n",
       "    </tr>\n",
       "    <tr>\n",
       "      <th>1</th>\n",
       "      <td>5001711</td>\n",
       "      <td>X</td>\n",
       "      <td>1</td>\n",
       "      <td>1</td>\n",
       "    </tr>\n",
       "    <tr>\n",
       "      <th>2</th>\n",
       "      <td>5001712</td>\n",
       "      <td>0</td>\n",
       "      <td>10</td>\n",
       "      <td>9</td>\n",
       "    </tr>\n",
       "    <tr>\n",
       "      <th>3</th>\n",
       "      <td>5001712</td>\n",
       "      <td>C</td>\n",
       "      <td>9</td>\n",
       "      <td>9</td>\n",
       "    </tr>\n",
       "    <tr>\n",
       "      <th>4</th>\n",
       "      <td>5001713</td>\n",
       "      <td>X</td>\n",
       "      <td>22</td>\n",
       "      <td>22</td>\n",
       "    </tr>\n",
       "    <tr>\n",
       "      <th>5</th>\n",
       "      <td>5001714</td>\n",
       "      <td>X</td>\n",
       "      <td>15</td>\n",
       "      <td>15</td>\n",
       "    </tr>\n",
       "    <tr>\n",
       "      <th>6</th>\n",
       "      <td>5001715</td>\n",
       "      <td>X</td>\n",
       "      <td>60</td>\n",
       "      <td>60</td>\n",
       "    </tr>\n",
       "    <tr>\n",
       "      <th>7</th>\n",
       "      <td>5001717</td>\n",
       "      <td>0</td>\n",
       "      <td>17</td>\n",
       "      <td>5</td>\n",
       "    </tr>\n",
       "    <tr>\n",
       "      <th>8</th>\n",
       "      <td>5001717</td>\n",
       "      <td>C</td>\n",
       "      <td>5</td>\n",
       "      <td>5</td>\n",
       "    </tr>\n",
       "    <tr>\n",
       "      <th>9</th>\n",
       "      <td>5001718</td>\n",
       "      <td>0</td>\n",
       "      <td>24</td>\n",
       "      <td>13</td>\n",
       "    </tr>\n",
       "  </tbody>\n",
       "</table>\n",
       "</div>"
      ],
      "text/plain": [
       "        ID STATUS  STATUS_count  X_or_C_count\n",
       "0  5001711      0             3             1\n",
       "1  5001711      X             1             1\n",
       "2  5001712      0            10             9\n",
       "3  5001712      C             9             9\n",
       "4  5001713      X            22            22\n",
       "5  5001714      X            15            15\n",
       "6  5001715      X            60            60\n",
       "7  5001717      0            17             5\n",
       "8  5001717      C             5             5\n",
       "9  5001718      0            24            13"
      ]
     },
     "execution_count": 27,
     "metadata": {},
     "output_type": "execute_result"
    }
   ],
   "source": [
    "status_ratio_df = status_ratio_df.merge(temp_df, on='ID', how='left').drop(columns='X_or_C')\n",
    "status_ratio_df.head(10)"
   ]
  },
  {
   "cell_type": "code",
   "execution_count": 28,
   "id": "04f64eb5",
   "metadata": {
    "execution": {
     "iopub.execute_input": "2022-02-15T21:36:00.921529Z",
     "iopub.status.busy": "2022-02-15T21:36:00.920804Z",
     "iopub.status.idle": "2022-02-15T21:36:01.061648Z",
     "shell.execute_reply": "2022-02-15T21:36:01.062126Z",
     "shell.execute_reply.started": "2022-02-15T20:26:03.051982Z"
    },
    "papermill": {
     "duration": 0.259935,
     "end_time": "2022-02-15T21:36:01.062299",
     "exception": false,
     "start_time": "2022-02-15T21:36:00.802364",
     "status": "completed"
    },
    "tags": []
   },
   "outputs": [
    {
     "data": {
      "text/html": [
       "<div>\n",
       "<style scoped>\n",
       "    .dataframe tbody tr th:only-of-type {\n",
       "        vertical-align: middle;\n",
       "    }\n",
       "\n",
       "    .dataframe tbody tr th {\n",
       "        vertical-align: top;\n",
       "    }\n",
       "\n",
       "    .dataframe thead th {\n",
       "        text-align: right;\n",
       "    }\n",
       "</style>\n",
       "<table border=\"1\" class=\"dataframe\">\n",
       "  <thead>\n",
       "    <tr style=\"text-align: right;\">\n",
       "      <th></th>\n",
       "      <th>ID</th>\n",
       "      <th>STATUS</th>\n",
       "      <th>STATUS_count</th>\n",
       "      <th>X_or_C_count</th>\n",
       "      <th>bad_client_temp</th>\n",
       "    </tr>\n",
       "  </thead>\n",
       "  <tbody>\n",
       "    <tr>\n",
       "      <th>0</th>\n",
       "      <td>5001711</td>\n",
       "      <td>0</td>\n",
       "      <td>3</td>\n",
       "      <td>1</td>\n",
       "      <td>1</td>\n",
       "    </tr>\n",
       "    <tr>\n",
       "      <th>1</th>\n",
       "      <td>5001711</td>\n",
       "      <td>X</td>\n",
       "      <td>1</td>\n",
       "      <td>1</td>\n",
       "      <td>0</td>\n",
       "    </tr>\n",
       "    <tr>\n",
       "      <th>2</th>\n",
       "      <td>5001712</td>\n",
       "      <td>0</td>\n",
       "      <td>10</td>\n",
       "      <td>9</td>\n",
       "      <td>1</td>\n",
       "    </tr>\n",
       "    <tr>\n",
       "      <th>3</th>\n",
       "      <td>5001712</td>\n",
       "      <td>C</td>\n",
       "      <td>9</td>\n",
       "      <td>9</td>\n",
       "      <td>0</td>\n",
       "    </tr>\n",
       "    <tr>\n",
       "      <th>4</th>\n",
       "      <td>5001713</td>\n",
       "      <td>X</td>\n",
       "      <td>22</td>\n",
       "      <td>22</td>\n",
       "      <td>0</td>\n",
       "    </tr>\n",
       "    <tr>\n",
       "      <th>...</th>\n",
       "      <td>...</td>\n",
       "      <td>...</td>\n",
       "      <td>...</td>\n",
       "      <td>...</td>\n",
       "      <td>...</td>\n",
       "    </tr>\n",
       "    <tr>\n",
       "      <th>94138</th>\n",
       "      <td>5150483</td>\n",
       "      <td>X</td>\n",
       "      <td>18</td>\n",
       "      <td>18</td>\n",
       "      <td>0</td>\n",
       "    </tr>\n",
       "    <tr>\n",
       "      <th>94139</th>\n",
       "      <td>5150484</td>\n",
       "      <td>0</td>\n",
       "      <td>12</td>\n",
       "      <td>1</td>\n",
       "      <td>1</td>\n",
       "    </tr>\n",
       "    <tr>\n",
       "      <th>94140</th>\n",
       "      <td>5150484</td>\n",
       "      <td>C</td>\n",
       "      <td>1</td>\n",
       "      <td>1</td>\n",
       "      <td>0</td>\n",
       "    </tr>\n",
       "    <tr>\n",
       "      <th>94141</th>\n",
       "      <td>5150485</td>\n",
       "      <td>0</td>\n",
       "      <td>2</td>\n",
       "      <td>0</td>\n",
       "      <td>1</td>\n",
       "    </tr>\n",
       "    <tr>\n",
       "      <th>94142</th>\n",
       "      <td>5150487</td>\n",
       "      <td>C</td>\n",
       "      <td>30</td>\n",
       "      <td>30</td>\n",
       "      <td>0</td>\n",
       "    </tr>\n",
       "  </tbody>\n",
       "</table>\n",
       "<p>94143 rows × 5 columns</p>\n",
       "</div>"
      ],
      "text/plain": [
       "            ID STATUS  STATUS_count  X_or_C_count  bad_client_temp\n",
       "0      5001711      0             3             1                1\n",
       "1      5001711      X             1             1                0\n",
       "2      5001712      0            10             9                1\n",
       "3      5001712      C             9             9                0\n",
       "4      5001713      X            22            22                0\n",
       "...        ...    ...           ...           ...              ...\n",
       "94138  5150483      X            18            18                0\n",
       "94139  5150484      0            12             1                1\n",
       "94140  5150484      C             1             1                0\n",
       "94141  5150485      0             2             0                1\n",
       "94142  5150487      C            30            30                0\n",
       "\n",
       "[94143 rows x 5 columns]"
      ]
     },
     "execution_count": 28,
     "metadata": {},
     "output_type": "execute_result"
    }
   ],
   "source": [
    "conditions = [(status_ratio_df['STATUS']=='0')&((status_ratio_df['STATUS_count']/status_ratio_df['X_or_C_count'])>=1),\n",
    "              (status_ratio_df['STATUS']=='1')&((status_ratio_df['STATUS_count']/(0.75*status_ratio_df['X_or_C_count']))>=1),\n",
    "              (status_ratio_df['STATUS']=='2')&((status_ratio_df['STATUS_count']/(0.5*status_ratio_df['X_or_C_count']))>=1), \n",
    "              (status_ratio_df['STATUS']=='3')&((status_ratio_df['STATUS_count']/(0.25*status_ratio_df['X_or_C_count']))>=1),\n",
    "              status_ratio_df['STATUS']=='4', status_ratio_df['STATUS']=='5',\n",
    "              status_ratio_df['STATUS']=='X', status_ratio_df['STATUS']=='C']\n",
    "choices = [1,1,1,1,1,1,0,0]\n",
    "\n",
    "status_ratio_df['bad_client_temp'] = np.select(conditions, choices, default=0)\n",
    "status_ratio_df"
   ]
  },
  {
   "cell_type": "code",
   "execution_count": 29,
   "id": "3bc6c362",
   "metadata": {
    "execution": {
     "iopub.execute_input": "2022-02-15T21:36:01.285077Z",
     "iopub.status.busy": "2022-02-15T21:36:01.284485Z",
     "iopub.status.idle": "2022-02-15T21:36:01.306812Z",
     "shell.execute_reply": "2022-02-15T21:36:01.306242Z",
     "shell.execute_reply.started": "2022-02-15T20:26:03.183484Z"
    },
    "papermill": {
     "duration": 0.133994,
     "end_time": "2022-02-15T21:36:01.306957",
     "exception": false,
     "start_time": "2022-02-15T21:36:01.172963",
     "status": "completed"
    },
    "tags": []
   },
   "outputs": [
    {
     "data": {
      "text/html": [
       "<div>\n",
       "<style scoped>\n",
       "    .dataframe tbody tr th:only-of-type {\n",
       "        vertical-align: middle;\n",
       "    }\n",
       "\n",
       "    .dataframe tbody tr th {\n",
       "        vertical-align: top;\n",
       "    }\n",
       "\n",
       "    .dataframe thead th {\n",
       "        text-align: right;\n",
       "    }\n",
       "</style>\n",
       "<table border=\"1\" class=\"dataframe\">\n",
       "  <thead>\n",
       "    <tr style=\"text-align: right;\">\n",
       "      <th></th>\n",
       "      <th>ID</th>\n",
       "      <th>bad_client</th>\n",
       "    </tr>\n",
       "  </thead>\n",
       "  <tbody>\n",
       "    <tr>\n",
       "      <th>0</th>\n",
       "      <td>5001711</td>\n",
       "      <td>1</td>\n",
       "    </tr>\n",
       "    <tr>\n",
       "      <th>1</th>\n",
       "      <td>5001712</td>\n",
       "      <td>1</td>\n",
       "    </tr>\n",
       "    <tr>\n",
       "      <th>2</th>\n",
       "      <td>5001713</td>\n",
       "      <td>0</td>\n",
       "    </tr>\n",
       "    <tr>\n",
       "      <th>3</th>\n",
       "      <td>5001714</td>\n",
       "      <td>0</td>\n",
       "    </tr>\n",
       "    <tr>\n",
       "      <th>4</th>\n",
       "      <td>5001715</td>\n",
       "      <td>0</td>\n",
       "    </tr>\n",
       "    <tr>\n",
       "      <th>...</th>\n",
       "      <td>...</td>\n",
       "      <td>...</td>\n",
       "    </tr>\n",
       "    <tr>\n",
       "      <th>45980</th>\n",
       "      <td>5150482</td>\n",
       "      <td>1</td>\n",
       "    </tr>\n",
       "    <tr>\n",
       "      <th>45981</th>\n",
       "      <td>5150483</td>\n",
       "      <td>0</td>\n",
       "    </tr>\n",
       "    <tr>\n",
       "      <th>45982</th>\n",
       "      <td>5150484</td>\n",
       "      <td>1</td>\n",
       "    </tr>\n",
       "    <tr>\n",
       "      <th>45983</th>\n",
       "      <td>5150485</td>\n",
       "      <td>1</td>\n",
       "    </tr>\n",
       "    <tr>\n",
       "      <th>45984</th>\n",
       "      <td>5150487</td>\n",
       "      <td>0</td>\n",
       "    </tr>\n",
       "  </tbody>\n",
       "</table>\n",
       "<p>45985 rows × 2 columns</p>\n",
       "</div>"
      ],
      "text/plain": [
       "            ID  bad_client\n",
       "0      5001711           1\n",
       "1      5001712           1\n",
       "2      5001713           0\n",
       "3      5001714           0\n",
       "4      5001715           0\n",
       "...        ...         ...\n",
       "45980  5150482           1\n",
       "45981  5150483           0\n",
       "45982  5150484           1\n",
       "45983  5150485           1\n",
       "45984  5150487           0\n",
       "\n",
       "[45985 rows x 2 columns]"
      ]
     },
     "execution_count": 29,
     "metadata": {},
     "output_type": "execute_result"
    }
   ],
   "source": [
    "targets_df = pd.DataFrame(status_ratio_df.groupby('ID')['bad_client_temp'].max()).rename(columns={'bad_client_temp':'bad_client'}).reset_index()\n",
    "targets_df"
   ]
  },
  {
   "cell_type": "markdown",
   "id": "b3aec8bb",
   "metadata": {
    "papermill": {
     "duration": 0.109416,
     "end_time": "2022-02-15T21:36:01.526482",
     "exception": false,
     "start_time": "2022-02-15T21:36:01.417066",
     "status": "completed"
    },
    "tags": []
   },
   "source": [
    "### Add the labels to corresponding applicants information"
   ]
  },
  {
   "cell_type": "code",
   "execution_count": 30,
   "id": "e78d4b47",
   "metadata": {
    "execution": {
     "iopub.execute_input": "2022-02-15T21:36:01.750433Z",
     "iopub.status.busy": "2022-02-15T21:36:01.749773Z",
     "iopub.status.idle": "2022-02-15T21:36:02.043120Z",
     "shell.execute_reply": "2022-02-15T21:36:02.043676Z",
     "shell.execute_reply.started": "2022-02-15T20:26:03.204904Z"
    },
    "papermill": {
     "duration": 0.408188,
     "end_time": "2022-02-15T21:36:02.043850",
     "exception": false,
     "start_time": "2022-02-15T21:36:01.635662",
     "status": "completed"
    },
    "tags": []
   },
   "outputs": [
    {
     "data": {
      "text/html": [
       "<div>\n",
       "<style scoped>\n",
       "    .dataframe tbody tr th:only-of-type {\n",
       "        vertical-align: middle;\n",
       "    }\n",
       "\n",
       "    .dataframe tbody tr th {\n",
       "        vertical-align: top;\n",
       "    }\n",
       "\n",
       "    .dataframe thead th {\n",
       "        text-align: right;\n",
       "    }\n",
       "</style>\n",
       "<table border=\"1\" class=\"dataframe\">\n",
       "  <thead>\n",
       "    <tr style=\"text-align: right;\">\n",
       "      <th></th>\n",
       "      <th>ID</th>\n",
       "      <th>CODE_GENDER</th>\n",
       "      <th>FLAG_OWN_CAR</th>\n",
       "      <th>FLAG_OWN_REALTY</th>\n",
       "      <th>CNT_CHILDREN</th>\n",
       "      <th>AMT_INCOME_TOTAL</th>\n",
       "      <th>NAME_INCOME_TYPE</th>\n",
       "      <th>NAME_EDUCATION_TYPE</th>\n",
       "      <th>NAME_FAMILY_STATUS</th>\n",
       "      <th>NAME_HOUSING_TYPE</th>\n",
       "      <th>DAYS_BIRTH</th>\n",
       "      <th>DAYS_EMPLOYED</th>\n",
       "      <th>FLAG_MOBIL</th>\n",
       "      <th>FLAG_WORK_PHONE</th>\n",
       "      <th>FLAG_PHONE</th>\n",
       "      <th>FLAG_EMAIL</th>\n",
       "      <th>OCCUPATION_TYPE</th>\n",
       "      <th>CNT_FAM_MEMBERS</th>\n",
       "      <th>bad_client</th>\n",
       "    </tr>\n",
       "  </thead>\n",
       "  <tbody>\n",
       "    <tr>\n",
       "      <th>0</th>\n",
       "      <td>5008804</td>\n",
       "      <td>M</td>\n",
       "      <td>Y</td>\n",
       "      <td>Y</td>\n",
       "      <td>0</td>\n",
       "      <td>427500.0</td>\n",
       "      <td>Working</td>\n",
       "      <td>Higher education</td>\n",
       "      <td>Civil marriage</td>\n",
       "      <td>Rented apartment</td>\n",
       "      <td>-12005</td>\n",
       "      <td>-4542</td>\n",
       "      <td>1</td>\n",
       "      <td>1</td>\n",
       "      <td>0</td>\n",
       "      <td>0</td>\n",
       "      <td>NaN</td>\n",
       "      <td>2.0</td>\n",
       "      <td>0.0</td>\n",
       "    </tr>\n",
       "    <tr>\n",
       "      <th>1</th>\n",
       "      <td>5008805</td>\n",
       "      <td>M</td>\n",
       "      <td>Y</td>\n",
       "      <td>Y</td>\n",
       "      <td>0</td>\n",
       "      <td>427500.0</td>\n",
       "      <td>Working</td>\n",
       "      <td>Higher education</td>\n",
       "      <td>Civil marriage</td>\n",
       "      <td>Rented apartment</td>\n",
       "      <td>-12005</td>\n",
       "      <td>-4542</td>\n",
       "      <td>1</td>\n",
       "      <td>1</td>\n",
       "      <td>0</td>\n",
       "      <td>0</td>\n",
       "      <td>NaN</td>\n",
       "      <td>2.0</td>\n",
       "      <td>0.0</td>\n",
       "    </tr>\n",
       "    <tr>\n",
       "      <th>2</th>\n",
       "      <td>5008806</td>\n",
       "      <td>M</td>\n",
       "      <td>Y</td>\n",
       "      <td>Y</td>\n",
       "      <td>0</td>\n",
       "      <td>112500.0</td>\n",
       "      <td>Working</td>\n",
       "      <td>Secondary / secondary special</td>\n",
       "      <td>Married</td>\n",
       "      <td>House / apartment</td>\n",
       "      <td>-21474</td>\n",
       "      <td>-1134</td>\n",
       "      <td>1</td>\n",
       "      <td>0</td>\n",
       "      <td>0</td>\n",
       "      <td>0</td>\n",
       "      <td>Security staff</td>\n",
       "      <td>2.0</td>\n",
       "      <td>0.0</td>\n",
       "    </tr>\n",
       "    <tr>\n",
       "      <th>3</th>\n",
       "      <td>5008808</td>\n",
       "      <td>F</td>\n",
       "      <td>N</td>\n",
       "      <td>Y</td>\n",
       "      <td>0</td>\n",
       "      <td>270000.0</td>\n",
       "      <td>Commercial associate</td>\n",
       "      <td>Secondary / secondary special</td>\n",
       "      <td>Single / not married</td>\n",
       "      <td>House / apartment</td>\n",
       "      <td>-19110</td>\n",
       "      <td>-3051</td>\n",
       "      <td>1</td>\n",
       "      <td>0</td>\n",
       "      <td>1</td>\n",
       "      <td>1</td>\n",
       "      <td>Sales staff</td>\n",
       "      <td>1.0</td>\n",
       "      <td>0.0</td>\n",
       "    </tr>\n",
       "    <tr>\n",
       "      <th>4</th>\n",
       "      <td>5008809</td>\n",
       "      <td>F</td>\n",
       "      <td>N</td>\n",
       "      <td>Y</td>\n",
       "      <td>0</td>\n",
       "      <td>270000.0</td>\n",
       "      <td>Commercial associate</td>\n",
       "      <td>Secondary / secondary special</td>\n",
       "      <td>Single / not married</td>\n",
       "      <td>House / apartment</td>\n",
       "      <td>-19110</td>\n",
       "      <td>-3051</td>\n",
       "      <td>1</td>\n",
       "      <td>0</td>\n",
       "      <td>1</td>\n",
       "      <td>1</td>\n",
       "      <td>Sales staff</td>\n",
       "      <td>1.0</td>\n",
       "      <td>0.0</td>\n",
       "    </tr>\n",
       "    <tr>\n",
       "      <th>...</th>\n",
       "      <td>...</td>\n",
       "      <td>...</td>\n",
       "      <td>...</td>\n",
       "      <td>...</td>\n",
       "      <td>...</td>\n",
       "      <td>...</td>\n",
       "      <td>...</td>\n",
       "      <td>...</td>\n",
       "      <td>...</td>\n",
       "      <td>...</td>\n",
       "      <td>...</td>\n",
       "      <td>...</td>\n",
       "      <td>...</td>\n",
       "      <td>...</td>\n",
       "      <td>...</td>\n",
       "      <td>...</td>\n",
       "      <td>...</td>\n",
       "      <td>...</td>\n",
       "      <td>...</td>\n",
       "    </tr>\n",
       "    <tr>\n",
       "      <th>438552</th>\n",
       "      <td>6840104</td>\n",
       "      <td>M</td>\n",
       "      <td>N</td>\n",
       "      <td>Y</td>\n",
       "      <td>0</td>\n",
       "      <td>135000.0</td>\n",
       "      <td>Pensioner</td>\n",
       "      <td>Secondary / secondary special</td>\n",
       "      <td>Separated</td>\n",
       "      <td>House / apartment</td>\n",
       "      <td>-22717</td>\n",
       "      <td>365243</td>\n",
       "      <td>1</td>\n",
       "      <td>0</td>\n",
       "      <td>0</td>\n",
       "      <td>0</td>\n",
       "      <td>NaN</td>\n",
       "      <td>1.0</td>\n",
       "      <td>NaN</td>\n",
       "    </tr>\n",
       "    <tr>\n",
       "      <th>438553</th>\n",
       "      <td>6840222</td>\n",
       "      <td>F</td>\n",
       "      <td>N</td>\n",
       "      <td>N</td>\n",
       "      <td>0</td>\n",
       "      <td>103500.0</td>\n",
       "      <td>Working</td>\n",
       "      <td>Secondary / secondary special</td>\n",
       "      <td>Single / not married</td>\n",
       "      <td>House / apartment</td>\n",
       "      <td>-15939</td>\n",
       "      <td>-3007</td>\n",
       "      <td>1</td>\n",
       "      <td>0</td>\n",
       "      <td>0</td>\n",
       "      <td>0</td>\n",
       "      <td>Laborers</td>\n",
       "      <td>1.0</td>\n",
       "      <td>NaN</td>\n",
       "    </tr>\n",
       "    <tr>\n",
       "      <th>438554</th>\n",
       "      <td>6841878</td>\n",
       "      <td>F</td>\n",
       "      <td>N</td>\n",
       "      <td>N</td>\n",
       "      <td>0</td>\n",
       "      <td>54000.0</td>\n",
       "      <td>Commercial associate</td>\n",
       "      <td>Higher education</td>\n",
       "      <td>Single / not married</td>\n",
       "      <td>With parents</td>\n",
       "      <td>-8169</td>\n",
       "      <td>-372</td>\n",
       "      <td>1</td>\n",
       "      <td>1</td>\n",
       "      <td>0</td>\n",
       "      <td>0</td>\n",
       "      <td>Sales staff</td>\n",
       "      <td>1.0</td>\n",
       "      <td>NaN</td>\n",
       "    </tr>\n",
       "    <tr>\n",
       "      <th>438555</th>\n",
       "      <td>6842765</td>\n",
       "      <td>F</td>\n",
       "      <td>N</td>\n",
       "      <td>Y</td>\n",
       "      <td>0</td>\n",
       "      <td>72000.0</td>\n",
       "      <td>Pensioner</td>\n",
       "      <td>Secondary / secondary special</td>\n",
       "      <td>Married</td>\n",
       "      <td>House / apartment</td>\n",
       "      <td>-21673</td>\n",
       "      <td>365243</td>\n",
       "      <td>1</td>\n",
       "      <td>0</td>\n",
       "      <td>0</td>\n",
       "      <td>0</td>\n",
       "      <td>NaN</td>\n",
       "      <td>2.0</td>\n",
       "      <td>NaN</td>\n",
       "    </tr>\n",
       "    <tr>\n",
       "      <th>438556</th>\n",
       "      <td>6842885</td>\n",
       "      <td>F</td>\n",
       "      <td>N</td>\n",
       "      <td>Y</td>\n",
       "      <td>0</td>\n",
       "      <td>121500.0</td>\n",
       "      <td>Working</td>\n",
       "      <td>Secondary / secondary special</td>\n",
       "      <td>Married</td>\n",
       "      <td>House / apartment</td>\n",
       "      <td>-18858</td>\n",
       "      <td>-1201</td>\n",
       "      <td>1</td>\n",
       "      <td>0</td>\n",
       "      <td>1</td>\n",
       "      <td>0</td>\n",
       "      <td>Sales staff</td>\n",
       "      <td>2.0</td>\n",
       "      <td>NaN</td>\n",
       "    </tr>\n",
       "  </tbody>\n",
       "</table>\n",
       "<p>438557 rows × 19 columns</p>\n",
       "</div>"
      ],
      "text/plain": [
       "             ID CODE_GENDER FLAG_OWN_CAR FLAG_OWN_REALTY  CNT_CHILDREN  \\\n",
       "0       5008804           M            Y               Y             0   \n",
       "1       5008805           M            Y               Y             0   \n",
       "2       5008806           M            Y               Y             0   \n",
       "3       5008808           F            N               Y             0   \n",
       "4       5008809           F            N               Y             0   \n",
       "...         ...         ...          ...             ...           ...   \n",
       "438552  6840104           M            N               Y             0   \n",
       "438553  6840222           F            N               N             0   \n",
       "438554  6841878           F            N               N             0   \n",
       "438555  6842765           F            N               Y             0   \n",
       "438556  6842885           F            N               Y             0   \n",
       "\n",
       "        AMT_INCOME_TOTAL      NAME_INCOME_TYPE            NAME_EDUCATION_TYPE  \\\n",
       "0               427500.0               Working               Higher education   \n",
       "1               427500.0               Working               Higher education   \n",
       "2               112500.0               Working  Secondary / secondary special   \n",
       "3               270000.0  Commercial associate  Secondary / secondary special   \n",
       "4               270000.0  Commercial associate  Secondary / secondary special   \n",
       "...                  ...                   ...                            ...   \n",
       "438552          135000.0             Pensioner  Secondary / secondary special   \n",
       "438553          103500.0               Working  Secondary / secondary special   \n",
       "438554           54000.0  Commercial associate               Higher education   \n",
       "438555           72000.0             Pensioner  Secondary / secondary special   \n",
       "438556          121500.0               Working  Secondary / secondary special   \n",
       "\n",
       "          NAME_FAMILY_STATUS  NAME_HOUSING_TYPE  DAYS_BIRTH  DAYS_EMPLOYED  \\\n",
       "0             Civil marriage   Rented apartment      -12005          -4542   \n",
       "1             Civil marriage   Rented apartment      -12005          -4542   \n",
       "2                    Married  House / apartment      -21474          -1134   \n",
       "3       Single / not married  House / apartment      -19110          -3051   \n",
       "4       Single / not married  House / apartment      -19110          -3051   \n",
       "...                      ...                ...         ...            ...   \n",
       "438552             Separated  House / apartment      -22717         365243   \n",
       "438553  Single / not married  House / apartment      -15939          -3007   \n",
       "438554  Single / not married       With parents       -8169           -372   \n",
       "438555               Married  House / apartment      -21673         365243   \n",
       "438556               Married  House / apartment      -18858          -1201   \n",
       "\n",
       "        FLAG_MOBIL  FLAG_WORK_PHONE  FLAG_PHONE  FLAG_EMAIL OCCUPATION_TYPE  \\\n",
       "0                1                1           0           0             NaN   \n",
       "1                1                1           0           0             NaN   \n",
       "2                1                0           0           0  Security staff   \n",
       "3                1                0           1           1     Sales staff   \n",
       "4                1                0           1           1     Sales staff   \n",
       "...            ...              ...         ...         ...             ...   \n",
       "438552           1                0           0           0             NaN   \n",
       "438553           1                0           0           0        Laborers   \n",
       "438554           1                1           0           0     Sales staff   \n",
       "438555           1                0           0           0             NaN   \n",
       "438556           1                0           1           0     Sales staff   \n",
       "\n",
       "        CNT_FAM_MEMBERS  bad_client  \n",
       "0                   2.0         0.0  \n",
       "1                   2.0         0.0  \n",
       "2                   2.0         0.0  \n",
       "3                   1.0         0.0  \n",
       "4                   1.0         0.0  \n",
       "...                 ...         ...  \n",
       "438552              1.0         NaN  \n",
       "438553              1.0         NaN  \n",
       "438554              1.0         NaN  \n",
       "438555              2.0         NaN  \n",
       "438556              2.0         NaN  \n",
       "\n",
       "[438557 rows x 19 columns]"
      ]
     },
     "execution_count": 30,
     "metadata": {},
     "output_type": "execute_result"
    }
   ],
   "source": [
    "final_df = application_record_df.merge(targets_df, on='ID', how='left')\n",
    "final_df"
   ]
  },
  {
   "cell_type": "code",
   "execution_count": 31,
   "id": "76ec899f",
   "metadata": {
    "execution": {
     "iopub.execute_input": "2022-02-15T21:36:02.268690Z",
     "iopub.status.busy": "2022-02-15T21:36:02.268080Z",
     "iopub.status.idle": "2022-02-15T21:36:02.683014Z",
     "shell.execute_reply": "2022-02-15T21:36:02.683534Z",
     "shell.execute_reply.started": "2022-02-15T20:26:03.553898Z"
    },
    "papermill": {
     "duration": 0.52847,
     "end_time": "2022-02-15T21:36:02.683713",
     "exception": false,
     "start_time": "2022-02-15T21:36:02.155243",
     "status": "completed"
    },
    "tags": []
   },
   "outputs": [
    {
     "name": "stdout",
     "output_type": "stream",
     "text": [
      "<class 'pandas.core.frame.DataFrame'>\n",
      "Int64Index: 438557 entries, 0 to 438556\n",
      "Data columns (total 19 columns):\n",
      " #   Column               Non-Null Count   Dtype  \n",
      "---  ------               --------------   -----  \n",
      " 0   ID                   438557 non-null  int64  \n",
      " 1   CODE_GENDER          438557 non-null  object \n",
      " 2   FLAG_OWN_CAR         438557 non-null  object \n",
      " 3   FLAG_OWN_REALTY      438557 non-null  object \n",
      " 4   CNT_CHILDREN         438557 non-null  int64  \n",
      " 5   AMT_INCOME_TOTAL     438557 non-null  float64\n",
      " 6   NAME_INCOME_TYPE     438557 non-null  object \n",
      " 7   NAME_EDUCATION_TYPE  438557 non-null  object \n",
      " 8   NAME_FAMILY_STATUS   438557 non-null  object \n",
      " 9   NAME_HOUSING_TYPE    438557 non-null  object \n",
      " 10  DAYS_BIRTH           438557 non-null  int64  \n",
      " 11  DAYS_EMPLOYED        438557 non-null  int64  \n",
      " 12  FLAG_MOBIL           438557 non-null  int64  \n",
      " 13  FLAG_WORK_PHONE      438557 non-null  int64  \n",
      " 14  FLAG_PHONE           438557 non-null  int64  \n",
      " 15  FLAG_EMAIL           438557 non-null  int64  \n",
      " 16  OCCUPATION_TYPE      304354 non-null  object \n",
      " 17  CNT_FAM_MEMBERS      438557 non-null  float64\n",
      " 18  bad_client           36457 non-null   float64\n",
      "dtypes: float64(3), int64(8), object(8)\n",
      "memory usage: 66.9+ MB\n"
     ]
    }
   ],
   "source": [
    "final_df.info()"
   ]
  },
  {
   "cell_type": "markdown",
   "id": "96ecf692",
   "metadata": {
    "papermill": {
     "duration": 0.113943,
     "end_time": "2022-02-15T21:36:02.915607",
     "exception": false,
     "start_time": "2022-02-15T21:36:02.801664",
     "status": "completed"
    },
    "tags": []
   },
   "source": [
    "**Since some applicants didn't have their history informations, and hence have no labels, they will be dropped**"
   ]
  },
  {
   "cell_type": "code",
   "execution_count": 32,
   "id": "03ffea89",
   "metadata": {
    "execution": {
     "iopub.execute_input": "2022-02-15T21:36:03.149913Z",
     "iopub.status.busy": "2022-02-15T21:36:03.148136Z",
     "iopub.status.idle": "2022-02-15T21:36:03.326818Z",
     "shell.execute_reply": "2022-02-15T21:36:03.327371Z",
     "shell.execute_reply.started": "2022-02-15T20:26:03.896208Z"
    },
    "papermill": {
     "duration": 0.300587,
     "end_time": "2022-02-15T21:36:03.327548",
     "exception": false,
     "start_time": "2022-02-15T21:36:03.026961",
     "status": "completed"
    },
    "tags": []
   },
   "outputs": [],
   "source": [
    "final_df.dropna(subset=['bad_client'], inplace=True)"
   ]
  },
  {
   "cell_type": "code",
   "execution_count": 33,
   "id": "9591e8ad",
   "metadata": {
    "execution": {
     "iopub.execute_input": "2022-02-15T21:36:03.556709Z",
     "iopub.status.busy": "2022-02-15T21:36:03.555703Z",
     "iopub.status.idle": "2022-02-15T21:36:03.599187Z",
     "shell.execute_reply": "2022-02-15T21:36:03.599740Z",
     "shell.execute_reply.started": "2022-02-15T20:26:04.024202Z"
    },
    "papermill": {
     "duration": 0.159871,
     "end_time": "2022-02-15T21:36:03.599910",
     "exception": false,
     "start_time": "2022-02-15T21:36:03.440039",
     "status": "completed"
    },
    "tags": []
   },
   "outputs": [
    {
     "name": "stdout",
     "output_type": "stream",
     "text": [
      "<class 'pandas.core.frame.DataFrame'>\n",
      "Int64Index: 36457 entries, 0 to 434812\n",
      "Data columns (total 19 columns):\n",
      " #   Column               Non-Null Count  Dtype  \n",
      "---  ------               --------------  -----  \n",
      " 0   ID                   36457 non-null  int64  \n",
      " 1   CODE_GENDER          36457 non-null  object \n",
      " 2   FLAG_OWN_CAR         36457 non-null  object \n",
      " 3   FLAG_OWN_REALTY      36457 non-null  object \n",
      " 4   CNT_CHILDREN         36457 non-null  int64  \n",
      " 5   AMT_INCOME_TOTAL     36457 non-null  float64\n",
      " 6   NAME_INCOME_TYPE     36457 non-null  object \n",
      " 7   NAME_EDUCATION_TYPE  36457 non-null  object \n",
      " 8   NAME_FAMILY_STATUS   36457 non-null  object \n",
      " 9   NAME_HOUSING_TYPE    36457 non-null  object \n",
      " 10  DAYS_BIRTH           36457 non-null  int64  \n",
      " 11  DAYS_EMPLOYED        36457 non-null  int64  \n",
      " 12  FLAG_MOBIL           36457 non-null  int64  \n",
      " 13  FLAG_WORK_PHONE      36457 non-null  int64  \n",
      " 14  FLAG_PHONE           36457 non-null  int64  \n",
      " 15  FLAG_EMAIL           36457 non-null  int64  \n",
      " 16  OCCUPATION_TYPE      25134 non-null  object \n",
      " 17  CNT_FAM_MEMBERS      36457 non-null  float64\n",
      " 18  bad_client           36457 non-null  float64\n",
      "dtypes: float64(3), int64(8), object(8)\n",
      "memory usage: 5.6+ MB\n"
     ]
    }
   ],
   "source": [
    "final_df.info()"
   ]
  },
  {
   "cell_type": "code",
   "execution_count": null,
   "id": "b5428c18",
   "metadata": {
    "papermill": {
     "duration": 0.113778,
     "end_time": "2022-02-15T21:36:03.827368",
     "exception": false,
     "start_time": "2022-02-15T21:36:03.713590",
     "status": "completed"
    },
    "tags": []
   },
   "outputs": [],
   "source": []
  },
  {
   "cell_type": "markdown",
   "id": "874e20d0",
   "metadata": {
    "papermill": {
     "duration": 0.11263,
     "end_time": "2022-02-15T21:36:04.052622",
     "exception": false,
     "start_time": "2022-02-15T21:36:03.939992",
     "status": "completed"
    },
    "tags": []
   },
   "source": [
    "# Initial Preprocessing\n",
    "Preprocessing that must be done befor even splitting the data:  \n",
    "\n",
    "- Remove the rows containing duplicate IDs.\n",
    "- Remove the rows that contain duplicate information with different IDs\n"
   ]
  },
  {
   "cell_type": "code",
   "execution_count": 34,
   "id": "f8648618",
   "metadata": {
    "execution": {
     "iopub.execute_input": "2022-02-15T21:36:04.282640Z",
     "iopub.status.busy": "2022-02-15T21:36:04.281674Z",
     "iopub.status.idle": "2022-02-15T21:36:04.340287Z",
     "shell.execute_reply": "2022-02-15T21:36:04.341056Z",
     "shell.execute_reply.started": "2022-02-15T20:26:04.064634Z"
    },
    "papermill": {
     "duration": 0.17567,
     "end_time": "2022-02-15T21:36:04.341264",
     "exception": false,
     "start_time": "2022-02-15T21:36:04.165594",
     "status": "completed"
    },
    "tags": []
   },
   "outputs": [
    {
     "name": "stdout",
     "output_type": "stream",
     "text": [
      "Number of rows containing same ID:  0\n",
      "Number of rows containing duplicated information:  22797\n"
     ]
    }
   ],
   "source": [
    "print('Number of rows containing same ID: ',sum(final_df.duplicated(subset='ID')))\n",
    "print('Number of rows containing duplicated information: ',sum(final_df.drop(columns='ID').duplicated()))"
   ]
  },
  {
   "cell_type": "code",
   "execution_count": 35,
   "id": "a25eacbf",
   "metadata": {
    "execution": {
     "iopub.execute_input": "2022-02-15T21:36:04.572929Z",
     "iopub.status.busy": "2022-02-15T21:36:04.571926Z",
     "iopub.status.idle": "2022-02-15T21:36:04.613465Z",
     "shell.execute_reply": "2022-02-15T21:36:04.614011Z",
     "shell.execute_reply.started": "2022-02-15T20:26:04.110030Z"
    },
    "papermill": {
     "duration": 0.15862,
     "end_time": "2022-02-15T21:36:04.614193",
     "exception": false,
     "start_time": "2022-02-15T21:36:04.455573",
     "status": "completed"
    },
    "tags": []
   },
   "outputs": [],
   "source": [
    "final_df.drop_duplicates(subset=list(set(final_df.columns) - {'ID'}), inplace=True)"
   ]
  },
  {
   "cell_type": "code",
   "execution_count": 36,
   "id": "805c8d32",
   "metadata": {
    "execution": {
     "iopub.execute_input": "2022-02-15T21:36:04.844931Z",
     "iopub.status.busy": "2022-02-15T21:36:04.843941Z",
     "iopub.status.idle": "2022-02-15T21:36:04.871746Z",
     "shell.execute_reply": "2022-02-15T21:36:04.872297Z",
     "shell.execute_reply.started": "2022-02-15T20:26:04.143008Z"
    },
    "papermill": {
     "duration": 0.14442,
     "end_time": "2022-02-15T21:36:04.872482",
     "exception": false,
     "start_time": "2022-02-15T21:36:04.728062",
     "status": "completed"
    },
    "tags": []
   },
   "outputs": [
    {
     "data": {
      "text/html": [
       "<div>\n",
       "<style scoped>\n",
       "    .dataframe tbody tr th:only-of-type {\n",
       "        vertical-align: middle;\n",
       "    }\n",
       "\n",
       "    .dataframe tbody tr th {\n",
       "        vertical-align: top;\n",
       "    }\n",
       "\n",
       "    .dataframe thead th {\n",
       "        text-align: right;\n",
       "    }\n",
       "</style>\n",
       "<table border=\"1\" class=\"dataframe\">\n",
       "  <thead>\n",
       "    <tr style=\"text-align: right;\">\n",
       "      <th></th>\n",
       "      <th>ID</th>\n",
       "      <th>CODE_GENDER</th>\n",
       "      <th>FLAG_OWN_CAR</th>\n",
       "      <th>FLAG_OWN_REALTY</th>\n",
       "      <th>CNT_CHILDREN</th>\n",
       "      <th>AMT_INCOME_TOTAL</th>\n",
       "      <th>NAME_INCOME_TYPE</th>\n",
       "      <th>NAME_EDUCATION_TYPE</th>\n",
       "      <th>NAME_FAMILY_STATUS</th>\n",
       "      <th>NAME_HOUSING_TYPE</th>\n",
       "      <th>DAYS_BIRTH</th>\n",
       "      <th>DAYS_EMPLOYED</th>\n",
       "      <th>FLAG_MOBIL</th>\n",
       "      <th>FLAG_WORK_PHONE</th>\n",
       "      <th>FLAG_PHONE</th>\n",
       "      <th>FLAG_EMAIL</th>\n",
       "      <th>OCCUPATION_TYPE</th>\n",
       "      <th>CNT_FAM_MEMBERS</th>\n",
       "      <th>bad_client</th>\n",
       "    </tr>\n",
       "  </thead>\n",
       "  <tbody>\n",
       "    <tr>\n",
       "      <th>0</th>\n",
       "      <td>5008804</td>\n",
       "      <td>M</td>\n",
       "      <td>Y</td>\n",
       "      <td>Y</td>\n",
       "      <td>0</td>\n",
       "      <td>427500.0</td>\n",
       "      <td>Working</td>\n",
       "      <td>Higher education</td>\n",
       "      <td>Civil marriage</td>\n",
       "      <td>Rented apartment</td>\n",
       "      <td>-12005</td>\n",
       "      <td>-4542</td>\n",
       "      <td>1</td>\n",
       "      <td>1</td>\n",
       "      <td>0</td>\n",
       "      <td>0</td>\n",
       "      <td>NaN</td>\n",
       "      <td>2.0</td>\n",
       "      <td>0.0</td>\n",
       "    </tr>\n",
       "    <tr>\n",
       "      <th>2</th>\n",
       "      <td>5008806</td>\n",
       "      <td>M</td>\n",
       "      <td>Y</td>\n",
       "      <td>Y</td>\n",
       "      <td>0</td>\n",
       "      <td>112500.0</td>\n",
       "      <td>Working</td>\n",
       "      <td>Secondary / secondary special</td>\n",
       "      <td>Married</td>\n",
       "      <td>House / apartment</td>\n",
       "      <td>-21474</td>\n",
       "      <td>-1134</td>\n",
       "      <td>1</td>\n",
       "      <td>0</td>\n",
       "      <td>0</td>\n",
       "      <td>0</td>\n",
       "      <td>Security staff</td>\n",
       "      <td>2.0</td>\n",
       "      <td>0.0</td>\n",
       "    </tr>\n",
       "    <tr>\n",
       "      <th>3</th>\n",
       "      <td>5008808</td>\n",
       "      <td>F</td>\n",
       "      <td>N</td>\n",
       "      <td>Y</td>\n",
       "      <td>0</td>\n",
       "      <td>270000.0</td>\n",
       "      <td>Commercial associate</td>\n",
       "      <td>Secondary / secondary special</td>\n",
       "      <td>Single / not married</td>\n",
       "      <td>House / apartment</td>\n",
       "      <td>-19110</td>\n",
       "      <td>-3051</td>\n",
       "      <td>1</td>\n",
       "      <td>0</td>\n",
       "      <td>1</td>\n",
       "      <td>1</td>\n",
       "      <td>Sales staff</td>\n",
       "      <td>1.0</td>\n",
       "      <td>0.0</td>\n",
       "    </tr>\n",
       "    <tr>\n",
       "      <th>7</th>\n",
       "      <td>5008812</td>\n",
       "      <td>F</td>\n",
       "      <td>N</td>\n",
       "      <td>Y</td>\n",
       "      <td>0</td>\n",
       "      <td>283500.0</td>\n",
       "      <td>Pensioner</td>\n",
       "      <td>Higher education</td>\n",
       "      <td>Separated</td>\n",
       "      <td>House / apartment</td>\n",
       "      <td>-22464</td>\n",
       "      <td>365243</td>\n",
       "      <td>1</td>\n",
       "      <td>0</td>\n",
       "      <td>0</td>\n",
       "      <td>0</td>\n",
       "      <td>NaN</td>\n",
       "      <td>1.0</td>\n",
       "      <td>1.0</td>\n",
       "    </tr>\n",
       "    <tr>\n",
       "      <th>10</th>\n",
       "      <td>5008815</td>\n",
       "      <td>M</td>\n",
       "      <td>Y</td>\n",
       "      <td>Y</td>\n",
       "      <td>0</td>\n",
       "      <td>270000.0</td>\n",
       "      <td>Working</td>\n",
       "      <td>Higher education</td>\n",
       "      <td>Married</td>\n",
       "      <td>House / apartment</td>\n",
       "      <td>-16872</td>\n",
       "      <td>-769</td>\n",
       "      <td>1</td>\n",
       "      <td>1</td>\n",
       "      <td>1</td>\n",
       "      <td>1</td>\n",
       "      <td>Accountants</td>\n",
       "      <td>2.0</td>\n",
       "      <td>1.0</td>\n",
       "    </tr>\n",
       "    <tr>\n",
       "      <th>...</th>\n",
       "      <td>...</td>\n",
       "      <td>...</td>\n",
       "      <td>...</td>\n",
       "      <td>...</td>\n",
       "      <td>...</td>\n",
       "      <td>...</td>\n",
       "      <td>...</td>\n",
       "      <td>...</td>\n",
       "      <td>...</td>\n",
       "      <td>...</td>\n",
       "      <td>...</td>\n",
       "      <td>...</td>\n",
       "      <td>...</td>\n",
       "      <td>...</td>\n",
       "      <td>...</td>\n",
       "      <td>...</td>\n",
       "      <td>...</td>\n",
       "      <td>...</td>\n",
       "      <td>...</td>\n",
       "    </tr>\n",
       "    <tr>\n",
       "      <th>434797</th>\n",
       "      <td>5148694</td>\n",
       "      <td>F</td>\n",
       "      <td>N</td>\n",
       "      <td>N</td>\n",
       "      <td>0</td>\n",
       "      <td>180000.0</td>\n",
       "      <td>Pensioner</td>\n",
       "      <td>Secondary / secondary special</td>\n",
       "      <td>Civil marriage</td>\n",
       "      <td>Municipal apartment</td>\n",
       "      <td>-20600</td>\n",
       "      <td>-198</td>\n",
       "      <td>1</td>\n",
       "      <td>0</td>\n",
       "      <td>0</td>\n",
       "      <td>0</td>\n",
       "      <td>Laborers</td>\n",
       "      <td>2.0</td>\n",
       "      <td>1.0</td>\n",
       "    </tr>\n",
       "    <tr>\n",
       "      <th>434801</th>\n",
       "      <td>5149055</td>\n",
       "      <td>F</td>\n",
       "      <td>N</td>\n",
       "      <td>Y</td>\n",
       "      <td>0</td>\n",
       "      <td>112500.0</td>\n",
       "      <td>Commercial associate</td>\n",
       "      <td>Secondary / secondary special</td>\n",
       "      <td>Married</td>\n",
       "      <td>House / apartment</td>\n",
       "      <td>-15837</td>\n",
       "      <td>-2694</td>\n",
       "      <td>1</td>\n",
       "      <td>1</td>\n",
       "      <td>1</td>\n",
       "      <td>0</td>\n",
       "      <td>NaN</td>\n",
       "      <td>2.0</td>\n",
       "      <td>0.0</td>\n",
       "    </tr>\n",
       "    <tr>\n",
       "      <th>434806</th>\n",
       "      <td>5149729</td>\n",
       "      <td>M</td>\n",
       "      <td>Y</td>\n",
       "      <td>Y</td>\n",
       "      <td>0</td>\n",
       "      <td>90000.0</td>\n",
       "      <td>Working</td>\n",
       "      <td>Secondary / secondary special</td>\n",
       "      <td>Married</td>\n",
       "      <td>House / apartment</td>\n",
       "      <td>-19101</td>\n",
       "      <td>-1721</td>\n",
       "      <td>1</td>\n",
       "      <td>0</td>\n",
       "      <td>0</td>\n",
       "      <td>0</td>\n",
       "      <td>NaN</td>\n",
       "      <td>2.0</td>\n",
       "      <td>1.0</td>\n",
       "    </tr>\n",
       "    <tr>\n",
       "      <th>434810</th>\n",
       "      <td>5149838</td>\n",
       "      <td>F</td>\n",
       "      <td>N</td>\n",
       "      <td>Y</td>\n",
       "      <td>0</td>\n",
       "      <td>157500.0</td>\n",
       "      <td>Pensioner</td>\n",
       "      <td>Higher education</td>\n",
       "      <td>Married</td>\n",
       "      <td>House / apartment</td>\n",
       "      <td>-12387</td>\n",
       "      <td>-1325</td>\n",
       "      <td>1</td>\n",
       "      <td>0</td>\n",
       "      <td>1</td>\n",
       "      <td>1</td>\n",
       "      <td>Medicine staff</td>\n",
       "      <td>2.0</td>\n",
       "      <td>1.0</td>\n",
       "    </tr>\n",
       "    <tr>\n",
       "      <th>434812</th>\n",
       "      <td>5150337</td>\n",
       "      <td>M</td>\n",
       "      <td>N</td>\n",
       "      <td>Y</td>\n",
       "      <td>0</td>\n",
       "      <td>112500.0</td>\n",
       "      <td>Working</td>\n",
       "      <td>Secondary / secondary special</td>\n",
       "      <td>Single / not married</td>\n",
       "      <td>Rented apartment</td>\n",
       "      <td>-9188</td>\n",
       "      <td>-1193</td>\n",
       "      <td>1</td>\n",
       "      <td>0</td>\n",
       "      <td>0</td>\n",
       "      <td>0</td>\n",
       "      <td>Laborers</td>\n",
       "      <td>1.0</td>\n",
       "      <td>1.0</td>\n",
       "    </tr>\n",
       "  </tbody>\n",
       "</table>\n",
       "<p>13660 rows × 19 columns</p>\n",
       "</div>"
      ],
      "text/plain": [
       "             ID CODE_GENDER FLAG_OWN_CAR FLAG_OWN_REALTY  CNT_CHILDREN  \\\n",
       "0       5008804           M            Y               Y             0   \n",
       "2       5008806           M            Y               Y             0   \n",
       "3       5008808           F            N               Y             0   \n",
       "7       5008812           F            N               Y             0   \n",
       "10      5008815           M            Y               Y             0   \n",
       "...         ...         ...          ...             ...           ...   \n",
       "434797  5148694           F            N               N             0   \n",
       "434801  5149055           F            N               Y             0   \n",
       "434806  5149729           M            Y               Y             0   \n",
       "434810  5149838           F            N               Y             0   \n",
       "434812  5150337           M            N               Y             0   \n",
       "\n",
       "        AMT_INCOME_TOTAL      NAME_INCOME_TYPE            NAME_EDUCATION_TYPE  \\\n",
       "0               427500.0               Working               Higher education   \n",
       "2               112500.0               Working  Secondary / secondary special   \n",
       "3               270000.0  Commercial associate  Secondary / secondary special   \n",
       "7               283500.0             Pensioner               Higher education   \n",
       "10              270000.0               Working               Higher education   \n",
       "...                  ...                   ...                            ...   \n",
       "434797          180000.0             Pensioner  Secondary / secondary special   \n",
       "434801          112500.0  Commercial associate  Secondary / secondary special   \n",
       "434806           90000.0               Working  Secondary / secondary special   \n",
       "434810          157500.0             Pensioner               Higher education   \n",
       "434812          112500.0               Working  Secondary / secondary special   \n",
       "\n",
       "          NAME_FAMILY_STATUS    NAME_HOUSING_TYPE  DAYS_BIRTH  DAYS_EMPLOYED  \\\n",
       "0             Civil marriage     Rented apartment      -12005          -4542   \n",
       "2                    Married    House / apartment      -21474          -1134   \n",
       "3       Single / not married    House / apartment      -19110          -3051   \n",
       "7                  Separated    House / apartment      -22464         365243   \n",
       "10                   Married    House / apartment      -16872           -769   \n",
       "...                      ...                  ...         ...            ...   \n",
       "434797        Civil marriage  Municipal apartment      -20600           -198   \n",
       "434801               Married    House / apartment      -15837          -2694   \n",
       "434806               Married    House / apartment      -19101          -1721   \n",
       "434810               Married    House / apartment      -12387          -1325   \n",
       "434812  Single / not married     Rented apartment       -9188          -1193   \n",
       "\n",
       "        FLAG_MOBIL  FLAG_WORK_PHONE  FLAG_PHONE  FLAG_EMAIL OCCUPATION_TYPE  \\\n",
       "0                1                1           0           0             NaN   \n",
       "2                1                0           0           0  Security staff   \n",
       "3                1                0           1           1     Sales staff   \n",
       "7                1                0           0           0             NaN   \n",
       "10               1                1           1           1     Accountants   \n",
       "...            ...              ...         ...         ...             ...   \n",
       "434797           1                0           0           0        Laborers   \n",
       "434801           1                1           1           0             NaN   \n",
       "434806           1                0           0           0             NaN   \n",
       "434810           1                0           1           1  Medicine staff   \n",
       "434812           1                0           0           0        Laborers   \n",
       "\n",
       "        CNT_FAM_MEMBERS  bad_client  \n",
       "0                   2.0         0.0  \n",
       "2                   2.0         0.0  \n",
       "3                   1.0         0.0  \n",
       "7                   1.0         1.0  \n",
       "10                  2.0         1.0  \n",
       "...                 ...         ...  \n",
       "434797              2.0         1.0  \n",
       "434801              2.0         0.0  \n",
       "434806              2.0         1.0  \n",
       "434810              2.0         1.0  \n",
       "434812              1.0         1.0  \n",
       "\n",
       "[13660 rows x 19 columns]"
      ]
     },
     "execution_count": 36,
     "metadata": {},
     "output_type": "execute_result"
    }
   ],
   "source": [
    "final_df"
   ]
  },
  {
   "cell_type": "code",
   "execution_count": null,
   "id": "6590b55b",
   "metadata": {
    "papermill": {
     "duration": 0.119956,
     "end_time": "2022-02-15T21:36:05.107615",
     "exception": false,
     "start_time": "2022-02-15T21:36:04.987659",
     "status": "completed"
    },
    "tags": []
   },
   "outputs": [],
   "source": []
  },
  {
   "cell_type": "markdown",
   "id": "bdd2d4d2",
   "metadata": {
    "papermill": {
     "duration": 0.128602,
     "end_time": "2022-02-15T21:36:05.350241",
     "exception": false,
     "start_time": "2022-02-15T21:36:05.221639",
     "status": "completed"
    },
    "tags": []
   },
   "source": [
    "# Before strarting further preprocessing, we need to hold out a test split so that we take unbiased decisions"
   ]
  },
  {
   "cell_type": "code",
   "execution_count": 37,
   "id": "38a5e0a1",
   "metadata": {
    "execution": {
     "iopub.execute_input": "2022-02-15T21:36:05.585101Z",
     "iopub.status.busy": "2022-02-15T21:36:05.584055Z",
     "iopub.status.idle": "2022-02-15T21:36:05.601172Z",
     "shell.execute_reply": "2022-02-15T21:36:05.601729Z",
     "shell.execute_reply.started": "2022-02-15T20:26:04.171810Z"
    },
    "papermill": {
     "duration": 0.13653,
     "end_time": "2022-02-15T21:36:05.601905",
     "exception": false,
     "start_time": "2022-02-15T21:36:05.465375",
     "status": "completed"
    },
    "tags": []
   },
   "outputs": [],
   "source": [
    "X_train, X_test, y_train, y_test = train_test_split(final_df.drop(['ID', 'bad_client'],axis=1), final_df['bad_client'], test_size=0.2, random_state=0, stratify=final_df['bad_client'])"
   ]
  },
  {
   "cell_type": "markdown",
   "id": "10e18a89",
   "metadata": {
    "papermill": {
     "duration": 0.114942,
     "end_time": "2022-02-15T21:36:05.831417",
     "exception": false,
     "start_time": "2022-02-15T21:36:05.716475",
     "status": "completed"
    },
    "tags": []
   },
   "source": [
    "# More Preprocessing\n",
    "Preprocessing steps that requires manipulating the data, where decisions need to be made based on training data only to avoid data leakage.  \n",
    "Also contains preprocessing steps that need to be applied at test time\n",
    "  \n",
    "  \n",
    "- Remove OCCUPATION_TYPE. FLAG_MOBILE, NAME_HOUSING_TYPE, NAME_INCOME_TYPE, NAME_EDUCATION_TYPE columns\n",
    "- Encode categorical variables\n",
    "- Convert birthdays to years (difference in few months or days should not have an effect)\n",
    "- Convert DAYS_EMPLOYED to +ve numbers (in months, rounded up), with 0 meaning unemployed"
   ]
  },
  {
   "cell_type": "code",
   "execution_count": 38,
   "id": "e13e9137",
   "metadata": {
    "execution": {
     "iopub.execute_input": "2022-02-15T21:36:06.063864Z",
     "iopub.status.busy": "2022-02-15T21:36:06.062832Z",
     "iopub.status.idle": "2022-02-15T21:36:07.716250Z",
     "shell.execute_reply": "2022-02-15T21:36:07.716839Z",
     "shell.execute_reply.started": "2022-02-15T20:26:04.943599Z"
    },
    "papermill": {
     "duration": 1.771528,
     "end_time": "2022-02-15T21:36:07.717013",
     "exception": false,
     "start_time": "2022-02-15T21:36:05.945485",
     "status": "completed"
    },
    "tags": []
   },
   "outputs": [
    {
     "data": {
      "image/png": "[encoded data removed]",
      "text/plain": [
       "<Figure size 1440x720 with 6 Axes>"
      ]
     },
     "metadata": {},
     "output_type": "display_data"
    }
   ],
   "source": [
    "final_df[numerical_feats].hist(layout=(2,3), figsize=(20,10),bins=50, xrot=90)\n",
    "plt.subplots_adjust(left=None, bottom=None, right=None, top=None, wspace=0.3, hspace=0.7)\n",
    "\n",
    "plt.show()"
   ]
  },
  {
   "cell_type": "markdown",
   "id": "753617ea",
   "metadata": {
    "papermill": {
     "duration": 0.115534,
     "end_time": "2022-02-15T21:36:07.947512",
     "exception": false,
     "start_time": "2022-02-15T21:36:07.831978",
     "status": "completed"
    },
    "tags": []
   },
   "source": [
    "### 1- Removing unnecessary columns"
   ]
  },
  {
   "cell_type": "code",
   "execution_count": 39,
   "id": "fb6dad4f",
   "metadata": {
    "execution": {
     "iopub.execute_input": "2022-02-15T21:36:08.182742Z",
     "iopub.status.busy": "2022-02-15T21:36:08.182071Z",
     "iopub.status.idle": "2022-02-15T21:36:08.186992Z",
     "shell.execute_reply": "2022-02-15T21:36:08.187530Z",
     "shell.execute_reply.started": "2022-02-15T20:26:06.356908Z"
    },
    "papermill": {
     "duration": 0.123983,
     "end_time": "2022-02-15T21:36:08.187692",
     "exception": false,
     "start_time": "2022-02-15T21:36:08.063709",
     "status": "completed"
    },
    "tags": []
   },
   "outputs": [],
   "source": [
    "#Defining a transformer that remove unnecessary columns\n",
    "def drop_cols(df,cols_to_drop):\n",
    "    #cols_to_drop = ['OCCUPATION_TYPE', 'FLAG_MOBIL', 'NAME_HOUSING_TYPE', 'NAME_INCOME_TYPE', 'NAME_EDUCATION_TYPE']\n",
    "    df_copy = df.copy()\n",
    "    \n",
    "    ret_df = df_copy.drop(columns=cols_to_drop)\n",
    "    return ret_df\n",
    "\n",
    "cols_to_drop = ['OCCUPATION_TYPE', 'FLAG_MOBIL', 'NAME_HOUSING_TYPE', 'NAME_INCOME_TYPE', 'NAME_EDUCATION_TYPE']\n",
    "\n",
    "drop_cols_trans = FunctionTransformer(drop_cols, kw_args={'cols_to_drop':cols_to_drop})\n"
   ]
  },
  {
   "cell_type": "markdown",
   "id": "6747943e",
   "metadata": {
    "papermill": {
     "duration": 0.113663,
     "end_time": "2022-02-15T21:36:08.416006",
     "exception": false,
     "start_time": "2022-02-15T21:36:08.302343",
     "status": "completed"
    },
    "tags": []
   },
   "source": [
    "### 2- Encoding categorical features"
   ]
  },
  {
   "cell_type": "code",
   "execution_count": 40,
   "id": "17584a7d",
   "metadata": {
    "execution": {
     "iopub.execute_input": "2022-02-15T21:36:08.648280Z",
     "iopub.status.busy": "2022-02-15T21:36:08.647671Z",
     "iopub.status.idle": "2022-02-15T21:36:08.650803Z",
     "shell.execute_reply": "2022-02-15T21:36:08.651363Z",
     "shell.execute_reply.started": "2022-02-15T20:26:07.293207Z"
    },
    "papermill": {
     "duration": 0.120925,
     "end_time": "2022-02-15T21:36:08.651525",
     "exception": false,
     "start_time": "2022-02-15T21:36:08.530600",
     "status": "completed"
    },
    "tags": []
   },
   "outputs": [],
   "source": [
    "categorical_feats = ['CODE_GENDER', 'NAME_FAMILY_STATUS','FLAG_OWN_CAR', 'FLAG_OWN_REALTY']"
   ]
  },
  {
   "cell_type": "code",
   "execution_count": 41,
   "id": "98e4fd20",
   "metadata": {
    "execution": {
     "iopub.execute_input": "2022-02-15T21:36:08.887249Z",
     "iopub.status.busy": "2022-02-15T21:36:08.886622Z",
     "iopub.status.idle": "2022-02-15T21:36:08.896520Z",
     "shell.execute_reply": "2022-02-15T21:36:08.897037Z",
     "shell.execute_reply.started": "2022-02-15T20:26:07.642249Z"
    },
    "papermill": {
     "duration": 0.130689,
     "end_time": "2022-02-15T21:36:08.897213",
     "exception": false,
     "start_time": "2022-02-15T21:36:08.766524",
     "status": "completed"
    },
    "tags": []
   },
   "outputs": [
    {
     "name": "stdout",
     "output_type": "stream",
     "text": [
      "Unique values for CODE_GENDER:\t\t['M' 'F']\n",
      "Unique values for NAME_FAMILY_STATUS:\t\t['Married' 'Single / not married' 'Separated' 'Civil marriage' 'Widow']\n",
      "Unique values for FLAG_OWN_CAR:\t\t['Y' 'N']\n",
      "Unique values for FLAG_OWN_REALTY:\t\t['N' 'Y']\n"
     ]
    }
   ],
   "source": [
    "for feat in categorical_feats:\n",
    "    print('Unique values for {}:\\t\\t{}'.format(feat, X_train[feat].unique()))"
   ]
  },
  {
   "cell_type": "markdown",
   "id": "baaa83f9",
   "metadata": {
    "execution": {
     "iopub.execute_input": "2022-02-14T00:01:10.352027Z",
     "iopub.status.busy": "2022-02-14T00:01:10.351391Z",
     "iopub.status.idle": "2022-02-14T00:01:10.371598Z",
     "shell.execute_reply": "2022-02-14T00:01:10.37023Z",
     "shell.execute_reply.started": "2022-02-14T00:01:10.351955Z"
    },
    "papermill": {
     "duration": 0.11706,
     "end_time": "2022-02-15T21:36:09.131311",
     "exception": false,
     "start_time": "2022-02-15T21:36:09.014251",
     "status": "completed"
    },
    "tags": []
   },
   "source": [
    "**The features are not of high cardinality, so one-hot encoding will be suitable**"
   ]
  },
  {
   "cell_type": "code",
   "execution_count": 42,
   "id": "3f28403e",
   "metadata": {
    "execution": {
     "iopub.execute_input": "2022-02-15T21:36:09.367449Z",
     "iopub.status.busy": "2022-02-15T21:36:09.366839Z",
     "iopub.status.idle": "2022-02-15T21:36:09.370030Z",
     "shell.execute_reply": "2022-02-15T21:36:09.370594Z",
     "shell.execute_reply.started": "2022-02-15T20:26:08.636373Z"
    },
    "papermill": {
     "duration": 0.123128,
     "end_time": "2022-02-15T21:36:09.370765",
     "exception": false,
     "start_time": "2022-02-15T21:36:09.247637",
     "status": "completed"
    },
    "tags": []
   },
   "outputs": [],
   "source": [
    "#One-hot encoder\n",
    "categorical_transformer = OneHotEncoder(handle_unknown=\"ignore\", sparse=False)"
   ]
  },
  {
   "cell_type": "markdown",
   "id": "7c9e9e9e",
   "metadata": {
    "papermill": {
     "duration": 0.115134,
     "end_time": "2022-02-15T21:36:09.602735",
     "exception": false,
     "start_time": "2022-02-15T21:36:09.487601",
     "status": "completed"
    },
    "tags": []
   },
   "source": [
    " "
   ]
  },
  {
   "cell_type": "markdown",
   "id": "93aa5b30",
   "metadata": {
    "papermill": {
     "duration": 0.114421,
     "end_time": "2022-02-15T21:36:09.833220",
     "exception": false,
     "start_time": "2022-02-15T21:36:09.718799",
     "status": "completed"
    },
    "tags": []
   },
   "source": [
    "### 3- Convert DAYS_BIRTH and DAYS_EMPLOYED"
   ]
  },
  {
   "cell_type": "code",
   "execution_count": 43,
   "id": "28114ec3",
   "metadata": {
    "execution": {
     "iopub.execute_input": "2022-02-15T21:36:10.067055Z",
     "iopub.status.busy": "2022-02-15T21:36:10.066428Z",
     "iopub.status.idle": "2022-02-15T21:36:10.074227Z",
     "shell.execute_reply": "2022-02-15T21:36:10.073667Z",
     "shell.execute_reply.started": "2022-02-15T20:26:10.142606Z"
    },
    "papermill": {
     "duration": 0.125461,
     "end_time": "2022-02-15T21:36:10.074386",
     "exception": false,
     "start_time": "2022-02-15T21:36:09.948925",
     "status": "completed"
    },
    "tags": []
   },
   "outputs": [],
   "source": [
    "# Defining a transformer to convert DAYS_BIRTH to years, and DAYS_EMPLOYED to months\n",
    "def convert_days(df):\n",
    "    df_copy = df.copy()\n",
    "    #df_copy['YEARS_BIRTH']=((df_copy['DAYS_BIRTH']/365.0)*-1).astype(float).round().astype(int)\n",
    "    df_copy['YEARS_BIRTH'] = np.ceil((df_copy['DAYS_BIRTH']/365.0)*-1).astype(int)\n",
    "    \n",
    "    df_copy['MONTHS_EMPLOYED'] = np.ceil((df_copy['DAYS_EMPLOYED']/30.0)*-1).astype(int)\n",
    "    df_copy['MONTHS_EMPLOYED'] = np.select(condlist=[df_copy['MONTHS_EMPLOYED']>0], choicelist=[df_copy['MONTHS_EMPLOYED']], default=0)\n",
    "    \n",
    "    df_copy.drop(columns=['DAYS_BIRTH','DAYS_EMPLOYED'], inplace=True)\n",
    "    return df_copy\n",
    "\n",
    "convert_days_trans = FunctionTransformer(convert_days)\n"
   ]
  },
  {
   "cell_type": "code",
   "execution_count": 44,
   "id": "e9482e1d",
   "metadata": {
    "execution": {
     "iopub.execute_input": "2022-02-15T21:36:10.311667Z",
     "iopub.status.busy": "2022-02-15T21:36:10.310580Z",
     "iopub.status.idle": "2022-02-15T21:36:10.312772Z",
     "shell.execute_reply": "2022-02-15T21:36:10.313552Z",
     "shell.execute_reply.started": "2022-02-15T20:26:10.825090Z"
    },
    "papermill": {
     "duration": 0.122253,
     "end_time": "2022-02-15T21:36:10.313801",
     "exception": false,
     "start_time": "2022-02-15T21:36:10.191548",
     "status": "completed"
    },
    "tags": []
   },
   "outputs": [],
   "source": [
    "# temp_df = convert_days_trans.fit_transform(X_train)"
   ]
  },
  {
   "cell_type": "markdown",
   "id": "5d7ce823",
   "metadata": {
    "papermill": {
     "duration": 0.116726,
     "end_time": "2022-02-15T21:36:10.574896",
     "exception": false,
     "start_time": "2022-02-15T21:36:10.458170",
     "status": "completed"
    },
    "tags": []
   },
   "source": [
    "### 4- Normalizing numerical features\n",
    "min-max normalization will be used to make the numerical features in the same 0-1 range as the encoded categorical features"
   ]
  },
  {
   "cell_type": "code",
   "execution_count": 45,
   "id": "de440d6a",
   "metadata": {
    "execution": {
     "iopub.execute_input": "2022-02-15T21:36:10.807796Z",
     "iopub.status.busy": "2022-02-15T21:36:10.807103Z",
     "iopub.status.idle": "2022-02-15T21:36:10.810607Z",
     "shell.execute_reply": "2022-02-15T21:36:10.811096Z",
     "shell.execute_reply.started": "2022-02-15T20:26:11.557808Z"
    },
    "papermill": {
     "duration": 0.121249,
     "end_time": "2022-02-15T21:36:10.811250",
     "exception": false,
     "start_time": "2022-02-15T21:36:10.690001",
     "status": "completed"
    },
    "tags": []
   },
   "outputs": [],
   "source": [
    "numerical_feats = ['YEARS_BIRTH','MONTHS_EMPLOYED','CNT_CHILDREN','AMT_INCOME_TOTAL','CNT_FAM_MEMBERS']\n",
    "numerical_normalizer = MinMaxScaler()"
   ]
  },
  {
   "cell_type": "code",
   "execution_count": 46,
   "id": "aa3bda87",
   "metadata": {
    "execution": {
     "iopub.execute_input": "2022-02-15T21:36:11.046077Z",
     "iopub.status.busy": "2022-02-15T21:36:11.045362Z",
     "iopub.status.idle": "2022-02-15T21:36:11.050151Z",
     "shell.execute_reply": "2022-02-15T21:36:11.050638Z",
     "shell.execute_reply.started": "2022-02-15T20:26:11.892135Z"
    },
    "papermill": {
     "duration": 0.123454,
     "end_time": "2022-02-15T21:36:11.050801",
     "exception": false,
     "start_time": "2022-02-15T21:36:10.927347",
     "status": "completed"
    },
    "tags": []
   },
   "outputs": [
    {
     "data": {
      "text/plain": [
       "Index(['CODE_GENDER', 'FLAG_OWN_CAR', 'FLAG_OWN_REALTY', 'CNT_CHILDREN',\n",
       "       'AMT_INCOME_TOTAL', 'NAME_INCOME_TYPE', 'NAME_EDUCATION_TYPE',\n",
       "       'NAME_FAMILY_STATUS', 'NAME_HOUSING_TYPE', 'DAYS_BIRTH',\n",
       "       'DAYS_EMPLOYED', 'FLAG_MOBIL', 'FLAG_WORK_PHONE', 'FLAG_PHONE',\n",
       "       'FLAG_EMAIL', 'OCCUPATION_TYPE', 'CNT_FAM_MEMBERS'],\n",
       "      dtype='object')"
      ]
     },
     "execution_count": 46,
     "metadata": {},
     "output_type": "execute_result"
    }
   ],
   "source": [
    "X_train.columns"
   ]
  },
  {
   "cell_type": "code",
   "execution_count": null,
   "id": "a7ea9d96",
   "metadata": {
    "papermill": {
     "duration": 0.117094,
     "end_time": "2022-02-15T21:36:11.284224",
     "exception": false,
     "start_time": "2022-02-15T21:36:11.167130",
     "status": "completed"
    },
    "tags": []
   },
   "outputs": [],
   "source": []
  },
  {
   "cell_type": "code",
   "execution_count": null,
   "id": "2a63ed21",
   "metadata": {
    "papermill": {
     "duration": 0.115319,
     "end_time": "2022-02-15T21:36:11.515284",
     "exception": false,
     "start_time": "2022-02-15T21:36:11.399965",
     "status": "completed"
    },
    "tags": []
   },
   "outputs": [],
   "source": []
  },
  {
   "cell_type": "markdown",
   "id": "e96f32fc",
   "metadata": {
    "papermill": {
     "duration": 0.115469,
     "end_time": "2022-02-15T21:36:11.746229",
     "exception": false,
     "start_time": "2022-02-15T21:36:11.630760",
     "status": "completed"
    },
    "tags": []
   },
   "source": [
    "# Model"
   ]
  },
  {
   "cell_type": "code",
   "execution_count": 47,
   "id": "ece09f09",
   "metadata": {
    "execution": {
     "iopub.execute_input": "2022-02-15T21:36:11.982584Z",
     "iopub.status.busy": "2022-02-15T21:36:11.981948Z",
     "iopub.status.idle": "2022-02-15T21:36:11.985380Z",
     "shell.execute_reply": "2022-02-15T21:36:11.985816Z",
     "shell.execute_reply.started": "2022-02-15T20:26:41.111722Z"
    },
    "papermill": {
     "duration": 0.124016,
     "end_time": "2022-02-15T21:36:11.985978",
     "exception": false,
     "start_time": "2022-02-15T21:36:11.861962",
     "status": "completed"
    },
    "tags": []
   },
   "outputs": [],
   "source": [
    "rf_clf = RandomForestClassifier(n_estimators=15 ,max_depth=2, random_state=0, n_jobs=-1)"
   ]
  },
  {
   "cell_type": "code",
   "execution_count": 48,
   "id": "53da3f96",
   "metadata": {
    "execution": {
     "iopub.execute_input": "2022-02-15T21:36:12.221860Z",
     "iopub.status.busy": "2022-02-15T21:36:12.221215Z",
     "iopub.status.idle": "2022-02-15T21:36:12.224719Z",
     "shell.execute_reply": "2022-02-15T21:36:12.225157Z",
     "shell.execute_reply.started": "2022-02-15T20:54:25.723951Z"
    },
    "papermill": {
     "duration": 0.123623,
     "end_time": "2022-02-15T21:36:12.225344",
     "exception": false,
     "start_time": "2022-02-15T21:36:12.101721",
     "status": "completed"
    },
    "tags": []
   },
   "outputs": [],
   "source": [
    "knn_clf = KNeighborsClassifier(n_neighbors=95, weights='uniform', metric='euclidean')"
   ]
  },
  {
   "cell_type": "markdown",
   "id": "fa4e3e31",
   "metadata": {
    "papermill": {
     "duration": 0.115263,
     "end_time": "2022-02-15T21:36:12.456161",
     "exception": false,
     "start_time": "2022-02-15T21:36:12.340898",
     "status": "completed"
    },
    "tags": []
   },
   "source": [
    "# Constructing the pipeline"
   ]
  },
  {
   "cell_type": "code",
   "execution_count": 49,
   "id": "7c8ab75f",
   "metadata": {
    "execution": {
     "iopub.execute_input": "2022-02-15T21:36:12.690891Z",
     "iopub.status.busy": "2022-02-15T21:36:12.689947Z",
     "iopub.status.idle": "2022-02-15T21:36:12.693904Z",
     "shell.execute_reply": "2022-02-15T21:36:12.694475Z",
     "shell.execute_reply.started": "2022-02-15T20:26:45.036748Z"
    },
    "papermill": {
     "duration": 0.123131,
     "end_time": "2022-02-15T21:36:12.694646",
     "exception": false,
     "start_time": "2022-02-15T21:36:12.571515",
     "status": "completed"
    },
    "tags": []
   },
   "outputs": [],
   "source": [
    "preprocessor = ColumnTransformer(transformers=[\n",
    "    #(\"drop_cols\", drop_cols_trans, X_train.columns),\n",
    "    #(\"drop_cols\", 'drop', cols_to_drop),\n",
    "    #(\"convert_days\", convert_days_trans, X_train.columns),\n",
    "    ('normalizer', numerical_normalizer, numerical_feats),\n",
    "    (\"encoder\", categorical_transformer, categorical_feats)], remainder='passthrough')"
   ]
  },
  {
   "cell_type": "code",
   "execution_count": 50,
   "id": "7388bf48",
   "metadata": {
    "execution": {
     "iopub.execute_input": "2022-02-15T21:36:12.928664Z",
     "iopub.status.busy": "2022-02-15T21:36:12.927683Z",
     "iopub.status.idle": "2022-02-15T21:36:12.932248Z",
     "shell.execute_reply": "2022-02-15T21:36:12.932901Z",
     "shell.execute_reply.started": "2022-02-15T21:00:39.930165Z"
    },
    "papermill": {
     "duration": 0.12361,
     "end_time": "2022-02-15T21:36:12.933093",
     "exception": false,
     "start_time": "2022-02-15T21:36:12.809483",
     "status": "completed"
    },
    "tags": []
   },
   "outputs": [],
   "source": [
    "pipeline = Pipeline(steps=[\n",
    "    (\"drop_cols\", drop_cols_trans),\n",
    "    (\"convert_days\", convert_days_trans),\n",
    "    (\"preprocessor\", preprocessor),\n",
    "    (\"model\", rf_clf)\n",
    "], verbose=False)\n",
    "\n"
   ]
  },
  {
   "cell_type": "code",
   "execution_count": null,
   "id": "09acac4c",
   "metadata": {
    "papermill": {
     "duration": 0.116577,
     "end_time": "2022-02-15T21:36:13.165719",
     "exception": false,
     "start_time": "2022-02-15T21:36:13.049142",
     "status": "completed"
    },
    "tags": []
   },
   "outputs": [],
   "source": []
  },
  {
   "cell_type": "code",
   "execution_count": 51,
   "id": "3ccb6b72",
   "metadata": {
    "execution": {
     "iopub.execute_input": "2022-02-15T21:36:13.405186Z",
     "iopub.status.busy": "2022-02-15T21:36:13.404496Z",
     "iopub.status.idle": "2022-02-15T21:36:16.991657Z",
     "shell.execute_reply": "2022-02-15T21:36:16.990323Z",
     "shell.execute_reply.started": "2022-02-15T21:00:43.427430Z"
    },
    "papermill": {
     "duration": 3.710337,
     "end_time": "2022-02-15T21:36:16.991924",
     "exception": false,
     "start_time": "2022-02-15T21:36:13.281587",
     "status": "completed"
    },
    "tags": []
   },
   "outputs": [
    {
     "name": "stdout",
     "output_type": "stream",
     "text": [
      "Cross-validation accuracy 0.5013724952422426\n",
      "Accuracy on training set 0.5167459736456809\n",
      "\n",
      "\n",
      "Cross-validation F1 score 0.4975310829418268\n",
      "F1 score on training set 0.5147377479150752\n"
     ]
    }
   ],
   "source": [
    "scoring = {'acc': 'accuracy',\n",
    "           'f1': 'f1_weighted'}\n",
    "\n",
    "cv_score= cross_validate(pipeline, X_train, y_train, scoring=scoring,cv=5)\n",
    "\n",
    "print('Cross-validation accuracy',cv_score['test_acc'].mean())\n",
    "pipeline.fit(X_train, y_train)\n",
    "print('Accuracy on training set',pipeline.score(X_train, y_train))\n",
    "\n",
    "print('\\n\\nCross-validation F1 score',cv_score['test_f1'].mean())\n",
    "\n",
    "pred_trainSet = pipeline.predict(X_train)\n",
    "print('F1 score on training set', f1_score(y_train, pred_trainSet, average='weighted'))"
   ]
  },
  {
   "cell_type": "code",
   "execution_count": 52,
   "id": "78587b7a",
   "metadata": {
    "execution": {
     "iopub.execute_input": "2022-02-15T21:36:17.236842Z",
     "iopub.status.busy": "2022-02-15T21:36:17.235863Z",
     "iopub.status.idle": "2022-02-15T21:36:17.238918Z",
     "shell.execute_reply": "2022-02-15T21:36:17.238413Z",
     "shell.execute_reply.started": "2022-02-15T21:00:46.423240Z"
    },
    "papermill": {
     "duration": 0.126066,
     "end_time": "2022-02-15T21:36:17.239072",
     "exception": false,
     "start_time": "2022-02-15T21:36:17.113006",
     "status": "completed"
    },
    "tags": []
   },
   "outputs": [],
   "source": [
    "pipelines = {'rf_pipeline': pipeline}"
   ]
  },
  {
   "cell_type": "code",
   "execution_count": 53,
   "id": "2931873f",
   "metadata": {
    "execution": {
     "iopub.execute_input": "2022-02-15T21:36:17.477657Z",
     "iopub.status.busy": "2022-02-15T21:36:17.476986Z",
     "iopub.status.idle": "2022-02-15T21:36:17.651523Z",
     "shell.execute_reply": "2022-02-15T21:36:17.650907Z",
     "shell.execute_reply.started": "2022-02-15T21:04:09.612660Z"
    },
    "papermill": {
     "duration": 0.295743,
     "end_time": "2022-02-15T21:36:17.651675",
     "exception": false,
     "start_time": "2022-02-15T21:36:17.355932",
     "status": "completed"
    },
    "tags": []
   },
   "outputs": [
    {
     "data": {
      "text/plain": [
       "Pipeline(steps=[('drop_cols',\n",
       "                 FunctionTransformer(func=<function drop_cols at 0x7f497a35a050>,\n",
       "                                     kw_args={'cols_to_drop': ['OCCUPATION_TYPE',\n",
       "                                                               'FLAG_MOBIL',\n",
       "                                                               'NAME_HOUSING_TYPE',\n",
       "                                                               'NAME_INCOME_TYPE',\n",
       "                                                               'NAME_EDUCATION_TYPE']})),\n",
       "                ('convert_days',\n",
       "                 FunctionTransformer(func=<function convert_days at 0x7f497a3a65f0>)),\n",
       "                ('preprocessor',\n",
       "                 ColumnTransformer(remainder='passthrough',\n",
       "                                   transformers=[('normalizer', MinMaxScaler(),\n",
       "                                                  ['YEARS_BIRTH',\n",
       "                                                   'MONTHS_EMPLOYED',\n",
       "                                                   'CNT_CHILDREN',\n",
       "                                                   'AMT_INCOME_TOTAL',\n",
       "                                                   'CNT_FAM_MEMBERS']),\n",
       "                                                 ('encoder',\n",
       "                                                  OneHotEncoder(handle_unknown='ignore',\n",
       "                                                                sparse=False),\n",
       "                                                  ['CODE_GENDER',\n",
       "                                                   'NAME_FAMILY_STATUS',\n",
       "                                                   'FLAG_OWN_CAR',\n",
       "                                                   'FLAG_OWN_REALTY'])])),\n",
       "                ('model',\n",
       "                 RandomForestClassifier(max_depth=2, n_estimators=15, n_jobs=-1,\n",
       "                                        random_state=0))])"
      ]
     },
     "execution_count": 53,
     "metadata": {},
     "output_type": "execute_result"
    }
   ],
   "source": [
    "pipelines['rf_pipeline'].fit(X_train, y_train)"
   ]
  },
  {
   "cell_type": "code",
   "execution_count": 54,
   "id": "8367d8a6",
   "metadata": {
    "execution": {
     "iopub.execute_input": "2022-02-15T21:36:17.893581Z",
     "iopub.status.busy": "2022-02-15T21:36:17.892584Z",
     "iopub.status.idle": "2022-02-15T21:36:22.996217Z",
     "shell.execute_reply": "2022-02-15T21:36:22.995716Z",
     "shell.execute_reply.started": "2022-02-15T20:28:07.140517Z"
    },
    "papermill": {
     "duration": 5.227064,
     "end_time": "2022-02-15T21:36:22.996370",
     "exception": false,
     "start_time": "2022-02-15T21:36:17.769306",
     "status": "completed"
    },
    "tags": []
   },
   "outputs": [
    {
     "name": "stdout",
     "output_type": "stream",
     "text": [
      "Fitting 5 folds for each of 10 candidates, totalling 50 fits\n"
     ]
    },
    {
     "name": "stderr",
     "output_type": "stream",
     "text": [
      "[Parallel(n_jobs=-1)]: Using backend LokyBackend with 4 concurrent workers.\n",
      "[Parallel(n_jobs=-1)]: Done  42 tasks      | elapsed:    4.3s\n",
      "[Parallel(n_jobs=-1)]: Done  50 out of  50 | elapsed:    4.8s finished\n"
     ]
    },
    {
     "data": {
      "text/plain": [
       "RandomizedSearchCV(cv=5,\n",
       "                   estimator=Pipeline(steps=[('drop_cols',\n",
       "                                              FunctionTransformer(func=<function drop_cols at 0x7f497a35a050>,\n",
       "                                                                  kw_args={'cols_to_drop': ['OCCUPATION_TYPE',\n",
       "                                                                                            'FLAG_MOBIL',\n",
       "                                                                                            'NAME_HOUSING_TYPE',\n",
       "                                                                                            'NAME_INCOME_TYPE',\n",
       "                                                                                            'NAME_EDUCATION_TYPE']})),\n",
       "                                             ('convert_days',\n",
       "                                              FunctionTransformer(func=<function convert_days at 0x7f497a3a65f0>)),\n",
       "                                             ('preprocessor',\n",
       "                                              ColumnT...\n",
       "                                                                               OneHotEncoder(handle_unknown='ignore',\n",
       "                                                                                             sparse=False),\n",
       "                                                                               ['CODE_GENDER',\n",
       "                                                                                'NAME_FAMILY_STATUS',\n",
       "                                                                                'FLAG_OWN_CAR',\n",
       "                                                                                'FLAG_OWN_REALTY'])])),\n",
       "                                             ('model',\n",
       "                                              RandomForestClassifier(max_depth=2,\n",
       "                                                                     n_estimators=15,\n",
       "                                                                     n_jobs=-1,\n",
       "                                                                     random_state=0))]),\n",
       "                   n_jobs=-1,\n",
       "                   param_distributions={'model__max_depth': [2, 3, 4, 5, 6, 7],\n",
       "                                        'model__n_estimators': [5, 10, 15, 20,\n",
       "                                                                25]},\n",
       "                   random_state=0, scoring='f1_weighted', verbose=1)"
      ]
     },
     "execution_count": 54,
     "metadata": {},
     "output_type": "execute_result"
    }
   ],
   "source": [
    "#Hyperparameters tuning\n",
    "params = {'model__n_estimators': [5,10,15,20,25],\n",
    "         'model__max_depth': [2,3,4,5,6,7]}\n",
    "\n",
    "\n",
    "randomSearch = RandomizedSearchCV(pipeline, params, n_iter=10, scoring='f1_weighted',\n",
    "                                  cv=5,random_state=0, verbose=1, n_jobs=-1)\n",
    "\n",
    "randomSearch.fit(X_train, y_train)"
   ]
  },
  {
   "cell_type": "code",
   "execution_count": 55,
   "id": "5b2bb5fc",
   "metadata": {
    "execution": {
     "iopub.execute_input": "2022-02-15T21:36:23.262100Z",
     "iopub.status.busy": "2022-02-15T21:36:23.260971Z",
     "iopub.status.idle": "2022-02-15T21:36:23.264893Z",
     "shell.execute_reply": "2022-02-15T21:36:23.265465Z",
     "shell.execute_reply.started": "2022-02-15T20:28:14.849296Z"
    },
    "papermill": {
     "duration": 0.147624,
     "end_time": "2022-02-15T21:36:23.265638",
     "exception": false,
     "start_time": "2022-02-15T21:36:23.118014",
     "status": "completed"
    },
    "tags": []
   },
   "outputs": [
    {
     "data": {
      "text/html": [
       "<div>\n",
       "<style scoped>\n",
       "    .dataframe tbody tr th:only-of-type {\n",
       "        vertical-align: middle;\n",
       "    }\n",
       "\n",
       "    .dataframe tbody tr th {\n",
       "        vertical-align: top;\n",
       "    }\n",
       "\n",
       "    .dataframe thead th {\n",
       "        text-align: right;\n",
       "    }\n",
       "</style>\n",
       "<table border=\"1\" class=\"dataframe\">\n",
       "  <thead>\n",
       "    <tr style=\"text-align: right;\">\n",
       "      <th></th>\n",
       "      <th>params</th>\n",
       "      <th>split0_test_score</th>\n",
       "      <th>split1_test_score</th>\n",
       "      <th>split2_test_score</th>\n",
       "      <th>split3_test_score</th>\n",
       "      <th>split4_test_score</th>\n",
       "      <th>mean_test_score</th>\n",
       "      <th>std_test_score</th>\n",
       "      <th>rank_test_score</th>\n",
       "    </tr>\n",
       "  </thead>\n",
       "  <tbody>\n",
       "    <tr>\n",
       "      <th>0</th>\n",
       "      <td>{'model__n_estimators': 15, 'model__max_depth': 2}</td>\n",
       "      <td>0.495204</td>\n",
       "      <td>0.505469</td>\n",
       "      <td>0.495828</td>\n",
       "      <td>0.497724</td>\n",
       "      <td>0.493431</td>\n",
       "      <td>0.497531</td>\n",
       "      <td>0.004200</td>\n",
       "      <td>1</td>\n",
       "    </tr>\n",
       "    <tr>\n",
       "      <th>3</th>\n",
       "      <td>{'model__n_estimators': 5, 'model__max_depth': 4}</td>\n",
       "      <td>0.476272</td>\n",
       "      <td>0.494002</td>\n",
       "      <td>0.496438</td>\n",
       "      <td>0.488932</td>\n",
       "      <td>0.496722</td>\n",
       "      <td>0.490473</td>\n",
       "      <td>0.007631</td>\n",
       "      <td>2</td>\n",
       "    </tr>\n",
       "    <tr>\n",
       "      <th>7</th>\n",
       "      <td>{'model__n_estimators': 10, 'model__max_depth': 4}</td>\n",
       "      <td>0.480008</td>\n",
       "      <td>0.500703</td>\n",
       "      <td>0.493629</td>\n",
       "      <td>0.479583</td>\n",
       "      <td>0.497327</td>\n",
       "      <td>0.490250</td>\n",
       "      <td>0.008826</td>\n",
       "      <td>3</td>\n",
       "    </tr>\n",
       "    <tr>\n",
       "      <th>2</th>\n",
       "      <td>{'model__n_estimators': 20, 'model__max_depth': 4}</td>\n",
       "      <td>0.486378</td>\n",
       "      <td>0.505781</td>\n",
       "      <td>0.484545</td>\n",
       "      <td>0.481382</td>\n",
       "      <td>0.490981</td>\n",
       "      <td>0.489813</td>\n",
       "      <td>0.008567</td>\n",
       "      <td>4</td>\n",
       "    </tr>\n",
       "    <tr>\n",
       "      <th>8</th>\n",
       "      <td>{'model__n_estimators': 15, 'model__max_depth': 5}</td>\n",
       "      <td>0.491528</td>\n",
       "      <td>0.490615</td>\n",
       "      <td>0.470737</td>\n",
       "      <td>0.482432</td>\n",
       "      <td>0.476677</td>\n",
       "      <td>0.482398</td>\n",
       "      <td>0.007995</td>\n",
       "      <td>5</td>\n",
       "    </tr>\n",
       "    <tr>\n",
       "      <th>9</th>\n",
       "      <td>{'model__n_estimators': 15, 'model__max_depth': 6}</td>\n",
       "      <td>0.468778</td>\n",
       "      <td>0.470717</td>\n",
       "      <td>0.463217</td>\n",
       "      <td>0.480939</td>\n",
       "      <td>0.459251</td>\n",
       "      <td>0.468581</td>\n",
       "      <td>0.007391</td>\n",
       "      <td>6</td>\n",
       "    </tr>\n",
       "    <tr>\n",
       "      <th>5</th>\n",
       "      <td>{'model__n_estimators': 25, 'model__max_depth': 6}</td>\n",
       "      <td>0.454005</td>\n",
       "      <td>0.470587</td>\n",
       "      <td>0.458597</td>\n",
       "      <td>0.474566</td>\n",
       "      <td>0.468352</td>\n",
       "      <td>0.465221</td>\n",
       "      <td>0.007689</td>\n",
       "      <td>7</td>\n",
       "    </tr>\n",
       "    <tr>\n",
       "      <th>4</th>\n",
       "      <td>{'model__n_estimators': 10, 'model__max_depth': 7}</td>\n",
       "      <td>0.469902</td>\n",
       "      <td>0.471545</td>\n",
       "      <td>0.459403</td>\n",
       "      <td>0.439376</td>\n",
       "      <td>0.467360</td>\n",
       "      <td>0.461517</td>\n",
       "      <td>0.011830</td>\n",
       "      <td>8</td>\n",
       "    </tr>\n",
       "    <tr>\n",
       "      <th>1</th>\n",
       "      <td>{'model__n_estimators': 20, 'model__max_depth': 7}</td>\n",
       "      <td>0.465177</td>\n",
       "      <td>0.461126</td>\n",
       "      <td>0.457545</td>\n",
       "      <td>0.442042</td>\n",
       "      <td>0.450774</td>\n",
       "      <td>0.455333</td>\n",
       "      <td>0.008158</td>\n",
       "      <td>9</td>\n",
       "    </tr>\n",
       "    <tr>\n",
       "      <th>6</th>\n",
       "      <td>{'model__n_estimators': 15, 'model__max_depth': 7}</td>\n",
       "      <td>0.467495</td>\n",
       "      <td>0.461465</td>\n",
       "      <td>0.454265</td>\n",
       "      <td>0.437842</td>\n",
       "      <td>0.446206</td>\n",
       "      <td>0.453455</td>\n",
       "      <td>0.010567</td>\n",
       "      <td>10</td>\n",
       "    </tr>\n",
       "  </tbody>\n",
       "</table>\n",
       "</div>"
      ],
      "text/plain": [
       "                                               params  split0_test_score  \\\n",
       "0  {'model__n_estimators': 15, 'model__max_depth': 2}           0.495204   \n",
       "3   {'model__n_estimators': 5, 'model__max_depth': 4}           0.476272   \n",
       "7  {'model__n_estimators': 10, 'model__max_depth': 4}           0.480008   \n",
       "2  {'model__n_estimators': 20, 'model__max_depth': 4}           0.486378   \n",
       "8  {'model__n_estimators': 15, 'model__max_depth': 5}           0.491528   \n",
       "9  {'model__n_estimators': 15, 'model__max_depth': 6}           0.468778   \n",
       "5  {'model__n_estimators': 25, 'model__max_depth': 6}           0.454005   \n",
       "4  {'model__n_estimators': 10, 'model__max_depth': 7}           0.469902   \n",
       "1  {'model__n_estimators': 20, 'model__max_depth': 7}           0.465177   \n",
       "6  {'model__n_estimators': 15, 'model__max_depth': 7}           0.467495   \n",
       "\n",
       "   split1_test_score  split2_test_score  split3_test_score  split4_test_score  \\\n",
       "0           0.505469           0.495828           0.497724           0.493431   \n",
       "3           0.494002           0.496438           0.488932           0.496722   \n",
       "7           0.500703           0.493629           0.479583           0.497327   \n",
       "2           0.505781           0.484545           0.481382           0.490981   \n",
       "8           0.490615           0.470737           0.482432           0.476677   \n",
       "9           0.470717           0.463217           0.480939           0.459251   \n",
       "5           0.470587           0.458597           0.474566           0.468352   \n",
       "4           0.471545           0.459403           0.439376           0.467360   \n",
       "1           0.461126           0.457545           0.442042           0.450774   \n",
       "6           0.461465           0.454265           0.437842           0.446206   \n",
       "\n",
       "   mean_test_score  std_test_score  rank_test_score  \n",
       "0         0.497531        0.004200                1  \n",
       "3         0.490473        0.007631                2  \n",
       "7         0.490250        0.008826                3  \n",
       "2         0.489813        0.008567                4  \n",
       "8         0.482398        0.007995                5  \n",
       "9         0.468581        0.007391                6  \n",
       "5         0.465221        0.007689                7  \n",
       "4         0.461517        0.011830                8  \n",
       "1         0.455333        0.008158                9  \n",
       "6         0.453455        0.010567               10  "
      ]
     },
     "execution_count": 55,
     "metadata": {},
     "output_type": "execute_result"
    }
   ],
   "source": [
    "pd.DataFrame(randomSearch.cv_results_).drop(['mean_fit_time','std_fit_time','mean_score_time','std_score_time',\n",
    "                                             'param_model__n_estimators','param_model__max_depth'], axis=1).sort_values('rank_test_score')\n"
   ]
  },
  {
   "cell_type": "code",
   "execution_count": null,
   "id": "5a2338fb",
   "metadata": {
    "papermill": {
     "duration": 0.121856,
     "end_time": "2022-02-15T21:36:23.509302",
     "exception": false,
     "start_time": "2022-02-15T21:36:23.387446",
     "status": "completed"
    },
    "tags": []
   },
   "outputs": [],
   "source": []
  },
  {
   "cell_type": "markdown",
   "id": "1d6f2732",
   "metadata": {
    "papermill": {
     "duration": 0.119685,
     "end_time": "2022-02-15T21:36:23.749586",
     "exception": false,
     "start_time": "2022-02-15T21:36:23.629901",
     "status": "completed"
    },
    "tags": []
   },
   "source": [
    "#### KNN classifier"
   ]
  },
  {
   "cell_type": "code",
   "execution_count": 56,
   "id": "2c02e46e",
   "metadata": {
    "execution": {
     "iopub.execute_input": "2022-02-15T21:36:23.994728Z",
     "iopub.status.busy": "2022-02-15T21:36:23.994012Z",
     "iopub.status.idle": "2022-02-15T21:36:23.997994Z",
     "shell.execute_reply": "2022-02-15T21:36:23.998591Z",
     "shell.execute_reply.started": "2022-02-15T21:02:00.388238Z"
    },
    "papermill": {
     "duration": 0.129013,
     "end_time": "2022-02-15T21:36:23.998767",
     "exception": false,
     "start_time": "2022-02-15T21:36:23.869754",
     "status": "completed"
    },
    "tags": []
   },
   "outputs": [],
   "source": [
    "pipeline = Pipeline(steps=[\n",
    "    (\"drop_cols\", drop_cols_trans),\n",
    "    (\"convert_days\", convert_days_trans),\n",
    "    (\"preprocessor\", preprocessor),\n",
    "    (\"model\", knn_clf)\n",
    "], verbose=False)"
   ]
  },
  {
   "cell_type": "code",
   "execution_count": 57,
   "id": "06b358fc",
   "metadata": {
    "execution": {
     "iopub.execute_input": "2022-02-15T21:36:24.247736Z",
     "iopub.status.busy": "2022-02-15T21:36:24.247011Z",
     "iopub.status.idle": "2022-02-15T21:36:34.386349Z",
     "shell.execute_reply": "2022-02-15T21:36:34.387218Z",
     "shell.execute_reply.started": "2022-02-15T21:02:04.371366Z"
    },
    "papermill": {
     "duration": 10.264707,
     "end_time": "2022-02-15T21:36:34.387469",
     "exception": false,
     "start_time": "2022-02-15T21:36:24.122762",
     "status": "completed"
    },
    "tags": []
   },
   "outputs": [
    {
     "name": "stdout",
     "output_type": "stream",
     "text": [
      "Cross-validation accuracy 0.4895682740803239\n",
      "Accuracy on training set 0.5315702781844802\n",
      "\n",
      "\n",
      "Cross-validation F1 score 0.48951629590778023\n",
      "F1 score on training set 0.5315470361510124\n"
     ]
    }
   ],
   "source": [
    "scoring = {'acc': 'accuracy',\n",
    "           'f1': 'f1_weighted'}\n",
    "\n",
    "cv_score= cross_validate(pipeline, X_train, y_train, scoring=scoring,cv=5)\n",
    "\n",
    "print('Cross-validation accuracy',cv_score['test_acc'].mean())\n",
    "pipeline.fit(X_train, y_train)\n",
    "print('Accuracy on training set',pipeline.score(X_train, y_train))\n",
    "\n",
    "print('\\n\\nCross-validation F1 score',cv_score['test_f1'].mean())\n",
    "\n",
    "pred_trainSet = pipeline.predict(X_train)\n",
    "print('F1 score on training set', f1_score(y_train, pred_trainSet, average='weighted'))"
   ]
  },
  {
   "cell_type": "code",
   "execution_count": 58,
   "id": "89e21429",
   "metadata": {
    "execution": {
     "iopub.execute_input": "2022-02-15T21:36:34.673989Z",
     "iopub.status.busy": "2022-02-15T21:36:34.672460Z",
     "iopub.status.idle": "2022-02-15T21:36:34.677092Z",
     "shell.execute_reply": "2022-02-15T21:36:34.677709Z",
     "shell.execute_reply.started": "2022-02-15T21:02:11.038612Z"
    },
    "papermill": {
     "duration": 0.146385,
     "end_time": "2022-02-15T21:36:34.677875",
     "exception": false,
     "start_time": "2022-02-15T21:36:34.531490",
     "status": "completed"
    },
    "tags": []
   },
   "outputs": [],
   "source": [
    "pipelines['knn_pipeline'] = pipeline"
   ]
  },
  {
   "cell_type": "code",
   "execution_count": 59,
   "id": "8865b793",
   "metadata": {
    "execution": {
     "iopub.execute_input": "2022-02-15T21:36:34.925980Z",
     "iopub.status.busy": "2022-02-15T21:36:34.924989Z",
     "iopub.status.idle": "2022-02-15T21:36:35.031250Z",
     "shell.execute_reply": "2022-02-15T21:36:35.031855Z",
     "shell.execute_reply.started": "2022-02-15T21:03:31.783232Z"
    },
    "papermill": {
     "duration": 0.232618,
     "end_time": "2022-02-15T21:36:35.032025",
     "exception": false,
     "start_time": "2022-02-15T21:36:34.799407",
     "status": "completed"
    },
    "tags": []
   },
   "outputs": [
    {
     "data": {
      "text/plain": [
       "Pipeline(steps=[('drop_cols',\n",
       "                 FunctionTransformer(func=<function drop_cols at 0x7f497a35a050>,\n",
       "                                     kw_args={'cols_to_drop': ['OCCUPATION_TYPE',\n",
       "                                                               'FLAG_MOBIL',\n",
       "                                                               'NAME_HOUSING_TYPE',\n",
       "                                                               'NAME_INCOME_TYPE',\n",
       "                                                               'NAME_EDUCATION_TYPE']})),\n",
       "                ('convert_days',\n",
       "                 FunctionTransformer(func=<function convert_days at 0x7f497a3a65f0>)),\n",
       "                ('preprocessor',\n",
       "                 ColumnTransformer(remainder='passthrough',\n",
       "                                   transformers=[('normalizer', MinMaxScaler(),\n",
       "                                                  ['YEARS_BIRTH',\n",
       "                                                   'MONTHS_EMPLOYED',\n",
       "                                                   'CNT_CHILDREN',\n",
       "                                                   'AMT_INCOME_TOTAL',\n",
       "                                                   'CNT_FAM_MEMBERS']),\n",
       "                                                 ('encoder',\n",
       "                                                  OneHotEncoder(handle_unknown='ignore',\n",
       "                                                                sparse=False),\n",
       "                                                  ['CODE_GENDER',\n",
       "                                                   'NAME_FAMILY_STATUS',\n",
       "                                                   'FLAG_OWN_CAR',\n",
       "                                                   'FLAG_OWN_REALTY'])])),\n",
       "                ('model',\n",
       "                 KNeighborsClassifier(metric='euclidean', n_neighbors=95))])"
      ]
     },
     "execution_count": 59,
     "metadata": {},
     "output_type": "execute_result"
    }
   ],
   "source": [
    "pipelines['knn_pipeline'].fit(X_train, y_train)"
   ]
  },
  {
   "cell_type": "code",
   "execution_count": 60,
   "id": "c2668e60",
   "metadata": {
    "execution": {
     "iopub.execute_input": "2022-02-15T21:36:35.278483Z",
     "iopub.status.busy": "2022-02-15T21:36:35.277505Z",
     "iopub.status.idle": "2022-02-15T21:37:53.823889Z",
     "shell.execute_reply": "2022-02-15T21:37:53.824381Z",
     "shell.execute_reply.started": "2022-02-15T20:52:46.969032Z"
    },
    "papermill": {
     "duration": 78.670537,
     "end_time": "2022-02-15T21:37:53.824555",
     "exception": false,
     "start_time": "2022-02-15T21:36:35.154018",
     "status": "completed"
    },
    "tags": []
   },
   "outputs": [
    {
     "name": "stdout",
     "output_type": "stream",
     "text": [
      "Fitting 5 folds for each of 40 candidates, totalling 200 fits\n"
     ]
    },
    {
     "name": "stderr",
     "output_type": "stream",
     "text": [
      "[Parallel(n_jobs=-1)]: Using backend LokyBackend with 4 concurrent workers.\n",
      "[Parallel(n_jobs=-1)]: Done  42 tasks      | elapsed:   13.4s\n",
      "[Parallel(n_jobs=-1)]: Done 192 tasks      | elapsed:  1.3min\n",
      "[Parallel(n_jobs=-1)]: Done 200 out of 200 | elapsed:  1.3min finished\n"
     ]
    },
    {
     "data": {
      "text/plain": [
       "RandomizedSearchCV(cv=5,\n",
       "                   estimator=Pipeline(steps=[('drop_cols',\n",
       "                                              FunctionTransformer(func=<function drop_cols at 0x7f497a35a050>,\n",
       "                                                                  kw_args={'cols_to_drop': ['OCCUPATION_TYPE',\n",
       "                                                                                            'FLAG_MOBIL',\n",
       "                                                                                            'NAME_HOUSING_TYPE',\n",
       "                                                                                            'NAME_INCOME_TYPE',\n",
       "                                                                                            'NAME_EDUCATION_TYPE']})),\n",
       "                                             ('convert_days',\n",
       "                                              FunctionTransformer(func=<function convert_days at 0x7f497a3a65f0>)),\n",
       "                                             ('preprocessor',\n",
       "                                              ColumnT...\n",
       "                                             ('model',\n",
       "                                              KNeighborsClassifier(metric='euclidean',\n",
       "                                                                   n_neighbors=95))]),\n",
       "                   n_iter=40, n_jobs=-1,\n",
       "                   param_distributions={'model__metric': ['chebyshev',\n",
       "                                                          'euclidean',\n",
       "                                                          'manhattan',\n",
       "                                                          'hamming', 'canberra',\n",
       "                                                          'braycurtis'],\n",
       "                                        'model__n_neighbors': [56, 58, 60, 65,\n",
       "                                                               70, 75, 80, 85,\n",
       "                                                               90, 95, 100, 105,\n",
       "                                                               110],\n",
       "                                        'model__weights': ['uniform',\n",
       "                                                           'distance']},\n",
       "                   random_state=0, scoring='f1_weighted', verbose=1)"
      ]
     },
     "execution_count": 60,
     "metadata": {},
     "output_type": "execute_result"
    }
   ],
   "source": [
    "#Hyperparameters tuning\n",
    "params = {'model__n_neighbors': [56,58,60,65,70,75,80,85,90,95,100,105,110],\n",
    "          'model__weights':['uniform', 'distance'],\n",
    "         'model__metric': ['chebyshev', 'euclidean','manhattan', 'hamming','canberra','braycurtis']}\n",
    "\n",
    "\n",
    "randomSearch = RandomizedSearchCV(pipeline, params, n_iter=40, scoring='f1_weighted',\n",
    "                                  cv=5,random_state=0, verbose=1, n_jobs=-1)\n",
    "\n",
    "randomSearch.fit(X_train, y_train)"
   ]
  },
  {
   "cell_type": "code",
   "execution_count": 61,
   "id": "322542fa",
   "metadata": {
    "execution": {
     "iopub.execute_input": "2022-02-15T21:37:54.075985Z",
     "iopub.status.busy": "2022-02-15T21:37:54.075389Z",
     "iopub.status.idle": "2022-02-15T21:37:54.096839Z",
     "shell.execute_reply": "2022-02-15T21:37:54.097419Z",
     "shell.execute_reply.started": "2022-02-15T20:55:39.516452Z"
    },
    "papermill": {
     "duration": 0.14961,
     "end_time": "2022-02-15T21:37:54.097582",
     "exception": false,
     "start_time": "2022-02-15T21:37:53.947972",
     "status": "completed"
    },
    "tags": []
   },
   "outputs": [
    {
     "data": {
      "text/html": [
       "<div>\n",
       "<style scoped>\n",
       "    .dataframe tbody tr th:only-of-type {\n",
       "        vertical-align: middle;\n",
       "    }\n",
       "\n",
       "    .dataframe tbody tr th {\n",
       "        vertical-align: top;\n",
       "    }\n",
       "\n",
       "    .dataframe thead th {\n",
       "        text-align: right;\n",
       "    }\n",
       "</style>\n",
       "<table border=\"1\" class=\"dataframe\">\n",
       "  <thead>\n",
       "    <tr style=\"text-align: right;\">\n",
       "      <th></th>\n",
       "      <th>params</th>\n",
       "      <th>split0_test_score</th>\n",
       "      <th>split1_test_score</th>\n",
       "      <th>split2_test_score</th>\n",
       "      <th>split3_test_score</th>\n",
       "      <th>split4_test_score</th>\n",
       "      <th>mean_test_score</th>\n",
       "      <th>std_test_score</th>\n",
       "      <th>rank_test_score</th>\n",
       "    </tr>\n",
       "  </thead>\n",
       "  <tbody>\n",
       "    <tr>\n",
       "      <th>18</th>\n",
       "      <td>{'model__weights': 'uniform', 'model__n_neighbors': 95, 'model__metric': 'euclidean'}</td>\n",
       "      <td>0.488461</td>\n",
       "      <td>0.489018</td>\n",
       "      <td>0.489016</td>\n",
       "      <td>0.482363</td>\n",
       "      <td>0.498724</td>\n",
       "      <td>0.489516</td>\n",
       "      <td>0.005245</td>\n",
       "      <td>1</td>\n",
       "    </tr>\n",
       "    <tr>\n",
       "      <th>9</th>\n",
       "      <td>{'model__weights': 'uniform', 'model__n_neighbors': 85, 'model__metric': 'euclidean'}</td>\n",
       "      <td>0.492185</td>\n",
       "      <td>0.477103</td>\n",
       "      <td>0.486672</td>\n",
       "      <td>0.482350</td>\n",
       "      <td>0.501005</td>\n",
       "      <td>0.487863</td>\n",
       "      <td>0.008234</td>\n",
       "      <td>2</td>\n",
       "    </tr>\n",
       "    <tr>\n",
       "      <th>25</th>\n",
       "      <td>{'model__weights': 'uniform', 'model__n_neighbors': 105, 'model__metric': 'braycurtis'}</td>\n",
       "      <td>0.489765</td>\n",
       "      <td>0.480739</td>\n",
       "      <td>0.478039</td>\n",
       "      <td>0.481002</td>\n",
       "      <td>0.496070</td>\n",
       "      <td>0.485123</td>\n",
       "      <td>0.006749</td>\n",
       "      <td>3</td>\n",
       "    </tr>\n",
       "    <tr>\n",
       "      <th>4</th>\n",
       "      <td>{'model__weights': 'uniform', 'model__n_neighbors': 110, 'model__metric': 'chebyshev'}</td>\n",
       "      <td>0.480916</td>\n",
       "      <td>0.486996</td>\n",
       "      <td>0.474804</td>\n",
       "      <td>0.486846</td>\n",
       "      <td>0.495583</td>\n",
       "      <td>0.485029</td>\n",
       "      <td>0.006929</td>\n",
       "      <td>4</td>\n",
       "    </tr>\n",
       "    <tr>\n",
       "      <th>30</th>\n",
       "      <td>{'model__weights': 'uniform', 'model__n_neighbors': 90, 'model__metric': 'chebyshev'}</td>\n",
       "      <td>0.477339</td>\n",
       "      <td>0.487359</td>\n",
       "      <td>0.487437</td>\n",
       "      <td>0.485684</td>\n",
       "      <td>0.485783</td>\n",
       "      <td>0.484721</td>\n",
       "      <td>0.003765</td>\n",
       "      <td>5</td>\n",
       "    </tr>\n",
       "    <tr>\n",
       "      <th>12</th>\n",
       "      <td>{'model__weights': 'uniform', 'model__n_neighbors': 60, 'model__metric': 'canberra'}</td>\n",
       "      <td>0.475893</td>\n",
       "      <td>0.487315</td>\n",
       "      <td>0.482413</td>\n",
       "      <td>0.475082</td>\n",
       "      <td>0.501000</td>\n",
       "      <td>0.484340</td>\n",
       "      <td>0.009457</td>\n",
       "      <td>6</td>\n",
       "    </tr>\n",
       "    <tr>\n",
       "      <th>27</th>\n",
       "      <td>{'model__weights': 'uniform', 'model__n_neighbors': 75, 'model__metric': 'manhattan'}</td>\n",
       "      <td>0.491751</td>\n",
       "      <td>0.480787</td>\n",
       "      <td>0.473465</td>\n",
       "      <td>0.480499</td>\n",
       "      <td>0.495193</td>\n",
       "      <td>0.484339</td>\n",
       "      <td>0.007979</td>\n",
       "      <td>7</td>\n",
       "    </tr>\n",
       "    <tr>\n",
       "      <th>21</th>\n",
       "      <td>{'model__weights': 'uniform', 'model__n_neighbors': 70, 'model__metric': 'chebyshev'}</td>\n",
       "      <td>0.481433</td>\n",
       "      <td>0.482585</td>\n",
       "      <td>0.482837</td>\n",
       "      <td>0.469897</td>\n",
       "      <td>0.499272</td>\n",
       "      <td>0.483205</td>\n",
       "      <td>0.009369</td>\n",
       "      <td>8</td>\n",
       "    </tr>\n",
       "    <tr>\n",
       "      <th>34</th>\n",
       "      <td>{'model__weights': 'uniform', 'model__n_neighbors': 105, 'model__metric': 'chebyshev'}</td>\n",
       "      <td>0.481177</td>\n",
       "      <td>0.480267</td>\n",
       "      <td>0.468414</td>\n",
       "      <td>0.487373</td>\n",
       "      <td>0.495684</td>\n",
       "      <td>0.482583</td>\n",
       "      <td>0.008974</td>\n",
       "      <td>9</td>\n",
       "    </tr>\n",
       "    <tr>\n",
       "      <th>0</th>\n",
       "      <td>{'model__weights': 'uniform', 'model__n_neighbors': 56, 'model__metric': 'euclidean'}</td>\n",
       "      <td>0.475440</td>\n",
       "      <td>0.478862</td>\n",
       "      <td>0.485781</td>\n",
       "      <td>0.479572</td>\n",
       "      <td>0.492893</td>\n",
       "      <td>0.482509</td>\n",
       "      <td>0.006172</td>\n",
       "      <td>10</td>\n",
       "    </tr>\n",
       "  </tbody>\n",
       "</table>\n",
       "</div>"
      ],
      "text/plain": [
       "                                                                                     params  \\\n",
       "18    {'model__weights': 'uniform', 'model__n_neighbors': 95, 'model__metric': 'euclidean'}   \n",
       "9     {'model__weights': 'uniform', 'model__n_neighbors': 85, 'model__metric': 'euclidean'}   \n",
       "25  {'model__weights': 'uniform', 'model__n_neighbors': 105, 'model__metric': 'braycurtis'}   \n",
       "4    {'model__weights': 'uniform', 'model__n_neighbors': 110, 'model__metric': 'chebyshev'}   \n",
       "30    {'model__weights': 'uniform', 'model__n_neighbors': 90, 'model__metric': 'chebyshev'}   \n",
       "12     {'model__weights': 'uniform', 'model__n_neighbors': 60, 'model__metric': 'canberra'}   \n",
       "27    {'model__weights': 'uniform', 'model__n_neighbors': 75, 'model__metric': 'manhattan'}   \n",
       "21    {'model__weights': 'uniform', 'model__n_neighbors': 70, 'model__metric': 'chebyshev'}   \n",
       "34   {'model__weights': 'uniform', 'model__n_neighbors': 105, 'model__metric': 'chebyshev'}   \n",
       "0     {'model__weights': 'uniform', 'model__n_neighbors': 56, 'model__metric': 'euclidean'}   \n",
       "\n",
       "    split0_test_score  split1_test_score  split2_test_score  \\\n",
       "18           0.488461           0.489018           0.489016   \n",
       "9            0.492185           0.477103           0.486672   \n",
       "25           0.489765           0.480739           0.478039   \n",
       "4            0.480916           0.486996           0.474804   \n",
       "30           0.477339           0.487359           0.487437   \n",
       "12           0.475893           0.487315           0.482413   \n",
       "27           0.491751           0.480787           0.473465   \n",
       "21           0.481433           0.482585           0.482837   \n",
       "34           0.481177           0.480267           0.468414   \n",
       "0            0.475440           0.478862           0.485781   \n",
       "\n",
       "    split3_test_score  split4_test_score  mean_test_score  std_test_score  \\\n",
       "18           0.482363           0.498724         0.489516        0.005245   \n",
       "9            0.482350           0.501005         0.487863        0.008234   \n",
       "25           0.481002           0.496070         0.485123        0.006749   \n",
       "4            0.486846           0.495583         0.485029        0.006929   \n",
       "30           0.485684           0.485783         0.484721        0.003765   \n",
       "12           0.475082           0.501000         0.484340        0.009457   \n",
       "27           0.480499           0.495193         0.484339        0.007979   \n",
       "21           0.469897           0.499272         0.483205        0.009369   \n",
       "34           0.487373           0.495684         0.482583        0.008974   \n",
       "0            0.479572           0.492893         0.482509        0.006172   \n",
       "\n",
       "    rank_test_score  \n",
       "18                1  \n",
       "9                 2  \n",
       "25                3  \n",
       "4                 4  \n",
       "30                5  \n",
       "12                6  \n",
       "27                7  \n",
       "21                8  \n",
       "34                9  \n",
       "0                10  "
      ]
     },
     "execution_count": 61,
     "metadata": {},
     "output_type": "execute_result"
    }
   ],
   "source": [
    "pd.DataFrame(randomSearch.cv_results_).drop(['mean_fit_time','std_fit_time','mean_score_time','std_score_time',\n",
    "                                             'param_model__n_neighbors','param_model__weights','param_model__metric'], axis=1)\\\n",
    "                                    .sort_values('rank_test_score').head(10)\n"
   ]
  },
  {
   "cell_type": "code",
   "execution_count": null,
   "id": "b97a5deb",
   "metadata": {
    "papermill": {
     "duration": 0.123499,
     "end_time": "2022-02-15T21:37:54.346688",
     "exception": false,
     "start_time": "2022-02-15T21:37:54.223189",
     "status": "completed"
    },
    "tags": []
   },
   "outputs": [],
   "source": []
  },
  {
   "cell_type": "markdown",
   "id": "32b0f933",
   "metadata": {
    "papermill": {
     "duration": 0.124022,
     "end_time": "2022-02-15T21:37:54.597223",
     "exception": false,
     "start_time": "2022-02-15T21:37:54.473201",
     "status": "completed"
    },
    "tags": []
   },
   "source": [
    "# Testing on the test set"
   ]
  },
  {
   "cell_type": "code",
   "execution_count": 62,
   "id": "ef01b0e0",
   "metadata": {
    "execution": {
     "iopub.execute_input": "2022-02-15T21:37:54.848384Z",
     "iopub.status.busy": "2022-02-15T21:37:54.847770Z",
     "iopub.status.idle": "2022-02-15T21:37:55.805435Z",
     "shell.execute_reply": "2022-02-15T21:37:55.804848Z",
     "shell.execute_reply.started": "2022-02-15T21:07:30.941355Z"
    },
    "papermill": {
     "duration": 1.084012,
     "end_time": "2022-02-15T21:37:55.805588",
     "exception": false,
     "start_time": "2022-02-15T21:37:54.721576",
     "status": "completed"
    },
    "tags": []
   },
   "outputs": [
    {
     "name": "stdout",
     "output_type": "stream",
     "text": [
      "Accuracy on test set 0.46010248901903367\n",
      "F1 score on test set 0.487776697393859\n"
     ]
    }
   ],
   "source": [
    "#random forest classifier\n",
    "pred_rf = pipelines['rf_pipeline'].predict(X_test)\n",
    "print('Accuracy on test set',pipeline.score(X_test, y_test))\n",
    "print('F1 score on test set', f1_score(y_test, pred_rf, average='weighted'))"
   ]
  },
  {
   "cell_type": "code",
   "execution_count": 63,
   "id": "aafdbdce",
   "metadata": {
    "execution": {
     "iopub.execute_input": "2022-02-15T21:37:56.058738Z",
     "iopub.status.busy": "2022-02-15T21:37:56.058067Z",
     "iopub.status.idle": "2022-02-15T21:37:57.713226Z",
     "shell.execute_reply": "2022-02-15T21:37:57.713705Z",
     "shell.execute_reply.started": "2022-02-15T21:08:11.097548Z"
    },
    "papermill": {
     "duration": 1.783915,
     "end_time": "2022-02-15T21:37:57.713883",
     "exception": false,
     "start_time": "2022-02-15T21:37:55.929968",
     "status": "completed"
    },
    "tags": []
   },
   "outputs": [
    {
     "name": "stdout",
     "output_type": "stream",
     "text": [
      "Accuracy on test set 0.46010248901903367\n",
      "F1 score on test set 0.4599924446916723\n"
     ]
    }
   ],
   "source": [
    "#KNN classifier\n",
    "pred_knn = pipelines['knn_pipeline'].predict(X_test)\n",
    "print('Accuracy on test set',pipeline.score(X_test, y_test))\n",
    "print('F1 score on test set', f1_score(y_test, pred_knn, average='weighted'))"
   ]
  },
  {
   "cell_type": "code",
   "execution_count": null,
   "id": "4ec6fc31",
   "metadata": {
    "papermill": {
     "duration": 0.153952,
     "end_time": "2022-02-15T21:37:58.011998",
     "exception": false,
     "start_time": "2022-02-15T21:37:57.858046",
     "status": "completed"
    },
    "tags": []
   },
   "outputs": [],
   "source": []
  },
  {
   "cell_type": "markdown",
   "id": "d275ede3",
   "metadata": {
    "papermill": {
     "duration": 0.124365,
     "end_time": "2022-02-15T21:37:58.268087",
     "exception": false,
     "start_time": "2022-02-15T21:37:58.143722",
     "status": "completed"
    },
    "tags": []
   },
   "source": [
    "#### When looking at the data, the features do not provide separation between the classes, hence the bad results of the classifiers"
   ]
  },
  {
   "cell_type": "code",
   "execution_count": 64,
   "id": "a5343398",
   "metadata": {
    "execution": {
     "iopub.execute_input": "2022-02-15T21:37:58.519452Z",
     "iopub.status.busy": "2022-02-15T21:37:58.518778Z",
     "iopub.status.idle": "2022-02-15T21:37:59.693505Z",
     "shell.execute_reply": "2022-02-15T21:37:59.692793Z",
     "shell.execute_reply.started": "2022-02-15T21:16:48.770007Z"
    },
    "papermill": {
     "duration": 1.301704,
     "end_time": "2022-02-15T21:37:59.693662",
     "exception": false,
     "start_time": "2022-02-15T21:37:58.391958",
     "status": "completed"
    },
    "tags": []
   },
   "outputs": [
    {
     "data": {
      "image/png": "[encoded data removed]",
      "text/plain": [
       "<Figure size 1584x1800 with 6 Axes>"
      ]
     },
     "metadata": {},
     "output_type": "display_data"
    }
   ],
   "source": [
    "temp_train = X_train\n",
    "temp_train['bad_client'] = y_train\n",
    "temp_train['DAYS_EMPLOYED'] = np.select(condlist=[temp_train['DAYS_EMPLOYED']<0], choicelist=[temp_train['DAYS_EMPLOYED']], default=0)\n",
    "\n",
    "names = ['CNT_CHILDREN','AMT_INCOME_TOTAL','DAYS_EMPLOYED','CNT_FAM_MEMBERS', 'DAYS_BIRTH']\n",
    "fig, axes = plt.subplots(3,2, figsize=(22,25))\n",
    "\n",
    "for i,t in enumerate(names):\n",
    "    ax = sns.boxplot(y=t, x='bad_client', data=temp_train, orient='v', ax=axes.flatten()[i] )\n"
   ]
  },
  {
   "cell_type": "code",
   "execution_count": 65,
   "id": "7dc150ea",
   "metadata": {
    "execution": {
     "iopub.execute_input": "2022-02-15T21:37:59.966706Z",
     "iopub.status.busy": "2022-02-15T21:37:59.965976Z",
     "iopub.status.idle": "2022-02-15T21:38:01.483487Z",
     "shell.execute_reply": "2022-02-15T21:38:01.484019Z",
     "shell.execute_reply.started": "2022-02-15T21:29:35.733338Z"
    },
    "papermill": {
     "duration": 1.663173,
     "end_time": "2022-02-15T21:38:01.484214",
     "exception": false,
     "start_time": "2022-02-15T21:37:59.821041",
     "status": "completed"
    },
    "tags": []
   },
   "outputs": [
    {
     "data": {
      "image/png": "[encoded data removed]",
      "text/plain": [
       "<Figure size 1296x1296 with 8 Axes>"
      ]
     },
     "metadata": {},
     "output_type": "display_data"
    }
   ],
   "source": [
    "categorical_cols = ['CODE_GENDER', 'FLAG_OWN_CAR', 'FLAG_OWN_REALTY', \n",
    "                    'NAME_FAMILY_STATUS', 'FLAG_WORK_PHONE', 'FLAG_PHONE', 'FLAG_EMAIL']\n",
    "\n",
    "figure, axes = plt.subplots(4,2, figsize=(18,18))\n",
    "axes_flatteled = axes.flatten()\n",
    "\n",
    "\n",
    "for idx, col in enumerate(categorical_cols):\n",
    "    df = pd.DataFrame(temp_train.groupby([col,'bad_client'])[col].count())\\\n",
    "            .rename(columns={col:'count'}).reset_index()\n",
    "    sns.barplot(ax=axes_flatteled[idx], x=col, y=\"count\", hue=\"bad_client\", data=df)"
   ]
  },
  {
   "cell_type": "code",
   "execution_count": null,
   "id": "0c376d50",
   "metadata": {
    "papermill": {
     "duration": 0.130852,
     "end_time": "2022-02-15T21:38:01.750779",
     "exception": false,
     "start_time": "2022-02-15T21:38:01.619927",
     "status": "completed"
    },
    "tags": []
   },
   "outputs": [],
   "source": []
  }
 ],
 "metadata": {
  "kernelspec": {
   "display_name": "Python 3",
   "language": "python",
   "name": "python3"
  },
  "language_info": {
   "codemirror_mode": {
    "name": "ipython",
    "version": 3
   },
   "file_extension": ".py",
   "mimetype": "text/x-python",
   "name": "python",
   "nbconvert_exporter": "python",
   "pygments_lexer": "ipython3",
   "version": "3.7.12"
  },
  "papermill": {
   "default_parameters": {},
   "duration": 155.782585,
   "end_time": "2022-02-15T21:38:02.898216",
   "environment_variables": {},
   "exception": null,
   "input_path": "__notebook__.ipynb",
   "output_path": "__notebook__.ipynb",
   "parameters": {},
   "start_time": "2022-02-15T21:35:27.115631",
   "version": "2.3.3"
  }
 },
 "nbformat": 4,
 "nbformat_minor": 5
}
